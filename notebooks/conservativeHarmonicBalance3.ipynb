{
 "cells": [
  {
   "cell_type": "markdown",
   "id": "3720f2eb-0b2a-4605-a226-a4ef129f597a",
   "metadata": {
    "tags": []
   },
   "source": [
    "# Conservative SDOF - Harmonic Balance (3)\n",
    "\n",
    "- Good for strongly and weakly NL systems\n",
    "- Requires significant knowledge about system studied \n",
    "- Similar to Galerkin method, but in time\n",
    "\n",
    "## Overview\n",
    "\n",
    "Assume an harmonic expansion for $x(t)$\n",
    "\n",
    "$$\n",
    "\\begin{gather*}\n",
    "     x(t) = \\sum^N_{m = 0} A_m \\cos\\left( m\\omega t + m \\beta_0\\right)\n",
    "\\end{gather*}\n",
    "$$\n",
    "\n",
    "substitute this into the EOM and enforce zero projected residual, i.e. taking the inner product with orthogonal assumption.\n",
    "\n",
    "$$\n",
    "\\begin{gather*}\n",
    "    \\left< EOM_{LHS},\\phantom{-} \\cos\\left(m\\omega t + m\\beta_0\\right) \\right> = 0\\\\\n",
    "    m = 0, 1, 2, \\cdots, N\n",
    "\\end{gather*}\n",
    "$$\n",
    "\n",
    "which is \n",
    "\n",
    "$$\n",
    "\\begin{gather*}\n",
    "    \\int_0^{\\frac{2\\pi}{\\omega} } \\left( EOM_{LHS}\\bullet \\cos\\left(m\\omega t + m\\beta_0\\right) \\right)dt\n",
    "\\end{gather*}\n",
    "$$\n",
    "\n",
    "Then we solve for $A_0, A_2, A_3, \\cdots, A_n$ and $\\omega$ in terms of $A_1$ and other system parameters. In this example we solve the following equation\n",
    "\n",
    "$$\n",
    "\\begin{gather*}\n",
    "    \\ddot{x} + \\omega_0^2 x + \\alpha_2 x^2 + \\alpha_3 x^3 = 0.\n",
    "\\end{gather*}\n",
    "$$"
   ]
  },
  {
   "cell_type": "markdown",
   "id": "a8545496-3ad5-45f3-af3f-02c0551c58a3",
   "metadata": {},
   "source": [
    "## Assumed Harmonic Expansion - up to and including $\\cos\\left(2\\left(\\omega t + \\beta \\right)\\right)$ and $\\sin\\left(2\\left(\\omega t + \\beta \\right)\\right) $ \n",
    "\n",
    "### $\\sin\\phi$ term turns out having a zero coefficient"
   ]
  },
  {
   "cell_type": "markdown",
   "id": "a34e6343-e103-4511-8900-bead2ad8ef03",
   "metadata": {},
   "source": [
    "Assume a harmonic expansion for $x(t)$ - will use this to satisfy the cubic equation, so include harmonic terms at twice the linear natrual frequency \n",
    "\n",
    "Note: phi = omega * t + beta0"
   ]
  },
  {
   "cell_type": "code",
   "execution_count": 1,
   "id": "01d4780d-c926-47ba-8e51-d16eaa4c9a49",
   "metadata": {},
   "outputs": [],
   "source": [
    "import sympy as sp\n",
    "from sympy.simplify.fu import TR4, TR7, TR8, TR11\n",
    "import numpy as np\n",
    "from itertools import combinations_with_replacement\n",
    "from math import factorial"
   ]
  },
  {
   "cell_type": "code",
   "execution_count": 37,
   "id": "8991df57-4552-4543-9d79-b6a1946530ff",
   "metadata": {},
   "outputs": [
    {
     "data": {
      "text/latex": [
       "$\\displaystyle A_{0} + A_{1} \\cos{\\left(\\phi \\right)} + A_{2} \\cos{\\left(2 \\phi \\right)} + A_{3} \\sin{\\left(2 \\phi \\right)}$"
      ],
      "text/plain": [
       "A_0 + A_1*cos(phi) + A_2*cos(2*phi) + A_3*sin(2*phi)"
      ]
     },
     "execution_count": 37,
     "metadata": {},
     "output_type": "execute_result"
    }
   ],
   "source": [
    "M = 2  # order of harmonic expansion cosine\n",
    "K = 1  # order of harmonic expansion sine\n",
    "\n",
    "Ai = sp.symbols('A_(0:' + str(M+K+1) + ')', real=True)  # coefficient A\n",
    "t, w, w0 = sp.symbols('t omega omega_0', real=True, positive=True)\n",
    "b0 = sp.Symbol('beta_0')\n",
    "\n",
    "# harmonic expansion of x(t)\n",
    "phi = sp.Symbol('phi')\n",
    "xh = sp.Function('x_h')(phi)\n",
    "xh = sum([Ai[i] * sp.cos(i * phi) for i in range(M+1)]) + Ai[3] * sp.sin(2 * phi)\n",
    "xh"
   ]
  },
  {
   "cell_type": "code",
   "execution_count": 38,
   "id": "234ff76a-9b94-4f07-bbf2-c5f77b1477b9",
   "metadata": {},
   "outputs": [
    {
     "data": {
      "text/latex": [
       "$\\displaystyle \\alpha_{2} x^{2}{\\left(\\phi \\right)} + \\alpha_{3} x^{3}{\\left(\\phi \\right)} + \\omega^{2} \\frac{d^{2}}{d \\phi^{2}} x{\\left(\\phi \\right)} + \\omega_{0}^{2} x{\\left(\\phi \\right)} = 0$"
      ],
      "text/plain": [
       "Eq(alpha_2*x(phi)**2 + alpha_3*x(phi)**3 + omega**2*Derivative(x(phi), (phi, 2)) + omega_0**2*x(phi), 0)"
      ]
     },
     "execution_count": 38,
     "metadata": {},
     "output_type": "execute_result"
    }
   ],
   "source": [
    "# Defining the EOM\n",
    "N = 3  # order of powered terms of alpha \n",
    "ai = sp.symbols('alpha_(2:' + str(N+1) + ')')\n",
    "x = sp.Function('x')(phi)\n",
    "\n",
    "# EOM\n",
    "EOM = w**2 * sp.diff(x, phi, 2) + w0**2 * x + sum([ai[i-2] * x**i for i in range(2, N+1)])\n",
    "EOM = sp.Eq(EOM, 0)\n",
    "EOM"
   ]
  },
  {
   "cell_type": "code",
   "execution_count": 39,
   "id": "0b8e2084-f53b-48eb-b92a-2cae94ead25a",
   "metadata": {},
   "outputs": [
    {
     "data": {
      "text/latex": [
       "$\\displaystyle A_{0}^{3} \\alpha_{3} + 3 A_{0}^{2} A_{1} \\alpha_{3} \\cos{\\left(\\phi \\right)} + 3 A_{0}^{2} A_{2} \\alpha_{3} \\cos{\\left(2 \\phi \\right)} + 3 A_{0}^{2} A_{3} \\alpha_{3} \\sin{\\left(2 \\phi \\right)} + A_{0}^{2} \\alpha_{2} + \\frac{3 A_{0} A_{1}^{2} \\alpha_{3} \\cos{\\left(2 \\phi \\right)}}{2} + \\frac{3 A_{0} A_{1}^{2} \\alpha_{3}}{2} + 3 A_{0} A_{1} A_{2} \\alpha_{3} \\cos{\\left(\\phi \\right)} + 3 A_{0} A_{1} A_{2} \\alpha_{3} \\cos{\\left(3 \\phi \\right)} + 3 A_{0} A_{1} A_{3} \\alpha_{3} \\sin{\\left(\\phi \\right)} + 3 A_{0} A_{1} A_{3} \\alpha_{3} \\sin{\\left(3 \\phi \\right)} + 2 A_{0} A_{1} \\alpha_{2} \\cos{\\left(\\phi \\right)} + \\frac{3 A_{0} A_{2}^{2} \\alpha_{3} \\cos{\\left(4 \\phi \\right)}}{2} + \\frac{3 A_{0} A_{2}^{2} \\alpha_{3}}{2} + 3 A_{0} A_{2} A_{3} \\alpha_{3} \\sin{\\left(4 \\phi \\right)} + 2 A_{0} A_{2} \\alpha_{2} \\cos{\\left(2 \\phi \\right)} - \\frac{3 A_{0} A_{3}^{2} \\alpha_{3} \\cos{\\left(4 \\phi \\right)}}{2} + \\frac{3 A_{0} A_{3}^{2} \\alpha_{3}}{2} + 2 A_{0} A_{3} \\alpha_{2} \\sin{\\left(2 \\phi \\right)} + A_{0} \\omega_{0}^{2} + \\frac{3 A_{1}^{3} \\alpha_{3} \\cos{\\left(\\phi \\right)}}{4} + \\frac{A_{1}^{3} \\alpha_{3} \\cos{\\left(3 \\phi \\right)}}{4} + \\frac{3 A_{1}^{2} A_{2} \\alpha_{3} \\cos{\\left(2 \\phi \\right)}}{2} + \\frac{3 A_{1}^{2} A_{2} \\alpha_{3} \\cos{\\left(4 \\phi \\right)}}{4} + \\frac{3 A_{1}^{2} A_{2} \\alpha_{3}}{4} + \\frac{3 A_{1}^{2} A_{3} \\alpha_{3} \\sin{\\left(2 \\phi \\right)}}{2} + \\frac{3 A_{1}^{2} A_{3} \\alpha_{3} \\sin{\\left(4 \\phi \\right)}}{4} + \\frac{A_{1}^{2} \\alpha_{2} \\cos{\\left(2 \\phi \\right)}}{2} + \\frac{A_{1}^{2} \\alpha_{2}}{2} + \\frac{3 A_{1} A_{2}^{2} \\alpha_{3} \\cos{\\left(\\phi \\right)}}{2} + \\frac{3 A_{1} A_{2}^{2} \\alpha_{3} \\cos{\\left(3 \\phi \\right)}}{4} + \\frac{3 A_{1} A_{2}^{2} \\alpha_{3} \\cos{\\left(5 \\phi \\right)}}{4} + \\frac{3 A_{1} A_{2} A_{3} \\alpha_{3} \\sin{\\left(3 \\phi \\right)}}{2} + \\frac{3 A_{1} A_{2} A_{3} \\alpha_{3} \\sin{\\left(5 \\phi \\right)}}{2} + A_{1} A_{2} \\alpha_{2} \\cos{\\left(\\phi \\right)} + A_{1} A_{2} \\alpha_{2} \\cos{\\left(3 \\phi \\right)} + \\frac{3 A_{1} A_{3}^{2} \\alpha_{3} \\cos{\\left(\\phi \\right)}}{2} - \\frac{3 A_{1} A_{3}^{2} \\alpha_{3} \\cos{\\left(3 \\phi \\right)}}{4} - \\frac{3 A_{1} A_{3}^{2} \\alpha_{3} \\cos{\\left(5 \\phi \\right)}}{4} + A_{1} A_{3} \\alpha_{2} \\sin{\\left(\\phi \\right)} + A_{1} A_{3} \\alpha_{2} \\sin{\\left(3 \\phi \\right)} - A_{1} \\omega^{2} \\cos{\\left(\\phi \\right)} + A_{1} \\omega_{0}^{2} \\cos{\\left(\\phi \\right)} + \\frac{3 A_{2}^{3} \\alpha_{3} \\cos{\\left(2 \\phi \\right)}}{4} + \\frac{A_{2}^{3} \\alpha_{3} \\cos{\\left(6 \\phi \\right)}}{4} + \\frac{3 A_{2}^{2} A_{3} \\alpha_{3} \\sin{\\left(2 \\phi \\right)}}{4} + \\frac{3 A_{2}^{2} A_{3} \\alpha_{3} \\sin{\\left(6 \\phi \\right)}}{4} + \\frac{A_{2}^{2} \\alpha_{2} \\cos{\\left(4 \\phi \\right)}}{2} + \\frac{A_{2}^{2} \\alpha_{2}}{2} + \\frac{3 A_{2} A_{3}^{2} \\alpha_{3} \\cos{\\left(2 \\phi \\right)}}{4} - \\frac{3 A_{2} A_{3}^{2} \\alpha_{3} \\cos{\\left(6 \\phi \\right)}}{4} + A_{2} A_{3} \\alpha_{2} \\sin{\\left(4 \\phi \\right)} - 4 A_{2} \\omega^{2} \\cos{\\left(2 \\phi \\right)} + A_{2} \\omega_{0}^{2} \\cos{\\left(2 \\phi \\right)} + \\frac{3 A_{3}^{3} \\alpha_{3} \\sin{\\left(2 \\phi \\right)}}{4} - \\frac{A_{3}^{3} \\alpha_{3} \\sin{\\left(6 \\phi \\right)}}{4} - \\frac{A_{3}^{2} \\alpha_{2} \\cos{\\left(4 \\phi \\right)}}{2} + \\frac{A_{3}^{2} \\alpha_{2}}{2} - 4 A_{3} \\omega^{2} \\sin{\\left(2 \\phi \\right)} + A_{3} \\omega_{0}^{2} \\sin{\\left(2 \\phi \\right)}$"
      ],
      "text/plain": [
       "A_0**3*alpha_3 + 3*A_0**2*A_1*alpha_3*cos(phi) + 3*A_0**2*A_2*alpha_3*cos(2*phi) + 3*A_0**2*A_3*alpha_3*sin(2*phi) + A_0**2*alpha_2 + 3*A_0*A_1**2*alpha_3*cos(2*phi)/2 + 3*A_0*A_1**2*alpha_3/2 + 3*A_0*A_1*A_2*alpha_3*cos(phi) + 3*A_0*A_1*A_2*alpha_3*cos(3*phi) + 3*A_0*A_1*A_3*alpha_3*sin(phi) + 3*A_0*A_1*A_3*alpha_3*sin(3*phi) + 2*A_0*A_1*alpha_2*cos(phi) + 3*A_0*A_2**2*alpha_3*cos(4*phi)/2 + 3*A_0*A_2**2*alpha_3/2 + 3*A_0*A_2*A_3*alpha_3*sin(4*phi) + 2*A_0*A_2*alpha_2*cos(2*phi) - 3*A_0*A_3**2*alpha_3*cos(4*phi)/2 + 3*A_0*A_3**2*alpha_3/2 + 2*A_0*A_3*alpha_2*sin(2*phi) + A_0*omega_0**2 + 3*A_1**3*alpha_3*cos(phi)/4 + A_1**3*alpha_3*cos(3*phi)/4 + 3*A_1**2*A_2*alpha_3*cos(2*phi)/2 + 3*A_1**2*A_2*alpha_3*cos(4*phi)/4 + 3*A_1**2*A_2*alpha_3/4 + 3*A_1**2*A_3*alpha_3*sin(2*phi)/2 + 3*A_1**2*A_3*alpha_3*sin(4*phi)/4 + A_1**2*alpha_2*cos(2*phi)/2 + A_1**2*alpha_2/2 + 3*A_1*A_2**2*alpha_3*cos(phi)/2 + 3*A_1*A_2**2*alpha_3*cos(3*phi)/4 + 3*A_1*A_2**2*alpha_3*cos(5*phi)/4 + 3*A_1*A_2*A_3*alpha_3*sin(3*phi)/2 + 3*A_1*A_2*A_3*alpha_3*sin(5*phi)/2 + A_1*A_2*alpha_2*cos(phi) + A_1*A_2*alpha_2*cos(3*phi) + 3*A_1*A_3**2*alpha_3*cos(phi)/2 - 3*A_1*A_3**2*alpha_3*cos(3*phi)/4 - 3*A_1*A_3**2*alpha_3*cos(5*phi)/4 + A_1*A_3*alpha_2*sin(phi) + A_1*A_3*alpha_2*sin(3*phi) - A_1*omega**2*cos(phi) + A_1*omega_0**2*cos(phi) + 3*A_2**3*alpha_3*cos(2*phi)/4 + A_2**3*alpha_3*cos(6*phi)/4 + 3*A_2**2*A_3*alpha_3*sin(2*phi)/4 + 3*A_2**2*A_3*alpha_3*sin(6*phi)/4 + A_2**2*alpha_2*cos(4*phi)/2 + A_2**2*alpha_2/2 + 3*A_2*A_3**2*alpha_3*cos(2*phi)/4 - 3*A_2*A_3**2*alpha_3*cos(6*phi)/4 + A_2*A_3*alpha_2*sin(4*phi) - 4*A_2*omega**2*cos(2*phi) + A_2*omega_0**2*cos(2*phi) + 3*A_3**3*alpha_3*sin(2*phi)/4 - A_3**3*alpha_3*sin(6*phi)/4 - A_3**2*alpha_2*cos(4*phi)/2 + A_3**2*alpha_2/2 - 4*A_3*omega**2*sin(2*phi) + A_3*omega_0**2*sin(2*phi)"
      ]
     },
     "execution_count": 39,
     "metadata": {},
     "output_type": "execute_result"
    }
   ],
   "source": [
    "# Substitute x(t) for the harmonic expansion of x(t) into EOM\n",
    "err = EOM.lhs.subs(x, xh).doit().expand()\n",
    "err = TR7(err).expand()\n",
    "err = TR8(err).expand()\n",
    "err"
   ]
  },
  {
   "cell_type": "markdown",
   "id": "3b182951-15d4-449e-9a4b-8b91f5009dea",
   "metadata": {},
   "source": [
    "Note there are terms with frequency content as high as $6\\phi$\n",
    "\n",
    "To find $A_0$, $\\omega$, $A_2$, we project the error back on the assumed expansion and set the projections to zero\n",
    "\n",
    "Note: same as setting the coefficients in front of each $\\cos(n\\phi)$ to zero for $n = 0, 1, 2$"
   ]
  },
  {
   "cell_type": "code",
   "execution_count": 45,
   "id": "53b22f3b-eb23-4696-a53c-38717e4fa63f",
   "metadata": {},
   "outputs": [],
   "source": [
    "proj_eqn = {}\n",
    "for i in range(M+1):\n",
    "    proj_eqn['eq'+str(i)] = sp.integrate(sp.expand_trig(err * sp.cos(i * phi)), (phi, 0, 2*sp.pi))\n",
    "\n",
    "proj_eqn['eq'+str(3)] = sp.integrate(sp.expand_trig(err * sp.sin(2 * phi)), (phi, 0, 2*sp.pi))"
   ]
  },
  {
   "cell_type": "code",
   "execution_count": 46,
   "id": "4c39208d-4905-4f60-9ff8-5639df295d36",
   "metadata": {},
   "outputs": [
    {
     "data": {
      "text/latex": [
       "$\\displaystyle 2 \\pi A_{0}^{3} \\alpha_{3} + 2 \\pi A_{0}^{2} \\alpha_{2} + 3 \\pi A_{0} A_{1}^{2} \\alpha_{3} + 3 \\pi A_{0} A_{2}^{2} \\alpha_{3} + 3 \\pi A_{0} A_{3}^{2} \\alpha_{3} + 2 \\pi A_{0} \\omega_{0}^{2} + \\frac{3 \\pi A_{1}^{2} A_{2} \\alpha_{3}}{2} + \\pi A_{1}^{2} \\alpha_{2} + \\pi A_{2}^{2} \\alpha_{2} + \\pi A_{3}^{2} \\alpha_{2}$"
      ],
      "text/plain": [
       "2*pi*A_0**3*alpha_3 + 2*pi*A_0**2*alpha_2 + 3*pi*A_0*A_1**2*alpha_3 + 3*pi*A_0*A_2**2*alpha_3 + 3*pi*A_0*A_3**2*alpha_3 + 2*pi*A_0*omega_0**2 + 3*pi*A_1**2*A_2*alpha_3/2 + pi*A_1**2*alpha_2 + pi*A_2**2*alpha_2 + pi*A_3**2*alpha_2"
      ]
     },
     "execution_count": 46,
     "metadata": {},
     "output_type": "execute_result"
    }
   ],
   "source": [
    "proj_eqn['eq0']"
   ]
  },
  {
   "cell_type": "code",
   "execution_count": 47,
   "id": "7fe7abef-b999-4c7f-b576-ab3849a4b5e9",
   "metadata": {},
   "outputs": [
    {
     "data": {
      "text/latex": [
       "$\\displaystyle 3 \\pi A_{0}^{2} A_{1} \\alpha_{3} + 3 \\pi A_{0} A_{1} A_{2} \\alpha_{3} + 2 \\pi A_{0} A_{1} \\alpha_{2} + \\frac{3 \\pi A_{1}^{3} \\alpha_{3}}{4} + \\frac{3 \\pi A_{1} A_{2}^{2} \\alpha_{3}}{2} + \\pi A_{1} A_{2} \\alpha_{2} + \\frac{3 \\pi A_{1} A_{3}^{2} \\alpha_{3}}{2} - \\pi A_{1} \\omega^{2} + \\pi A_{1} \\omega_{0}^{2}$"
      ],
      "text/plain": [
       "3*pi*A_0**2*A_1*alpha_3 + 3*pi*A_0*A_1*A_2*alpha_3 + 2*pi*A_0*A_1*alpha_2 + 3*pi*A_1**3*alpha_3/4 + 3*pi*A_1*A_2**2*alpha_3/2 + pi*A_1*A_2*alpha_2 + 3*pi*A_1*A_3**2*alpha_3/2 - pi*A_1*omega**2 + pi*A_1*omega_0**2"
      ]
     },
     "execution_count": 47,
     "metadata": {},
     "output_type": "execute_result"
    }
   ],
   "source": [
    "proj_eqn['eq1']"
   ]
  },
  {
   "cell_type": "code",
   "execution_count": 48,
   "id": "9d9de3b6-df00-4b07-a259-afc5503d4951",
   "metadata": {},
   "outputs": [
    {
     "data": {
      "text/latex": [
       "$\\displaystyle 3 \\pi A_{0}^{2} A_{2} \\alpha_{3} + \\frac{3 \\pi A_{0} A_{1}^{2} \\alpha_{3}}{2} + 2 \\pi A_{0} A_{2} \\alpha_{2} + \\frac{3 \\pi A_{1}^{2} A_{2} \\alpha_{3}}{2} + \\frac{\\pi A_{1}^{2} \\alpha_{2}}{2} + \\frac{3 \\pi A_{2}^{3} \\alpha_{3}}{4} + \\frac{3 \\pi A_{2} A_{3}^{2} \\alpha_{3}}{4} - 4 \\pi A_{2} \\omega^{2} + \\pi A_{2} \\omega_{0}^{2}$"
      ],
      "text/plain": [
       "3*pi*A_0**2*A_2*alpha_3 + 3*pi*A_0*A_1**2*alpha_3/2 + 2*pi*A_0*A_2*alpha_2 + 3*pi*A_1**2*A_2*alpha_3/2 + pi*A_1**2*alpha_2/2 + 3*pi*A_2**3*alpha_3/4 + 3*pi*A_2*A_3**2*alpha_3/4 - 4*pi*A_2*omega**2 + pi*A_2*omega_0**2"
      ]
     },
     "execution_count": 48,
     "metadata": {},
     "output_type": "execute_result"
    }
   ],
   "source": [
    "proj_eqn['eq2']"
   ]
  },
  {
   "cell_type": "code",
   "execution_count": 49,
   "id": "4eb36b94-70dd-4f0b-a538-659fc188f645",
   "metadata": {},
   "outputs": [
    {
     "data": {
      "text/latex": [
       "$\\displaystyle 3 \\pi A_{0}^{2} A_{3} \\alpha_{3} + 2 \\pi A_{0} A_{3} \\alpha_{2} + \\frac{3 \\pi A_{1}^{2} A_{3} \\alpha_{3}}{2} + \\frac{3 \\pi A_{2}^{2} A_{3} \\alpha_{3}}{4} + \\frac{3 \\pi A_{3}^{3} \\alpha_{3}}{4} - 4 \\pi A_{3} \\omega^{2} + \\pi A_{3} \\omega_{0}^{2}$"
      ],
      "text/plain": [
       "3*pi*A_0**2*A_3*alpha_3 + 2*pi*A_0*A_3*alpha_2 + 3*pi*A_1**2*A_3*alpha_3/2 + 3*pi*A_2**2*A_3*alpha_3/4 + 3*pi*A_3**3*alpha_3/4 - 4*pi*A_3*omega**2 + pi*A_3*omega_0**2"
      ]
     },
     "execution_count": 49,
     "metadata": {},
     "output_type": "execute_result"
    }
   ],
   "source": [
    "proj_eqn['eq3']"
   ]
  },
  {
   "cell_type": "markdown",
   "id": "ee88628e-c348-43bb-85d8-c082aed46857",
   "metadata": {},
   "source": [
    "if $A_1$ is small neglect terms with $A_0^2, A_2^2, A_0A_2, A_1^2A_0, A_0^3, A_1^2A_2, \\cdots$\n",
    "\n",
    "This is because there is the assumption of \n",
    "$$\n",
    "\\begin{gather*}\n",
    "    A_1 > A_i \\phantom{---} i = 0, 2, 3, \\cdots\n",
    "\\end{gather*}\n",
    "$$"
   ]
  },
  {
   "cell_type": "markdown",
   "id": "c76ed294-095a-46a4-908a-1725a4daeb53",
   "metadata": {},
   "source": [
    "equation 0 tells us that $A_0$ is proportional to $A_1$ squared - We have a constant term multiplying $A_0$ (in addition to others) and no $A_1$ terms but only $A_1^2$ terms."
   ]
  },
  {
   "cell_type": "code",
   "execution_count": 50,
   "id": "fe674de4-c5e4-45b3-ba92-d4fd5c8a7cab",
   "metadata": {},
   "outputs": [
    {
     "data": {
      "text/latex": [
       "$\\displaystyle A_{0} = - \\frac{A_{1}^{2} \\alpha_{2}}{2 \\omega_{0}^{2}}$"
      ],
      "text/plain": [
       "Eq(A_0, -A_1**2*alpha_2/(2*omega_0**2))"
      ]
     },
     "execution_count": 50,
     "metadata": {},
     "output_type": "execute_result"
    }
   ],
   "source": [
    "deglist = list(map(int, sp.degree_list(proj_eqn['eq0'], gens=Ai)))\n",
    "A1_deg = deglist[1]\n",
    "removing_combos = []\n",
    "Ai_ = tuple(filter(lambda A: A != Ai[1], Ai))\n",
    "\n",
    "# A1 ** n -> n can be up to O(A1**4) which is square of A1**2\n",
    "keep_terms = []\n",
    "for i in range(A1_deg+1, A1_deg**2+1):\n",
    "    temp = []\n",
    "    for j in range(i):\n",
    "        temp.append(Ai[1])\n",
    "    keep_terms.append(tuple(temp))\n",
    "\n",
    "temp = list(combinations_with_replacement(Ai_, A1_deg))\n",
    "for t in temp:\n",
    "    if t not in keep_terms:\n",
    "        removing_combos.append(t)\n",
    "    \n",
    "for i in range(A1_deg+1, max(deglist)+1):\n",
    "    temp = list(combinations_with_replacement(Ai, i))\n",
    "    for t in temp:\n",
    "        if t not in keep_terms:\n",
    "            removing_combos.append(t)\n",
    "        \n",
    "eq_copy = proj_eqn['eq0']\n",
    "for term in removing_combos:\n",
    "    eq_copy = eq_copy.subs(np.prod(term), 0)\n",
    "\n",
    "eq_copy = sp.Eq(eq_copy, 0)\n",
    "\n",
    "eq0_new = eq_copy\n",
    "eq0_ordered = eq0_new\n",
    "epsilon = sp.Symbol('epsilon')\n",
    "for A in Ai_:\n",
    "    eq0_ordered = eq0_ordered.subs(A, epsilon**A1_deg * A)\n",
    "eq0_ordered = sp.collect(eq0_ordered.subs(Ai[1], epsilon * Ai[1]).lhs, epsilon)\n",
    "eq0_ordered = sp.Eq(eq0_ordered, 0)\n",
    "\n",
    "eq_copy = sp.Eq(Ai[0], sp.solve(eq_copy, Ai[0])[0])\n",
    "eq_copy"
   ]
  },
  {
   "cell_type": "markdown",
   "id": "4c57c3ed-10cf-4941-b879-d4bf39a8a4cc",
   "metadata": {},
   "source": [
    "equation 2 tells $A_2$ is also proportional to $A_1$ squared "
   ]
  },
  {
   "cell_type": "code",
   "execution_count": 51,
   "id": "f7c7e444-b327-4487-9796-f92974e2d211",
   "metadata": {},
   "outputs": [
    {
     "data": {
      "text/latex": [
       "$\\displaystyle A_{2} = \\frac{A_{1}^{2} \\alpha_{2}}{2 \\left(4 \\omega^{2} - \\omega_{0}^{2}\\right)}$"
      ],
      "text/plain": [
       "Eq(A_2, A_1**2*alpha_2/(2*(4*omega**2 - omega_0**2)))"
      ]
     },
     "execution_count": 51,
     "metadata": {},
     "output_type": "execute_result"
    }
   ],
   "source": [
    "deglist = list(map(int, sp.degree_list(proj_eqn['eq2'], gens=Ai)))\n",
    "A1_deg = deglist[1]\n",
    "Ai_ = tuple(filter(lambda A: A != Ai[1], Ai))\n",
    "\n",
    "for i in range(A1_deg+1, max(deglist)+1):\n",
    "    temp = list(combinations_with_replacement(Ai, i))\n",
    "    for t in temp:\n",
    "        if t not in removing_combos:\n",
    "            if t not in keep_terms:\n",
    "                removing_combos.append(t)\n",
    "\n",
    "eq_copy = proj_eqn['eq2']\n",
    "for term in removing_combos:\n",
    "    eq_copy = eq_copy.subs(np.prod(term), 0)\n",
    "\n",
    "eq_copy = sp.Eq(eq_copy, 0)\n",
    "\n",
    "eq2_new = eq_copy\n",
    "eq2_ordered = eq2_new\n",
    "for A in Ai_:\n",
    "    eq2_ordered = eq2_ordered.subs(A, epsilon**A1_deg * A)\n",
    "eq2_ordered = sp.collect(eq2_ordered.subs(Ai[1], epsilon * Ai[1]).lhs, epsilon)\n",
    "eq2_ordered = sp.Eq(eq2_ordered, 0)\n",
    "\n",
    "eq_copy = sp.Eq(Ai[2], sp.solve(eq_copy, Ai[2])[0])\n",
    "eq_copy"
   ]
  },
  {
   "cell_type": "markdown",
   "id": "91c822a0-459a-474d-90c4-bbbef2038d6d",
   "metadata": {},
   "source": [
    "equation 3 tells us $A_3$ is also proportional to $A_1^2$"
   ]
  },
  {
   "cell_type": "code",
   "execution_count": 53,
   "id": "bdb12018-e539-4bc0-8ec2-ac47c3b1b8dc",
   "metadata": {},
   "outputs": [
    {
     "data": {
      "text/latex": [
       "$\\displaystyle A_{3} = 0$"
      ],
      "text/plain": [
       "Eq(A_3, 0)"
      ]
     },
     "execution_count": 53,
     "metadata": {},
     "output_type": "execute_result"
    }
   ],
   "source": [
    "deglist = list(map(int, sp.degree_list(proj_eqn['eq3'], gens=Ai)))\n",
    "A1_deg = deglist[1]\n",
    "Ai_ = tuple(filter(lambda A: A != Ai[1], Ai))\n",
    "\n",
    "for i in range(A1_deg+1, max(deglist)+1):\n",
    "    temp = list(combinations_with_replacement(Ai, i))\n",
    "    for t in temp:\n",
    "        if t not in removing_combos:\n",
    "            if t not in keep_terms:\n",
    "                removing_combos.append(t)\n",
    "\n",
    "eq_copy = proj_eqn['eq3']\n",
    "for term in removing_combos:\n",
    "    eq_copy = eq_copy.subs(np.prod(term), 0)\n",
    "\n",
    "eq_copy = sp.Eq(eq_copy, 0)\n",
    "\n",
    "eq3_new = eq_copy\n",
    "eq3_ordered = eq3_new\n",
    "for A in Ai_:\n",
    "    eq3_ordered = eq3_ordered.subs(A, epsilon**A1_deg * A)\n",
    "eq3_ordered = sp.collect(eq3_ordered.subs(Ai[1], epsilon * Ai[1]).lhs, epsilon)\n",
    "eq3_ordered = sp.Eq(eq3_ordered, 0)\n",
    "\n",
    "eq_copy = sp.Eq(Ai[3], sp.solve(eq_copy, Ai[3])[0])\n",
    "eq_copy"
   ]
  },
  {
   "cell_type": "code",
   "execution_count": 54,
   "id": "72c694b8-de65-41b2-838b-8fa036f742e5",
   "metadata": {},
   "outputs": [],
   "source": [
    "eq_copy = proj_eqn['eq1']\n",
    "for term in removing_combos:\n",
    "    eq_copy = eq_copy.subs(np.prod(term), 0)\n",
    "\n",
    "eq_copy = sp.Eq(eq_copy, 0)\n",
    "eq1_new = eq_copy\n",
    "eq1_ordered = eq1_new\n",
    "for A in Ai_:\n",
    "    eq1_ordered = eq1_ordered.subs(A, epsilon**A1_deg * A)\n",
    "eq1_ordered = sp.collect(eq1_ordered.subs(Ai[1], epsilon * Ai[1]).lhs, epsilon)\n",
    "eq1_ordered = sp.Eq(eq1_ordered, 0)"
   ]
  },
  {
   "cell_type": "markdown",
   "id": "58bfec4e-3843-4da9-91b1-ed144b370ae5",
   "metadata": {},
   "source": [
    "To facilitate the solution, we order the coefficients using epsilon and then ignore all terms quadratic and higher in $A_0$ and $A_2$ - this means we keep terms up to tand including $O(\\epsilon^3)$ -> small amplitude assumption\n",
    "\n",
    "$A_1$ is ordered at $\\epsilon$ and $A_0$ and $A_2$ are order at $\\epsilon^2$"
   ]
  },
  {
   "cell_type": "code",
   "execution_count": 55,
   "id": "9b17a8a4-9dad-4a6f-a9d4-990544e94dff",
   "metadata": {},
   "outputs": [
    {
     "data": {
      "text/latex": [
       "$\\displaystyle \\epsilon^{2} \\left(2 \\pi A_{0} \\omega_{0}^{2} + \\pi A_{1}^{2} \\alpha_{2}\\right) = 0$"
      ],
      "text/plain": [
       "Eq(epsilon**2*(2*pi*A_0*omega_0**2 + pi*A_1**2*alpha_2), 0)"
      ]
     },
     "execution_count": 55,
     "metadata": {},
     "output_type": "execute_result"
    }
   ],
   "source": [
    "# Eq0\n",
    "eq0_ordered"
   ]
  },
  {
   "cell_type": "code",
   "execution_count": 56,
   "id": "d170eb23-75e2-4574-8c89-411aff0bdb04",
   "metadata": {},
   "outputs": [
    {
     "data": {
      "text/latex": [
       "$\\displaystyle \\epsilon^{3} \\left(2 \\pi A_{0} A_{1} \\alpha_{2} + \\frac{3 \\pi A_{1}^{3} \\alpha_{3}}{4} + \\pi A_{1} A_{2} \\alpha_{2}\\right) + \\epsilon \\left(- \\pi A_{1} \\omega^{2} + \\pi A_{1} \\omega_{0}^{2}\\right) = 0$"
      ],
      "text/plain": [
       "Eq(epsilon**3*(2*pi*A_0*A_1*alpha_2 + 3*pi*A_1**3*alpha_3/4 + pi*A_1*A_2*alpha_2) + epsilon*(-pi*A_1*omega**2 + pi*A_1*omega_0**2), 0)"
      ]
     },
     "execution_count": 56,
     "metadata": {},
     "output_type": "execute_result"
    }
   ],
   "source": [
    "# Eq1 \n",
    "eq1_ordered"
   ]
  },
  {
   "cell_type": "code",
   "execution_count": 57,
   "id": "c0fbe0b3-41ed-4b89-8977-903fc6f78bb3",
   "metadata": {},
   "outputs": [
    {
     "data": {
      "text/latex": [
       "$\\displaystyle \\epsilon^{2} \\left(\\frac{\\pi A_{1}^{2} \\alpha_{2}}{2} - 4 \\pi A_{2} \\omega^{2} + \\pi A_{2} \\omega_{0}^{2}\\right) = 0$"
      ],
      "text/plain": [
       "Eq(epsilon**2*(pi*A_1**2*alpha_2/2 - 4*pi*A_2*omega**2 + pi*A_2*omega_0**2), 0)"
      ]
     },
     "execution_count": 57,
     "metadata": {},
     "output_type": "execute_result"
    }
   ],
   "source": [
    "# Eq2\n",
    "eq2_ordered"
   ]
  },
  {
   "cell_type": "code",
   "execution_count": 58,
   "id": "dd715839-a34e-4a5f-b8c8-9d77abcd1633",
   "metadata": {},
   "outputs": [
    {
     "data": {
      "text/latex": [
       "$\\displaystyle \\epsilon^{2} \\left(- 4 \\pi A_{3} \\omega^{2} + \\pi A_{3} \\omega_{0}^{2}\\right) = 0$"
      ],
      "text/plain": [
       "Eq(epsilon**2*(-4*pi*A_3*omega**2 + pi*A_3*omega_0**2), 0)"
      ]
     },
     "execution_count": 58,
     "metadata": {},
     "output_type": "execute_result"
    }
   ],
   "source": [
    "# Eq 3\n",
    "eq3_ordered"
   ]
  },
  {
   "cell_type": "code",
   "execution_count": 59,
   "id": "6761170a-05cf-4f92-9ebe-6158a79962a5",
   "metadata": {},
   "outputs": [
    {
     "data": {
      "text/latex": [
       "$\\displaystyle - \\frac{A_{1}^{2} \\alpha_{2}}{2 \\omega_{0}^{2}}$"
      ],
      "text/plain": [
       "-A_1**2*alpha_2/(2*omega_0**2)"
      ]
     },
     "execution_count": 59,
     "metadata": {},
     "output_type": "execute_result"
    }
   ],
   "source": [
    "A0_sol = sp.solve(eq0_ordered, Ai[0])[0]\n",
    "A0_sol"
   ]
  },
  {
   "cell_type": "code",
   "execution_count": 60,
   "id": "3401cc93-5fcc-440e-8aba-850c9860d49f",
   "metadata": {},
   "outputs": [
    {
     "data": {
      "text/latex": [
       "$\\displaystyle \\frac{A_{1}^{2} \\alpha_{2}}{2 \\left(4 \\omega^{2} - \\omega_{0}^{2}\\right)}$"
      ],
      "text/plain": [
       "A_1**2*alpha_2/(2*(4*omega**2 - omega_0**2))"
      ]
     },
     "execution_count": 60,
     "metadata": {},
     "output_type": "execute_result"
    }
   ],
   "source": [
    "A2_sol = sp.solve(eq2_ordered, Ai[2])[0]\n",
    "A2_sol"
   ]
  },
  {
   "cell_type": "code",
   "execution_count": 61,
   "id": "404267a6-f565-41c2-9735-21813ff32653",
   "metadata": {},
   "outputs": [
    {
     "data": {
      "text/latex": [
       "$\\displaystyle 0$"
      ],
      "text/plain": [
       "0"
      ]
     },
     "execution_count": 61,
     "metadata": {},
     "output_type": "execute_result"
    }
   ],
   "source": [
    "A3_sol = sp.solve(eq3_ordered, Ai[3])[0]\n",
    "A3_sol"
   ]
  },
  {
   "cell_type": "code",
   "execution_count": 62,
   "id": "0e5445fe-25df-4f6f-9f6d-33bd9d9de3f9",
   "metadata": {},
   "outputs": [],
   "source": [
    "eq1_ordered_update = eq1_ordered.subs([\n",
    "    (Ai[0], A0_sol), (Ai[2], A2_sol), (Ai[3], A3_sol)\n",
    "])\n",
    "omegaSol = sp.solve(eq1_ordered_update, w)"
   ]
  },
  {
   "cell_type": "code",
   "execution_count": 63,
   "id": "e213d52b-4fe2-4ac6-8c20-c009b2194216",
   "metadata": {},
   "outputs": [
    {
     "data": {
      "text/latex": [
       "$\\displaystyle - \\frac{\\sqrt{2} \\sqrt{- 4 A_{1}^{2} \\alpha_{2}^{2} \\epsilon^{2} + 3 A_{1}^{2} \\alpha_{3} \\epsilon^{2} \\omega_{0}^{2} + 5 \\omega_{0}^{4} - \\sqrt{16 A_{1}^{4} \\alpha_{2}^{4} \\epsilon^{4} - 24 A_{1}^{4} \\alpha_{2}^{2} \\alpha_{3} \\epsilon^{4} \\omega_{0}^{2} + 9 A_{1}^{4} \\alpha_{3}^{2} \\epsilon^{4} \\omega_{0}^{4} - 16 A_{1}^{2} \\alpha_{2}^{2} \\epsilon^{2} \\omega_{0}^{4} + 18 A_{1}^{2} \\alpha_{3} \\epsilon^{2} \\omega_{0}^{6} + 9 \\omega_{0}^{8}}}}{4 \\omega_{0}}$"
      ],
      "text/plain": [
       "-sqrt(2)*sqrt(-4*A_1**2*alpha_2**2*epsilon**2 + 3*A_1**2*alpha_3*epsilon**2*omega_0**2 + 5*omega_0**4 - sqrt(16*A_1**4*alpha_2**4*epsilon**4 - 24*A_1**4*alpha_2**2*alpha_3*epsilon**4*omega_0**2 + 9*A_1**4*alpha_3**2*epsilon**4*omega_0**4 - 16*A_1**2*alpha_2**2*epsilon**2*omega_0**4 + 18*A_1**2*alpha_3*epsilon**2*omega_0**6 + 9*omega_0**8))/(4*omega_0)"
      ]
     },
     "execution_count": 63,
     "metadata": {},
     "output_type": "execute_result"
    }
   ],
   "source": [
    "omegaSol[0]"
   ]
  },
  {
   "cell_type": "code",
   "execution_count": 64,
   "id": "9bc44cd5-c4a9-437a-a5ac-0ada202ec8ba",
   "metadata": {},
   "outputs": [
    {
     "data": {
      "text/latex": [
       "$\\displaystyle \\frac{\\sqrt{2} \\sqrt{- 4 A_{1}^{2} \\alpha_{2}^{2} \\epsilon^{2} + 3 A_{1}^{2} \\alpha_{3} \\epsilon^{2} \\omega_{0}^{2} + 5 \\omega_{0}^{4} - \\sqrt{16 A_{1}^{4} \\alpha_{2}^{4} \\epsilon^{4} - 24 A_{1}^{4} \\alpha_{2}^{2} \\alpha_{3} \\epsilon^{4} \\omega_{0}^{2} + 9 A_{1}^{4} \\alpha_{3}^{2} \\epsilon^{4} \\omega_{0}^{4} - 16 A_{1}^{2} \\alpha_{2}^{2} \\epsilon^{2} \\omega_{0}^{4} + 18 A_{1}^{2} \\alpha_{3} \\epsilon^{2} \\omega_{0}^{6} + 9 \\omega_{0}^{8}}}}{4 \\omega_{0}}$"
      ],
      "text/plain": [
       "sqrt(2)*sqrt(-4*A_1**2*alpha_2**2*epsilon**2 + 3*A_1**2*alpha_3*epsilon**2*omega_0**2 + 5*omega_0**4 - sqrt(16*A_1**4*alpha_2**4*epsilon**4 - 24*A_1**4*alpha_2**2*alpha_3*epsilon**4*omega_0**2 + 9*A_1**4*alpha_3**2*epsilon**4*omega_0**4 - 16*A_1**2*alpha_2**2*epsilon**2*omega_0**4 + 18*A_1**2*alpha_3*epsilon**2*omega_0**6 + 9*omega_0**8))/(4*omega_0)"
      ]
     },
     "execution_count": 64,
     "metadata": {},
     "output_type": "execute_result"
    }
   ],
   "source": [
    "omegaSol[1]"
   ]
  },
  {
   "cell_type": "code",
   "execution_count": 65,
   "id": "0c4443fb-a76d-4a22-b85c-d5c9128068ef",
   "metadata": {},
   "outputs": [
    {
     "data": {
      "text/latex": [
       "$\\displaystyle - \\frac{\\sqrt{2} \\sqrt{- 4 A_{1}^{2} \\alpha_{2}^{2} \\epsilon^{2} + 3 A_{1}^{2} \\alpha_{3} \\epsilon^{2} \\omega_{0}^{2} + 5 \\omega_{0}^{4} + \\sqrt{16 A_{1}^{4} \\alpha_{2}^{4} \\epsilon^{4} - 24 A_{1}^{4} \\alpha_{2}^{2} \\alpha_{3} \\epsilon^{4} \\omega_{0}^{2} + 9 A_{1}^{4} \\alpha_{3}^{2} \\epsilon^{4} \\omega_{0}^{4} - 16 A_{1}^{2} \\alpha_{2}^{2} \\epsilon^{2} \\omega_{0}^{4} + 18 A_{1}^{2} \\alpha_{3} \\epsilon^{2} \\omega_{0}^{6} + 9 \\omega_{0}^{8}}}}{4 \\omega_{0}}$"
      ],
      "text/plain": [
       "-sqrt(2)*sqrt(-4*A_1**2*alpha_2**2*epsilon**2 + 3*A_1**2*alpha_3*epsilon**2*omega_0**2 + 5*omega_0**4 + sqrt(16*A_1**4*alpha_2**4*epsilon**4 - 24*A_1**4*alpha_2**2*alpha_3*epsilon**4*omega_0**2 + 9*A_1**4*alpha_3**2*epsilon**4*omega_0**4 - 16*A_1**2*alpha_2**2*epsilon**2*omega_0**4 + 18*A_1**2*alpha_3*epsilon**2*omega_0**6 + 9*omega_0**8))/(4*omega_0)"
      ]
     },
     "execution_count": 65,
     "metadata": {},
     "output_type": "execute_result"
    }
   ],
   "source": [
    "omegaSol[2]"
   ]
  },
  {
   "cell_type": "code",
   "execution_count": 66,
   "id": "3d42889d-8932-411f-a507-3776067e1f06",
   "metadata": {},
   "outputs": [
    {
     "data": {
      "text/latex": [
       "$\\displaystyle \\frac{\\sqrt{2} \\sqrt{- 4 A_{1}^{2} \\alpha_{2}^{2} \\epsilon^{2} + 3 A_{1}^{2} \\alpha_{3} \\epsilon^{2} \\omega_{0}^{2} + 5 \\omega_{0}^{4} + \\sqrt{16 A_{1}^{4} \\alpha_{2}^{4} \\epsilon^{4} - 24 A_{1}^{4} \\alpha_{2}^{2} \\alpha_{3} \\epsilon^{4} \\omega_{0}^{2} + 9 A_{1}^{4} \\alpha_{3}^{2} \\epsilon^{4} \\omega_{0}^{4} - 16 A_{1}^{2} \\alpha_{2}^{2} \\epsilon^{2} \\omega_{0}^{4} + 18 A_{1}^{2} \\alpha_{3} \\epsilon^{2} \\omega_{0}^{6} + 9 \\omega_{0}^{8}}}}{4 \\omega_{0}}$"
      ],
      "text/plain": [
       "sqrt(2)*sqrt(-4*A_1**2*alpha_2**2*epsilon**2 + 3*A_1**2*alpha_3*epsilon**2*omega_0**2 + 5*omega_0**4 + sqrt(16*A_1**4*alpha_2**4*epsilon**4 - 24*A_1**4*alpha_2**2*alpha_3*epsilon**4*omega_0**2 + 9*A_1**4*alpha_3**2*epsilon**4*omega_0**4 - 16*A_1**2*alpha_2**2*epsilon**2*omega_0**4 + 18*A_1**2*alpha_3*epsilon**2*omega_0**6 + 9*omega_0**8))/(4*omega_0)"
      ]
     },
     "execution_count": 66,
     "metadata": {},
     "output_type": "execute_result"
    }
   ],
   "source": [
    "omegaSol[3]"
   ]
  },
  {
   "cell_type": "markdown",
   "id": "522b8402-5f0c-43c5-a5c8-f8d0c0a025a4",
   "metadata": {},
   "source": [
    "We are keeping up to $O(\\epsilon^4)$ only - use this to get our final expression for $\\omega$"
   ]
  },
  {
   "cell_type": "code",
   "execution_count": 67,
   "id": "0f5e2b68-33b9-4ce0-8983-671b1b8ce682",
   "metadata": {},
   "outputs": [],
   "source": [
    "# The built in sympy series command takes forever (bad algorithm) so we just implement our original Taylor series function\n",
    "def taylor(expr, var, upto):\n",
    "    res = expr.subs(var, 0)\n",
    "    dexpr = sp.diff(expr, var)\n",
    "    for n in range(1,upto+1):\n",
    "        res += dexpr.subs(var, 0) / factorial(n) * var**n\n",
    "        dexpr = sp.diff(dexpr, var)\n",
    "    return res + sp.O(var**upto)"
   ]
  },
  {
   "cell_type": "code",
   "execution_count": 68,
   "id": "2a80c273-4769-4aca-9bcd-64cfbfece528",
   "metadata": {},
   "outputs": [
    {
     "data": {
      "text/latex": [
       "$\\displaystyle - \\frac{\\omega_{0}}{2} - \\frac{\\epsilon^{2} \\left(- 4 A_{1}^{2} \\alpha_{2}^{2} + 3 A_{1}^{2} \\alpha_{3} \\omega_{0}^{2} - \\frac{- 16 A_{1}^{2} \\alpha_{2}^{2} \\omega_{0}^{4} + 18 A_{1}^{2} \\alpha_{3} \\omega_{0}^{6}}{6 \\omega_{0}^{4}}\\right)}{8 \\omega_{0}^{3}} + O\\left(\\epsilon^{4}\\right)$"
      ],
      "text/plain": [
       "-omega_0/2 - epsilon**2*(-4*A_1**2*alpha_2**2 + 3*A_1**2*alpha_3*omega_0**2 - (-16*A_1**2*alpha_2**2*omega_0**4 + 18*A_1**2*alpha_3*omega_0**6)/(6*omega_0**4))/(8*omega_0**3) + O(epsilon**4)"
      ]
     },
     "execution_count": 68,
     "metadata": {},
     "output_type": "execute_result"
    }
   ],
   "source": [
    "omega1 = taylor(omegaSol[0], epsilon, 4)\n",
    "omega1"
   ]
  },
  {
   "cell_type": "code",
   "execution_count": 69,
   "id": "0c02b10f-aa17-4315-8472-8a47f8cc1319",
   "metadata": {},
   "outputs": [
    {
     "data": {
      "text/latex": [
       "$\\displaystyle \\frac{\\omega_{0}}{2} + \\frac{\\epsilon^{2} \\left(- 4 A_{1}^{2} \\alpha_{2}^{2} + 3 A_{1}^{2} \\alpha_{3} \\omega_{0}^{2} - \\frac{- 16 A_{1}^{2} \\alpha_{2}^{2} \\omega_{0}^{4} + 18 A_{1}^{2} \\alpha_{3} \\omega_{0}^{6}}{6 \\omega_{0}^{4}}\\right)}{8 \\omega_{0}^{3}} + O\\left(\\epsilon^{4}\\right)$"
      ],
      "text/plain": [
       "omega_0/2 + epsilon**2*(-4*A_1**2*alpha_2**2 + 3*A_1**2*alpha_3*omega_0**2 - (-16*A_1**2*alpha_2**2*omega_0**4 + 18*A_1**2*alpha_3*omega_0**6)/(6*omega_0**4))/(8*omega_0**3) + O(epsilon**4)"
      ]
     },
     "execution_count": 69,
     "metadata": {},
     "output_type": "execute_result"
    }
   ],
   "source": [
    "omega2 = taylor(omegaSol[1], epsilon, 4)\n",
    "omega2"
   ]
  },
  {
   "cell_type": "code",
   "execution_count": 70,
   "id": "4d6a4903-90eb-4613-8989-ab5dd216b99f",
   "metadata": {},
   "outputs": [
    {
     "data": {
      "text/latex": [
       "$\\displaystyle - \\omega_{0} - \\frac{\\epsilon^{2} \\left(- 4 A_{1}^{2} \\alpha_{2}^{2} + 3 A_{1}^{2} \\alpha_{3} \\omega_{0}^{2} + \\frac{- 16 A_{1}^{2} \\alpha_{2}^{2} \\omega_{0}^{4} + 18 A_{1}^{2} \\alpha_{3} \\omega_{0}^{6}}{6 \\omega_{0}^{4}}\\right)}{16 \\omega_{0}^{3}} + O\\left(\\epsilon^{4}\\right)$"
      ],
      "text/plain": [
       "-omega_0 - epsilon**2*(-4*A_1**2*alpha_2**2 + 3*A_1**2*alpha_3*omega_0**2 + (-16*A_1**2*alpha_2**2*omega_0**4 + 18*A_1**2*alpha_3*omega_0**6)/(6*omega_0**4))/(16*omega_0**3) + O(epsilon**4)"
      ]
     },
     "execution_count": 70,
     "metadata": {},
     "output_type": "execute_result"
    }
   ],
   "source": [
    "omega3 = taylor(omegaSol[2], epsilon, 4)\n",
    "omega3"
   ]
  },
  {
   "cell_type": "code",
   "execution_count": 71,
   "id": "aa7e08d3-d102-453b-a065-1152df6c5321",
   "metadata": {},
   "outputs": [
    {
     "data": {
      "text/latex": [
       "$\\displaystyle \\omega_{0} + \\frac{\\epsilon^{2} \\left(- 4 A_{1}^{2} \\alpha_{2}^{2} + 3 A_{1}^{2} \\alpha_{3} \\omega_{0}^{2} + \\frac{- 16 A_{1}^{2} \\alpha_{2}^{2} \\omega_{0}^{4} + 18 A_{1}^{2} \\alpha_{3} \\omega_{0}^{6}}{6 \\omega_{0}^{4}}\\right)}{16 \\omega_{0}^{3}} + O\\left(\\epsilon^{4}\\right)$"
      ],
      "text/plain": [
       "omega_0 + epsilon**2*(-4*A_1**2*alpha_2**2 + 3*A_1**2*alpha_3*omega_0**2 + (-16*A_1**2*alpha_2**2*omega_0**4 + 18*A_1**2*alpha_3*omega_0**6)/(6*omega_0**4))/(16*omega_0**3) + O(epsilon**4)"
      ]
     },
     "execution_count": 71,
     "metadata": {},
     "output_type": "execute_result"
    }
   ],
   "source": [
    "omega4 = taylor(omegaSol[3], epsilon, 4)\n",
    "omega4"
   ]
  },
  {
   "cell_type": "markdown",
   "id": "05e8eb5b-0772-4eff-851e-802f017f35e4",
   "metadata": {},
   "source": [
    "Note: we get a spurious solution - response at $0.5 \\omega_0$ !"
   ]
  }
 ],
 "metadata": {
  "kernelspec": {
   "display_name": "Python 3 (ipykernel)",
   "language": "python",
   "name": "python3"
  },
  "language_info": {
   "codemirror_mode": {
    "name": "ipython",
    "version": 3
   },
   "file_extension": ".py",
   "mimetype": "text/x-python",
   "name": "python",
   "nbconvert_exporter": "python",
   "pygments_lexer": "ipython3",
   "version": "3.8.8"
  }
 },
 "nbformat": 4,
 "nbformat_minor": 5
}

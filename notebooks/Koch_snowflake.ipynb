{
 "cells": [
  {
   "cell_type": "markdown",
   "id": "2eeb7b46-93fa-4359-a58f-427b92cc13c9",
   "metadata": {},
   "source": [
    "# Koch Snowflake - Recursion with Turtle"
   ]
  },
  {
   "cell_type": "code",
   "execution_count": 1,
   "id": "347c1a4e-a308-439b-91a2-b45d4dfaf861",
   "metadata": {},
   "outputs": [],
   "source": [
    "import turtle"
   ]
  },
  {
   "cell_type": "code",
   "execution_count": 2,
   "id": "ea2df622-0908-4532-84cc-88cb2eca712d",
   "metadata": {},
   "outputs": [],
   "source": [
    "def koch(t, order, size):\n",
    "    if order == 0:\n",
    "        t.forward(size)\n",
    "    else:\n",
    "        for angle in [60, -120, 60, 0]:\n",
    "            koch(t, order - 1, size // 3)\n",
    "            t.left(angle)"
   ]
  },
  {
   "cell_type": "code",
   "execution_count": 3,
   "id": "adcd9d7e-e6c5-47f9-a5c0-97d6746fd625",
   "metadata": {},
   "outputs": [],
   "source": [
    "t = turtle.Turtle()\n",
    "wn = turtle.Screen()\n",
    "wn.bgcolor('black')\n",
    "wn.setup(900, 500)\n",
    "t.color('orange')\n",
    "t.pensize(3)\n",
    "t.penup()\n",
    "t.setpos(-445, 0)\n",
    "t.pendown()\n",
    "t.speed(0)\n",
    "\n",
    "size = 900\n",
    "order = 5\n",
    "koch(t, order, size)\n",
    "\n",
    "wn.exitonclick()"
   ]
  }
 ],
 "metadata": {
  "kernelspec": {
   "display_name": "Python 3 (ipykernel)",
   "language": "python",
   "name": "python3"
  },
  "language_info": {
   "codemirror_mode": {
    "name": "ipython",
    "version": 3
   },
   "file_extension": ".py",
   "mimetype": "text/x-python",
   "name": "python",
   "nbconvert_exporter": "python",
   "pygments_lexer": "ipython3",
   "version": "3.8.8"
  }
 },
 "nbformat": 4,
 "nbformat_minor": 5
}

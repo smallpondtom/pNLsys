{
 "cells": [
  {
   "cell_type": "markdown",
   "id": "c6b183e1-6585-44d3-8950-647dd4462141",
   "metadata": {},
   "source": [
    "# Conservative SDOF - Lindstedt Poincare"
   ]
  },
  {
   "cell_type": "markdown",
   "id": "7a9f269d-9351-476e-91f8-53a43e5c933d",
   "metadata": {},
   "source": [
    "The straight-forward expansion fails in part because the frequency is fixed in the expansion. Thus, secular terms arise which we cannot eliminate.\n",
    "\n",
    "$$\n",
    "\\begin{gather*}\n",
    "    \\ddot{x} + \\omega_0^2 x + \\sum_{n=2}^{\\infty} \\alpha_n x^n.\n",
    "\\end{gather*}\n",
    "$$\n",
    "\n",
    "For the Lindstedt-Poincare method we introduce a dimensionless time $\\tau$\n",
    "\n",
    "$$\n",
    "\\begin{align*}\n",
    "    \\tau &= \\omega t \\\\\n",
    "    \\dfrac{d}{dt} &= \\omega \\dfrac{d}{d\\tau}\\\\\n",
    "    \\dfrac{d^2}{dt^2} &= \\omega^2 \\dfrac{^2}{d\\tau^2}\n",
    "\\end{align*}\n",
    "$$"
   ]
  },
  {
   "cell_type": "code",
   "execution_count": 92,
   "id": "8d2ce488-8224-413b-b795-675c4ba3ee50",
   "metadata": {},
   "outputs": [],
   "source": [
    "import sympy as sp\n",
    "from sympy.simplify.fu import TR0, TR7, TR8, TR11\n",
    "from math import factorial"
   ]
  },
  {
   "cell_type": "code",
   "execution_count": 2,
   "id": "6772e140-7334-4d97-8fa3-ed3e45951a53",
   "metadata": {},
   "outputs": [
    {
     "data": {
      "text/latex": [
       "$\\displaystyle \\alpha_{2} x^{2}{\\left(\\tau \\right)} + \\alpha_{3} x^{3}{\\left(\\tau \\right)} + \\omega^{2} \\frac{d^{2}}{d \\tau^{2}} x{\\left(\\tau \\right)} + \\omega_{0}^{2} x{\\left(\\tau \\right)}$"
      ],
      "text/plain": [
       "alpha_2*x(tau)**2 + alpha_3*x(tau)**3 + omega**2*Derivative(x(tau), (tau, 2)) + omega_0**2*x(tau)"
      ]
     },
     "execution_count": 2,
     "metadata": {},
     "output_type": "execute_result"
    }
   ],
   "source": [
    "N = 3\n",
    "\n",
    "# Define the symbolic parameters\n",
    "epsilon = sp.symbols('epsilon')\n",
    "omega = sp.symbols('omega')\n",
    "omega_i = sp.symbols('omega_(0:' + str(N) + ')')\n",
    "tau = sp.symbols('tau')\n",
    "alpha_i = sp.symbols('alpha_(2:' + str(N+1) + ')')\n",
    "\n",
    "\n",
    "x = sp.Function('x')(tau)\n",
    "xdot = sp.Derivative(x, tau)\n",
    "xddot = sp.Derivative(xdot, tau)\n",
    "            \n",
    "x1 = sp.Function('x_1')(tau)\n",
    "x2 = sp.Function('x_2')(tau)\n",
    "x3 = sp.Function('x_3')(tau)\n",
    "\n",
    "# EOM\n",
    "EOM = omega**2 * xddot + omega_i[0]**2 * x + sum([alpha_i[i-2] * x**i for i in range(2,N+1)])\n",
    "EOM"
   ]
  },
  {
   "cell_type": "code",
   "execution_count": 3,
   "id": "63376cd3-3397-47c2-8530-5397c5d7e83d",
   "metadata": {},
   "outputs": [
    {
     "data": {
      "text/latex": [
       "$\\displaystyle \\epsilon^{3} \\operatorname{x_{3}}{\\left(\\tau \\right)} + \\epsilon^{2} \\operatorname{x_{2}}{\\left(\\tau \\right)} + \\epsilon \\operatorname{x_{1}}{\\left(\\tau \\right)}$"
      ],
      "text/plain": [
       "epsilon**3*x_3(tau) + epsilon**2*x_2(tau) + epsilon*x_1(tau)"
      ]
     },
     "execution_count": 3,
     "metadata": {},
     "output_type": "execute_result"
    }
   ],
   "source": [
    "x_i = (x1, x2, x3)\n",
    "x_e = sum([epsilon**i * x_i[i-1] for i in range(1,N+1)])\n",
    "x_e"
   ]
  },
  {
   "cell_type": "code",
   "execution_count": 4,
   "id": "f3beedd6-22c4-4e7f-90fa-8428476395d3",
   "metadata": {},
   "outputs": [
    {
     "data": {
      "text/latex": [
       "$\\displaystyle \\epsilon^{2} \\omega_{2} + \\epsilon \\omega_{1} + \\omega_{0}$"
      ],
      "text/plain": [
       "epsilon**2*omega_2 + epsilon*omega_1 + omega_0"
      ]
     },
     "execution_count": 4,
     "metadata": {},
     "output_type": "execute_result"
    }
   ],
   "source": [
    "_omega = sum([epsilon**i * omega_i[i] for i in range(N)])\n",
    "_omega"
   ]
  },
  {
   "cell_type": "code",
   "execution_count": 5,
   "id": "c5348c82-5395-4db7-ba30-e0c31aea12cd",
   "metadata": {},
   "outputs": [
    {
     "data": {
      "text/latex": [
       "$\\displaystyle \\alpha_{2} \\left(\\epsilon^{3} \\operatorname{x_{3}}{\\left(\\tau \\right)} + \\epsilon^{2} \\operatorname{x_{2}}{\\left(\\tau \\right)} + \\epsilon \\operatorname{x_{1}}{\\left(\\tau \\right)}\\right)^{2} + \\alpha_{3} \\left(\\epsilon^{3} \\operatorname{x_{3}}{\\left(\\tau \\right)} + \\epsilon^{2} \\operatorname{x_{2}}{\\left(\\tau \\right)} + \\epsilon \\operatorname{x_{1}}{\\left(\\tau \\right)}\\right)^{3} + \\omega_{0}^{2} \\left(\\epsilon^{3} \\operatorname{x_{3}}{\\left(\\tau \\right)} + \\epsilon^{2} \\operatorname{x_{2}}{\\left(\\tau \\right)} + \\epsilon \\operatorname{x_{1}}{\\left(\\tau \\right)}\\right) + \\left(\\epsilon^{2} \\omega_{2} + \\epsilon \\omega_{1} + \\omega_{0}\\right)^{2} \\frac{\\partial^{2}}{\\partial \\tau^{2}} \\left(\\epsilon^{3} \\operatorname{x_{3}}{\\left(\\tau \\right)} + \\epsilon^{2} \\operatorname{x_{2}}{\\left(\\tau \\right)} + \\epsilon \\operatorname{x_{1}}{\\left(\\tau \\right)}\\right)$"
      ],
      "text/plain": [
       "alpha_2*(epsilon**3*x_3(tau) + epsilon**2*x_2(tau) + epsilon*x_1(tau))**2 + alpha_3*(epsilon**3*x_3(tau) + epsilon**2*x_2(tau) + epsilon*x_1(tau))**3 + omega_0**2*(epsilon**3*x_3(tau) + epsilon**2*x_2(tau) + epsilon*x_1(tau)) + (epsilon**2*omega_2 + epsilon*omega_1 + omega_0)**2*Derivative(epsilon**3*x_3(tau) + epsilon**2*x_2(tau) + epsilon*x_1(tau), (tau, 2))"
      ]
     },
     "execution_count": 5,
     "metadata": {},
     "output_type": "execute_result"
    }
   ],
   "source": [
    "# Substitute these into the EOM\n",
    "EOM = EOM.subs([\n",
    "    (x, x_e), (omega, _omega)\n",
    "])\n",
    "EOM"
   ]
  },
  {
   "cell_type": "code",
   "execution_count": 8,
   "id": "574b9063-a18f-479f-9d3f-bd6117ded5df",
   "metadata": {},
   "outputs": [
    {
     "data": {
      "text/latex": [
       "$\\displaystyle \\alpha_{2} \\epsilon^{6} \\operatorname{x_{3}}^{2}{\\left(\\tau \\right)} + 2 \\alpha_{2} \\epsilon^{5} \\operatorname{x_{2}}{\\left(\\tau \\right)} \\operatorname{x_{3}}{\\left(\\tau \\right)} + 2 \\alpha_{2} \\epsilon^{4} \\operatorname{x_{1}}{\\left(\\tau \\right)} \\operatorname{x_{3}}{\\left(\\tau \\right)} + \\alpha_{2} \\epsilon^{4} \\operatorname{x_{2}}^{2}{\\left(\\tau \\right)} + 2 \\alpha_{2} \\epsilon^{3} \\operatorname{x_{1}}{\\left(\\tau \\right)} \\operatorname{x_{2}}{\\left(\\tau \\right)} + \\alpha_{2} \\epsilon^{2} \\operatorname{x_{1}}^{2}{\\left(\\tau \\right)} + \\alpha_{3} \\epsilon^{9} \\operatorname{x_{3}}^{3}{\\left(\\tau \\right)} + 3 \\alpha_{3} \\epsilon^{8} \\operatorname{x_{2}}{\\left(\\tau \\right)} \\operatorname{x_{3}}^{2}{\\left(\\tau \\right)} + 3 \\alpha_{3} \\epsilon^{7} \\operatorname{x_{1}}{\\left(\\tau \\right)} \\operatorname{x_{3}}^{2}{\\left(\\tau \\right)} + 3 \\alpha_{3} \\epsilon^{7} \\operatorname{x_{2}}^{2}{\\left(\\tau \\right)} \\operatorname{x_{3}}{\\left(\\tau \\right)} + 6 \\alpha_{3} \\epsilon^{6} \\operatorname{x_{1}}{\\left(\\tau \\right)} \\operatorname{x_{2}}{\\left(\\tau \\right)} \\operatorname{x_{3}}{\\left(\\tau \\right)} + \\alpha_{3} \\epsilon^{6} \\operatorname{x_{2}}^{3}{\\left(\\tau \\right)} + 3 \\alpha_{3} \\epsilon^{5} \\operatorname{x_{1}}^{2}{\\left(\\tau \\right)} \\operatorname{x_{3}}{\\left(\\tau \\right)} + 3 \\alpha_{3} \\epsilon^{5} \\operatorname{x_{1}}{\\left(\\tau \\right)} \\operatorname{x_{2}}^{2}{\\left(\\tau \\right)} + 3 \\alpha_{3} \\epsilon^{4} \\operatorname{x_{1}}^{2}{\\left(\\tau \\right)} \\operatorname{x_{2}}{\\left(\\tau \\right)} + \\alpha_{3} \\epsilon^{3} \\operatorname{x_{1}}^{3}{\\left(\\tau \\right)} + \\epsilon^{7} \\omega_{2}^{2} \\frac{d^{2}}{d \\tau^{2}} \\operatorname{x_{3}}{\\left(\\tau \\right)} + 2 \\epsilon^{6} \\omega_{1} \\omega_{2} \\frac{d^{2}}{d \\tau^{2}} \\operatorname{x_{3}}{\\left(\\tau \\right)} + \\epsilon^{6} \\omega_{2}^{2} \\frac{d^{2}}{d \\tau^{2}} \\operatorname{x_{2}}{\\left(\\tau \\right)} + 2 \\epsilon^{5} \\omega_{0} \\omega_{2} \\frac{d^{2}}{d \\tau^{2}} \\operatorname{x_{3}}{\\left(\\tau \\right)} + \\epsilon^{5} \\omega_{1}^{2} \\frac{d^{2}}{d \\tau^{2}} \\operatorname{x_{3}}{\\left(\\tau \\right)} + 2 \\epsilon^{5} \\omega_{1} \\omega_{2} \\frac{d^{2}}{d \\tau^{2}} \\operatorname{x_{2}}{\\left(\\tau \\right)} + \\epsilon^{5} \\omega_{2}^{2} \\frac{d^{2}}{d \\tau^{2}} \\operatorname{x_{1}}{\\left(\\tau \\right)} + 2 \\epsilon^{4} \\omega_{0} \\omega_{1} \\frac{d^{2}}{d \\tau^{2}} \\operatorname{x_{3}}{\\left(\\tau \\right)} + 2 \\epsilon^{4} \\omega_{0} \\omega_{2} \\frac{d^{2}}{d \\tau^{2}} \\operatorname{x_{2}}{\\left(\\tau \\right)} + \\epsilon^{4} \\omega_{1}^{2} \\frac{d^{2}}{d \\tau^{2}} \\operatorname{x_{2}}{\\left(\\tau \\right)} + 2 \\epsilon^{4} \\omega_{1} \\omega_{2} \\frac{d^{2}}{d \\tau^{2}} \\operatorname{x_{1}}{\\left(\\tau \\right)} + \\epsilon^{3} \\omega_{0}^{2} \\operatorname{x_{3}}{\\left(\\tau \\right)} + \\epsilon^{3} \\omega_{0}^{2} \\frac{d^{2}}{d \\tau^{2}} \\operatorname{x_{3}}{\\left(\\tau \\right)} + 2 \\epsilon^{3} \\omega_{0} \\omega_{1} \\frac{d^{2}}{d \\tau^{2}} \\operatorname{x_{2}}{\\left(\\tau \\right)} + 2 \\epsilon^{3} \\omega_{0} \\omega_{2} \\frac{d^{2}}{d \\tau^{2}} \\operatorname{x_{1}}{\\left(\\tau \\right)} + \\epsilon^{3} \\omega_{1}^{2} \\frac{d^{2}}{d \\tau^{2}} \\operatorname{x_{1}}{\\left(\\tau \\right)} + \\epsilon^{2} \\omega_{0}^{2} \\operatorname{x_{2}}{\\left(\\tau \\right)} + \\epsilon^{2} \\omega_{0}^{2} \\frac{d^{2}}{d \\tau^{2}} \\operatorname{x_{2}}{\\left(\\tau \\right)} + 2 \\epsilon^{2} \\omega_{0} \\omega_{1} \\frac{d^{2}}{d \\tau^{2}} \\operatorname{x_{1}}{\\left(\\tau \\right)} + \\epsilon \\omega_{0}^{2} \\operatorname{x_{1}}{\\left(\\tau \\right)} + \\epsilon \\omega_{0}^{2} \\frac{d^{2}}{d \\tau^{2}} \\operatorname{x_{1}}{\\left(\\tau \\right)}$"
      ],
      "text/plain": [
       "alpha_2*epsilon**6*x_3(tau)**2 + 2*alpha_2*epsilon**5*x_2(tau)*x_3(tau) + 2*alpha_2*epsilon**4*x_1(tau)*x_3(tau) + alpha_2*epsilon**4*x_2(tau)**2 + 2*alpha_2*epsilon**3*x_1(tau)*x_2(tau) + alpha_2*epsilon**2*x_1(tau)**2 + alpha_3*epsilon**9*x_3(tau)**3 + 3*alpha_3*epsilon**8*x_2(tau)*x_3(tau)**2 + 3*alpha_3*epsilon**7*x_1(tau)*x_3(tau)**2 + 3*alpha_3*epsilon**7*x_2(tau)**2*x_3(tau) + 6*alpha_3*epsilon**6*x_1(tau)*x_2(tau)*x_3(tau) + alpha_3*epsilon**6*x_2(tau)**3 + 3*alpha_3*epsilon**5*x_1(tau)**2*x_3(tau) + 3*alpha_3*epsilon**5*x_1(tau)*x_2(tau)**2 + 3*alpha_3*epsilon**4*x_1(tau)**2*x_2(tau) + alpha_3*epsilon**3*x_1(tau)**3 + epsilon**7*omega_2**2*Derivative(x_3(tau), (tau, 2)) + 2*epsilon**6*omega_1*omega_2*Derivative(x_3(tau), (tau, 2)) + epsilon**6*omega_2**2*Derivative(x_2(tau), (tau, 2)) + 2*epsilon**5*omega_0*omega_2*Derivative(x_3(tau), (tau, 2)) + epsilon**5*omega_1**2*Derivative(x_3(tau), (tau, 2)) + 2*epsilon**5*omega_1*omega_2*Derivative(x_2(tau), (tau, 2)) + epsilon**5*omega_2**2*Derivative(x_1(tau), (tau, 2)) + 2*epsilon**4*omega_0*omega_1*Derivative(x_3(tau), (tau, 2)) + 2*epsilon**4*omega_0*omega_2*Derivative(x_2(tau), (tau, 2)) + epsilon**4*omega_1**2*Derivative(x_2(tau), (tau, 2)) + 2*epsilon**4*omega_1*omega_2*Derivative(x_1(tau), (tau, 2)) + epsilon**3*omega_0**2*x_3(tau) + epsilon**3*omega_0**2*Derivative(x_3(tau), (tau, 2)) + 2*epsilon**3*omega_0*omega_1*Derivative(x_2(tau), (tau, 2)) + 2*epsilon**3*omega_0*omega_2*Derivative(x_1(tau), (tau, 2)) + epsilon**3*omega_1**2*Derivative(x_1(tau), (tau, 2)) + epsilon**2*omega_0**2*x_2(tau) + epsilon**2*omega_0**2*Derivative(x_2(tau), (tau, 2)) + 2*epsilon**2*omega_0*omega_1*Derivative(x_1(tau), (tau, 2)) + epsilon*omega_0**2*x_1(tau) + epsilon*omega_0**2*Derivative(x_1(tau), (tau, 2))"
      ]
     },
     "execution_count": 8,
     "metadata": {},
     "output_type": "execute_result"
    }
   ],
   "source": [
    "EOM = sp.expand(EOM).doit()\n",
    "EOM = sp.expand(EOM)\n",
    "EOM"
   ]
  },
  {
   "cell_type": "code",
   "execution_count": 9,
   "id": "e7afaf2d-ee06-49b2-802c-4732c11b5407",
   "metadata": {},
   "outputs": [
    {
     "data": {
      "text/latex": [
       "$\\displaystyle \\omega_{0}^{2} \\operatorname{x_{1}}{\\left(\\tau \\right)} + \\omega_{0}^{2} \\frac{d^{2}}{d \\tau^{2}} \\operatorname{x_{1}}{\\left(\\tau \\right)} = 0$"
      ],
      "text/plain": [
       "Eq(omega_0**2*x_1(tau) + omega_0**2*Derivative(x_1(tau), (tau, 2)), 0)"
      ]
     },
     "execution_count": 9,
     "metadata": {},
     "output_type": "execute_result"
    }
   ],
   "source": [
    "# Collect the coefficients for the epsilons \n",
    "epsilon_Eq = sp.collect(EOM, epsilon, evaluate=False)\n",
    "epsilon_1_Eq = sp.Eq(epsilon_Eq[epsilon], 0)\n",
    "epsilon_1_Eq"
   ]
  },
  {
   "cell_type": "code",
   "execution_count": 10,
   "id": "e60f4a5e-ee12-4c44-a2e2-ad1df496e82f",
   "metadata": {},
   "outputs": [
    {
     "data": {
      "text/latex": [
       "$\\displaystyle \\alpha_{2} \\operatorname{x_{1}}^{2}{\\left(\\tau \\right)} + \\omega_{0}^{2} \\operatorname{x_{2}}{\\left(\\tau \\right)} + \\omega_{0}^{2} \\frac{d^{2}}{d \\tau^{2}} \\operatorname{x_{2}}{\\left(\\tau \\right)} + 2 \\omega_{0} \\omega_{1} \\frac{d^{2}}{d \\tau^{2}} \\operatorname{x_{1}}{\\left(\\tau \\right)} = 0$"
      ],
      "text/plain": [
       "Eq(alpha_2*x_1(tau)**2 + omega_0**2*x_2(tau) + omega_0**2*Derivative(x_2(tau), (tau, 2)) + 2*omega_0*omega_1*Derivative(x_1(tau), (tau, 2)), 0)"
      ]
     },
     "execution_count": 10,
     "metadata": {},
     "output_type": "execute_result"
    }
   ],
   "source": [
    "epsilon_2_Eq = sp.Eq(epsilon_Eq[epsilon**2], 0)\n",
    "epsilon_2_Eq"
   ]
  },
  {
   "cell_type": "code",
   "execution_count": 11,
   "id": "331f0738-484e-474a-b2b2-446d9eb899fa",
   "metadata": {},
   "outputs": [
    {
     "data": {
      "text/latex": [
       "$\\displaystyle 2 \\alpha_{2} \\operatorname{x_{1}}{\\left(\\tau \\right)} \\operatorname{x_{2}}{\\left(\\tau \\right)} + \\alpha_{3} \\operatorname{x_{1}}^{3}{\\left(\\tau \\right)} + \\omega_{0}^{2} \\operatorname{x_{3}}{\\left(\\tau \\right)} + \\omega_{0}^{2} \\frac{d^{2}}{d \\tau^{2}} \\operatorname{x_{3}}{\\left(\\tau \\right)} + 2 \\omega_{0} \\omega_{1} \\frac{d^{2}}{d \\tau^{2}} \\operatorname{x_{2}}{\\left(\\tau \\right)} + 2 \\omega_{0} \\omega_{2} \\frac{d^{2}}{d \\tau^{2}} \\operatorname{x_{1}}{\\left(\\tau \\right)} + \\omega_{1}^{2} \\frac{d^{2}}{d \\tau^{2}} \\operatorname{x_{1}}{\\left(\\tau \\right)} = 0$"
      ],
      "text/plain": [
       "Eq(2*alpha_2*x_1(tau)*x_2(tau) + alpha_3*x_1(tau)**3 + omega_0**2*x_3(tau) + omega_0**2*Derivative(x_3(tau), (tau, 2)) + 2*omega_0*omega_1*Derivative(x_2(tau), (tau, 2)) + 2*omega_0*omega_2*Derivative(x_1(tau), (tau, 2)) + omega_1**2*Derivative(x_1(tau), (tau, 2)), 0)"
      ]
     },
     "execution_count": 11,
     "metadata": {},
     "output_type": "execute_result"
    }
   ],
   "source": [
    "epsilon_3_Eq = sp.Eq(epsilon_Eq[epsilon**3], 0)\n",
    "epsilon_3_Eq"
   ]
  },
  {
   "cell_type": "code",
   "execution_count": 12,
   "id": "2d0de2a3-364a-482f-a72a-e0cc8aa92cee",
   "metadata": {},
   "outputs": [
    {
     "data": {
      "text/latex": [
       "$\\displaystyle \\operatorname{x_{1}}{\\left(\\tau \\right)} = C_{1} \\sin{\\left(\\tau \\right)} + C_{2} \\cos{\\left(\\tau \\right)}$"
      ],
      "text/plain": [
       "Eq(x_1(tau), C1*sin(tau) + C2*cos(tau))"
      ]
     },
     "execution_count": 12,
     "metadata": {},
     "output_type": "execute_result"
    }
   ],
   "source": [
    "sp.dsolve(epsilon_1_Eq, x1) "
   ]
  },
  {
   "cell_type": "markdown",
   "id": "07fe8776-fa7f-4334-9db2-0c5056b1a6d3",
   "metadata": {},
   "source": [
    "Not as convenient as working with the polar form"
   ]
  },
  {
   "cell_type": "code",
   "execution_count": 13,
   "id": "163282d2-4e7d-4050-864a-24764aa024df",
   "metadata": {},
   "outputs": [
    {
     "data": {
      "text/latex": [
       "$\\displaystyle a \\cos{\\left(\\beta + \\tau \\right)}$"
      ],
      "text/plain": [
       "a*cos(beta + tau)"
      ]
     },
     "execution_count": 13,
     "metadata": {},
     "output_type": "execute_result"
    }
   ],
   "source": [
    "a = sp.symbols('a')\n",
    "beta = sp.symbols('beta')\n",
    "phi = tau + beta\n",
    "x1_polar = a * sp.cos(tau + beta)\n",
    "x1_polar"
   ]
  },
  {
   "cell_type": "markdown",
   "id": "81e32918-f160-4204-9a53-3005ad23f4d4",
   "metadata": {},
   "source": [
    "Update $\\epsilon^2$ equation "
   ]
  },
  {
   "cell_type": "code",
   "execution_count": 14,
   "id": "1c6a0ad2-b736-40cc-9a0b-238cc35e3fa5",
   "metadata": {},
   "outputs": [
    {
     "data": {
      "text/latex": [
       "$\\displaystyle \\frac{a^{2} \\alpha_{2} \\cos{\\left(2 \\beta + 2 \\tau \\right)}}{2} + \\frac{a^{2} \\alpha_{2}}{2} + \\omega_{0}^{2} \\operatorname{x_{2}}{\\left(\\tau \\right)} + \\omega_{0}^{2} \\frac{d^{2}}{d \\tau^{2}} \\operatorname{x_{2}}{\\left(\\tau \\right)} + 2 \\omega_{0} \\omega_{1} \\frac{\\partial^{2}}{\\partial \\tau^{2}} a \\cos{\\left(\\beta + \\tau \\right)} = 0$"
      ],
      "text/plain": [
       "Eq(a**2*alpha_2*cos(2*beta + 2*tau)/2 + a**2*alpha_2/2 + omega_0**2*x_2(tau) + omega_0**2*Derivative(x_2(tau), (tau, 2)) + 2*omega_0*omega_1*Derivative(a*cos(beta + tau), (tau, 2)), 0)"
      ]
     },
     "execution_count": 14,
     "metadata": {},
     "output_type": "execute_result"
    }
   ],
   "source": [
    "epsilon_2_Eq = sp.expand(TR7(epsilon_2_Eq.subs(x1, x1_polar)))\n",
    "epsilon_2_Eq"
   ]
  },
  {
   "cell_type": "markdown",
   "id": "8bc19157-c513-43cf-b7d3-166e32618ae7",
   "metadata": {},
   "source": [
    "In the equation above we can see that the $\\cos\\phi$ terms are secular which causes the approximation fail due to resonance. Therefore, we must set those terms to go to zero.\n",
    "\n",
    "$\\omega_1$ = 0"
   ]
  },
  {
   "cell_type": "code",
   "execution_count": 15,
   "id": "f0e39150-44fd-4c8e-8354-936b0aae7da4",
   "metadata": {},
   "outputs": [
    {
     "data": {
      "text/latex": [
       "$\\displaystyle \\frac{a^{2} \\alpha_{2} \\cos{\\left(2 \\beta + 2 \\tau \\right)}}{2} + \\frac{a^{2} \\alpha_{2}}{2} + \\omega_{0}^{2} \\operatorname{x_{2}}{\\left(\\tau \\right)} + \\omega_{0}^{2} \\frac{d^{2}}{d \\tau^{2}} \\operatorname{x_{2}}{\\left(\\tau \\right)} = 0$"
      ],
      "text/plain": [
       "Eq(a**2*alpha_2*cos(2*beta + 2*tau)/2 + a**2*alpha_2/2 + omega_0**2*x_2(tau) + omega_0**2*Derivative(x_2(tau), (tau, 2)), 0)"
      ]
     },
     "execution_count": 15,
     "metadata": {},
     "output_type": "execute_result"
    }
   ],
   "source": [
    "epsilon_2_Eq = epsilon_2_Eq.subs(omega_i[1], 0)\n",
    "epsilon_2_Eq"
   ]
  },
  {
   "cell_type": "code",
   "execution_count": 16,
   "id": "f0b4e4d0-cbc7-4238-9d0a-9b4bcc4f088c",
   "metadata": {},
   "outputs": [
    {
     "data": {
      "text/latex": [
       "$\\displaystyle \\operatorname{x_{2}}{\\left(\\tau \\right)} = C_{1} e^{- i \\tau} + C_{2} e^{i \\tau} + \\frac{a^{2} \\alpha_{2} \\cos{\\left(2 \\beta + 2 \\tau \\right)}}{6 \\omega_{0}^{2}} - \\frac{a^{2} \\alpha_{2}}{2 \\omega_{0}^{2}}$"
      ],
      "text/plain": [
       "Eq(x_2(tau), C1*exp(-I*tau) + C2*exp(I*tau) + a**2*alpha_2*cos(2*beta + 2*tau)/(6*omega_0**2) - a**2*alpha_2/(2*omega_0**2))"
      ]
     },
     "execution_count": 16,
     "metadata": {},
     "output_type": "execute_result"
    }
   ],
   "source": [
    "temp = sp.dsolve(epsilon_2_Eq)\n",
    "temp"
   ]
  },
  {
   "cell_type": "code",
   "execution_count": 17,
   "id": "376a395d-ace1-44bd-9a6c-13b66e447719",
   "metadata": {},
   "outputs": [
    {
     "data": {
      "text/latex": [
       "$\\displaystyle \\frac{a^{2} \\alpha_{2} \\cos{\\left(2 \\beta + 2 \\tau \\right)}}{6 \\omega_{0}^{2}} - \\frac{a^{2} \\alpha_{2}}{2 \\omega_{0}^{2}}$"
      ],
      "text/plain": [
       "a**2*alpha_2*cos(2*beta + 2*tau)/(6*omega_0**2) - a**2*alpha_2/(2*omega_0**2)"
      ]
     },
     "execution_count": 17,
     "metadata": {},
     "output_type": "execute_result"
    }
   ],
   "source": [
    "x2_p = a**2 * alpha_i[0] * sp.cos(2*phi) / 6 / omega_i[0]**2 - a**2 * alpha_i[0] / 2 / omega_i[0]**2\n",
    "x2_p"
   ]
  },
  {
   "cell_type": "markdown",
   "id": "305f065f-60d2-44b1-a023-9f49e9e98d1e",
   "metadata": {},
   "source": [
    "We only take the particular solution into consideration, and update $\\epsilon^3$ equation"
   ]
  },
  {
   "cell_type": "code",
   "execution_count": 18,
   "id": "863fb261-68fa-43dd-9026-adf89bcfab7a",
   "metadata": {},
   "outputs": [],
   "source": [
    "epsilon_3_Eq = epsilon_3_Eq.subs([\n",
    "    (omega_i[1], 0), (x1, x1_polar), (x2, x2_p)\n",
    "])"
   ]
  },
  {
   "cell_type": "code",
   "execution_count": 19,
   "id": "3207a462-4397-48ce-9987-6dd0278e3e93",
   "metadata": {},
   "outputs": [
    {
     "data": {
      "text/latex": [
       "$\\displaystyle \\frac{a^{3} \\alpha_{2}^{2} \\left(- 5 \\cos{\\left(\\beta + \\tau \\right)} + \\cos{\\left(3 \\beta + 3 \\tau \\right)}\\right)}{6 \\omega_{0}^{2}} + a^{3} \\alpha_{3} \\left(\\frac{3 \\cos{\\left(\\beta + \\tau \\right)}}{4} + \\frac{\\cos{\\left(3 \\beta + 3 \\tau \\right)}}{4}\\right) + \\omega_{0}^{2} \\operatorname{x_{3}}{\\left(\\tau \\right)} + \\omega_{0}^{2} \\frac{d^{2}}{d \\tau^{2}} \\operatorname{x_{3}}{\\left(\\tau \\right)} + 2 \\omega_{0} \\omega_{2} \\frac{\\partial^{2}}{\\partial \\tau^{2}} a \\cos{\\left(\\beta + \\tau \\right)} = 0$"
      ],
      "text/plain": [
       "Eq(a**3*alpha_2**2*(-5*cos(beta + tau) + cos(3*beta + 3*tau))/(6*omega_0**2) + a**3*alpha_3*(3*cos(beta + tau)/4 + cos(3*beta + 3*tau)/4) + omega_0**2*x_3(tau) + omega_0**2*Derivative(x_3(tau), (tau, 2)) + 2*omega_0*omega_2*Derivative(a*cos(beta + tau), (tau, 2)), 0)"
      ]
     },
     "execution_count": 19,
     "metadata": {},
     "output_type": "execute_result"
    }
   ],
   "source": [
    "epsilon_3_Eq = TR8(epsilon_3_Eq)\n",
    "epsilon_3_Eq"
   ]
  },
  {
   "cell_type": "markdown",
   "id": "ade49868-8705-4a3f-beb2-c06ffe67ea5f",
   "metadata": {},
   "source": [
    "We remove the secular term by setting\n",
    "\n",
    "$$\n",
    "\\begin{gather*}\n",
    "    \\omega_2 = \\dfrac{(9 \\alpha_3 \\omega^2_0 - 10 \\alpha_2^2) a^2}{24\\omega_0^3}\n",
    "\\end{gather*}\n",
    "$$"
   ]
  },
  {
   "cell_type": "code",
   "execution_count": 21,
   "id": "61422510-d3f2-4c66-b639-706c2ed7bb3b",
   "metadata": {},
   "outputs": [
    {
     "data": {
      "text/latex": [
       "$\\displaystyle \\frac{a^{2} \\epsilon^{2} \\left(- 10 \\alpha_{2}^{2} + 9 \\alpha_{3} \\omega_{0}^{2}\\right)}{24 \\omega_{0}^{3}} + \\omega_{0}$"
      ],
      "text/plain": [
       "a**2*epsilon**2*(-10*alpha_2**2 + 9*alpha_3*omega_0**2)/(24*omega_0**3) + omega_0"
      ]
     },
     "execution_count": 21,
     "metadata": {},
     "output_type": "execute_result"
    }
   ],
   "source": [
    "omega_2_new = (9 * alpha_i[1] * omega_i[0]**2 - 10 * alpha_i[0]**2) * a**2 / 24 / omega_i[0]**3\n",
    "omega = omega_i[0] + epsilon**2 *  omega_2_new\n",
    "omega"
   ]
  },
  {
   "cell_type": "code",
   "execution_count": 22,
   "id": "64ea5920-295e-4c9b-9ed2-646a2c9202ab",
   "metadata": {},
   "outputs": [
    {
     "data": {
      "text/latex": [
       "$\\displaystyle a \\epsilon \\cos{\\left(\\beta + t \\left(\\frac{a^{2} \\epsilon^{2} \\left(- 10 \\alpha_{2}^{2} + 9 \\alpha_{3} \\omega_{0}^{2}\\right)}{24 \\omega_{0}^{3}} + \\omega_{0}\\right) \\right)}$"
      ],
      "text/plain": [
       "a*epsilon*cos(beta + t*(a**2*epsilon**2*(-10*alpha_2**2 + 9*alpha_3*omega_0**2)/(24*omega_0**3) + omega_0))"
      ]
     },
     "execution_count": 22,
     "metadata": {},
     "output_type": "execute_result"
    }
   ],
   "source": [
    "t = sp.symbols('t')\n",
    "x_new = epsilon * a * sp.cos(omega * t + beta)\n",
    "x_new"
   ]
  },
  {
   "cell_type": "markdown",
   "id": "bf9426d1-326b-43fb-a628-cec544fc6830",
   "metadata": {},
   "source": [
    "We can find $x_3(t)$ after this, but we do not have to. This is because we will \"reconstitute\" the solution to $O(\\epsilon^3)$\n",
    "\n",
    "$$\n",
    "\\begin{align*}\n",
    "    \\begin{cases}\n",
    "        x &= \\epsilon x_1 + \\epsilon^2 x_2 + O(\\epsilon^3)\\\\\n",
    "        \\omega &= \\omega_0 + \\epsilon \\omega_1 + \\epsilon^2 \\omega_2 + O(\\epsilon^3)\\\\\n",
    "        \\tau &= \\omega t \n",
    "    \\end{cases}\n",
    "\\end{align*}\n",
    "$$"
   ]
  },
  {
   "cell_type": "code",
   "execution_count": 40,
   "id": "3858382f-329b-4e9b-80e5-ea8981ebfa69",
   "metadata": {},
   "outputs": [
    {
     "data": {
      "text/latex": [
       "$\\displaystyle a_{0} \\epsilon \\cos{\\left(\\beta_{0} \\right)}$"
      ],
      "text/plain": [
       "a_0*epsilon*cos(beta_0)"
      ]
     },
     "execution_count": 40,
     "metadata": {},
     "output_type": "execute_result"
    }
   ],
   "source": [
    "# Imposing provided initial conditions \n",
    "a0 = sp.symbols('a_0', real=True, positive=True)\n",
    "beta0 = sp.symbols('beta_0', real=True, positive=True)\n",
    "\n",
    "x0 = epsilon * a0 * sp.cos(beta0)\n",
    "x0"
   ]
  },
  {
   "cell_type": "code",
   "execution_count": 41,
   "id": "15416c16-2466-4582-8709-3f3f0d37bfc1",
   "metadata": {},
   "outputs": [
    {
     "data": {
      "text/latex": [
       "$\\displaystyle - a_{0} \\epsilon \\sin{\\left(\\beta_{0} \\right)}$"
      ],
      "text/plain": [
       "-a_0*epsilon*sin(beta_0)"
      ]
     },
     "execution_count": 41,
     "metadata": {},
     "output_type": "execute_result"
    }
   ],
   "source": [
    "xdot0 = -epsilon * a0 * sp.sin(beta0)\n",
    "xdot0"
   ]
  },
  {
   "cell_type": "markdown",
   "id": "8985cd19-7fbb-42c4-a22b-9c65273e0437",
   "metadata": {},
   "source": [
    "Expand the $x_1$ homogeneous coefficients"
   ]
  },
  {
   "cell_type": "code",
   "execution_count": 42,
   "id": "9e9428b4-4d08-4aa0-bc91-7580b29428b0",
   "metadata": {},
   "outputs": [
    {
     "data": {
      "text/latex": [
       "$\\displaystyle A_{1} + A_{2} \\epsilon + A_{3} \\epsilon^{2}$"
      ],
      "text/plain": [
       "A_1 + A_2*epsilon + A_3*epsilon**2"
      ]
     },
     "execution_count": 42,
     "metadata": {},
     "output_type": "execute_result"
    }
   ],
   "source": [
    "A_i = sp.symbols('A_(1:' + str(N+1) + ')')\n",
    "B_i = sp.symbols('B_(1:' + str(N+1) + ')')\n",
    "\n",
    "a_i = sum([epsilon ** i * A_i[i] for i in range(N)])\n",
    "a_i"
   ]
  },
  {
   "cell_type": "code",
   "execution_count": 43,
   "id": "32ced38c-f0b1-4bb2-b7cc-23befdb5a3f2",
   "metadata": {},
   "outputs": [
    {
     "data": {
      "text/latex": [
       "$\\displaystyle B_{1} + B_{2} \\epsilon + B_{3} \\epsilon^{2}$"
      ],
      "text/plain": [
       "B_1 + B_2*epsilon + B_3*epsilon**2"
      ]
     },
     "execution_count": 43,
     "metadata": {},
     "output_type": "execute_result"
    }
   ],
   "source": [
    "beta_i = sum([epsilon ** i * B_i[i] for i in range(N)])\n",
    "beta_i"
   ]
  },
  {
   "cell_type": "markdown",
   "id": "2577f961-7865-4dc4-9f6b-01541de02021",
   "metadata": {},
   "source": [
    "Establish the expansion for $\\omega$ (found during the Lindstedt-Poincare analysis)"
   ]
  },
  {
   "cell_type": "code",
   "execution_count": 44,
   "id": "f88efdfb-187e-40e1-8f01-709568a9625a",
   "metadata": {},
   "outputs": [
    {
     "data": {
      "text/latex": [
       "$\\displaystyle \\frac{\\epsilon^{2} \\left(- 10 \\alpha_{2}^{2} + 9 \\alpha_{3} \\omega_{0}^{2}\\right) \\left(A_{1} + A_{2} \\epsilon + A_{3} \\epsilon^{2}\\right)^{2}}{24 \\omega_{0}^{3}} + \\omega_{0}$"
      ],
      "text/plain": [
       "epsilon**2*(-10*alpha_2**2 + 9*alpha_3*omega_0**2)*(A_1 + A_2*epsilon + A_3*epsilon**2)**2/(24*omega_0**3) + omega_0"
      ]
     },
     "execution_count": 44,
     "metadata": {},
     "output_type": "execute_result"
    }
   ],
   "source": [
    "omega = omega.subs(a, a_i)\n",
    "omega"
   ]
  },
  {
   "cell_type": "markdown",
   "id": "e083a0a0-63fa-4a54-b50f-b92c15dc9d55",
   "metadata": {},
   "source": [
    "Establish the expansion for $x$ (found during the Lindstedt-Poincare analysis)"
   ]
  },
  {
   "cell_type": "code",
   "execution_count": 45,
   "id": "2ac8da28-d0e8-4654-a09a-cbe936dfe12d",
   "metadata": {},
   "outputs": [],
   "source": [
    "x1_new = a_i * sp.cos(omega * t + beta_i) \n",
    "x2_new = x2_p.subs([   \n",
    "    (tau, omega * t), (a, a_i), (beta, beta_i)\n",
    "])\n",
    "x_new = epsilon * x1_new + epsilon ** 2 * x2_new"
   ]
  },
  {
   "cell_type": "code",
   "execution_count": 46,
   "id": "1dd0e5e8-4a52-4468-92f6-554fcd4785d7",
   "metadata": {},
   "outputs": [
    {
     "data": {
      "text/latex": [
       "$\\displaystyle \\epsilon^{2} \\left(\\frac{\\alpha_{2} \\left(A_{1} + A_{2} \\epsilon + A_{3} \\epsilon^{2}\\right)^{2} \\cos{\\left(2 B_{1} + 2 B_{2} \\epsilon + 2 B_{3} \\epsilon^{2} + 2 t \\left(\\frac{\\epsilon^{2} \\left(- 10 \\alpha_{2}^{2} + 9 \\alpha_{3} \\omega_{0}^{2}\\right) \\left(A_{1} + A_{2} \\epsilon + A_{3} \\epsilon^{2}\\right)^{2}}{24 \\omega_{0}^{3}} + \\omega_{0}\\right) \\right)}}{6 \\omega_{0}^{2}} - \\frac{\\alpha_{2} \\left(A_{1} + A_{2} \\epsilon + A_{3} \\epsilon^{2}\\right)^{2}}{2 \\omega_{0}^{2}}\\right) + \\epsilon \\left(A_{1} + A_{2} \\epsilon + A_{3} \\epsilon^{2}\\right) \\cos{\\left(B_{1} + B_{2} \\epsilon + B_{3} \\epsilon^{2} + t \\left(\\frac{\\epsilon^{2} \\left(- 10 \\alpha_{2}^{2} + 9 \\alpha_{3} \\omega_{0}^{2}\\right) \\left(A_{1} + A_{2} \\epsilon + A_{3} \\epsilon^{2}\\right)^{2}}{24 \\omega_{0}^{3}} + \\omega_{0}\\right) \\right)}$"
      ],
      "text/plain": [
       "epsilon**2*(alpha_2*(A_1 + A_2*epsilon + A_3*epsilon**2)**2*cos(2*B_1 + 2*B_2*epsilon + 2*B_3*epsilon**2 + 2*t*(epsilon**2*(-10*alpha_2**2 + 9*alpha_3*omega_0**2)*(A_1 + A_2*epsilon + A_3*epsilon**2)**2/(24*omega_0**3) + omega_0))/(6*omega_0**2) - alpha_2*(A_1 + A_2*epsilon + A_3*epsilon**2)**2/(2*omega_0**2)) + epsilon*(A_1 + A_2*epsilon + A_3*epsilon**2)*cos(B_1 + B_2*epsilon + B_3*epsilon**2 + t*(epsilon**2*(-10*alpha_2**2 + 9*alpha_3*omega_0**2)*(A_1 + A_2*epsilon + A_3*epsilon**2)**2/(24*omega_0**3) + omega_0))"
      ]
     },
     "execution_count": 46,
     "metadata": {},
     "output_type": "execute_result"
    }
   ],
   "source": [
    "x_new"
   ]
  },
  {
   "cell_type": "code",
   "execution_count": 47,
   "id": "53572418-2f24-4c0c-84ce-a2ed57eacd2b",
   "metadata": {},
   "outputs": [
    {
     "data": {
      "text/latex": [
       "$\\displaystyle - \\frac{\\alpha_{2} \\epsilon^{2} \\left(\\frac{\\epsilon^{2} \\left(- 10 \\alpha_{2}^{2} + 9 \\alpha_{3} \\omega_{0}^{2}\\right) \\left(A_{1} + A_{2} \\epsilon + A_{3} \\epsilon^{2}\\right)^{2}}{12 \\omega_{0}^{3}} + 2 \\omega_{0}\\right) \\left(A_{1} + A_{2} \\epsilon + A_{3} \\epsilon^{2}\\right)^{2} \\sin{\\left(2 B_{1} + 2 B_{2} \\epsilon + 2 B_{3} \\epsilon^{2} + 2 t \\left(\\frac{\\epsilon^{2} \\left(- 10 \\alpha_{2}^{2} + 9 \\alpha_{3} \\omega_{0}^{2}\\right) \\left(A_{1} + A_{2} \\epsilon + A_{3} \\epsilon^{2}\\right)^{2}}{24 \\omega_{0}^{3}} + \\omega_{0}\\right) \\right)}}{6 \\omega_{0}^{2}} - \\epsilon \\left(\\frac{\\epsilon^{2} \\left(- 10 \\alpha_{2}^{2} + 9 \\alpha_{3} \\omega_{0}^{2}\\right) \\left(A_{1} + A_{2} \\epsilon + A_{3} \\epsilon^{2}\\right)^{2}}{24 \\omega_{0}^{3}} + \\omega_{0}\\right) \\left(A_{1} + A_{2} \\epsilon + A_{3} \\epsilon^{2}\\right) \\sin{\\left(B_{1} + B_{2} \\epsilon + B_{3} \\epsilon^{2} + t \\left(\\frac{\\epsilon^{2} \\left(- 10 \\alpha_{2}^{2} + 9 \\alpha_{3} \\omega_{0}^{2}\\right) \\left(A_{1} + A_{2} \\epsilon + A_{3} \\epsilon^{2}\\right)^{2}}{24 \\omega_{0}^{3}} + \\omega_{0}\\right) \\right)}$"
      ],
      "text/plain": [
       "-alpha_2*epsilon**2*(epsilon**2*(-10*alpha_2**2 + 9*alpha_3*omega_0**2)*(A_1 + A_2*epsilon + A_3*epsilon**2)**2/(12*omega_0**3) + 2*omega_0)*(A_1 + A_2*epsilon + A_3*epsilon**2)**2*sin(2*B_1 + 2*B_2*epsilon + 2*B_3*epsilon**2 + 2*t*(epsilon**2*(-10*alpha_2**2 + 9*alpha_3*omega_0**2)*(A_1 + A_2*epsilon + A_3*epsilon**2)**2/(24*omega_0**3) + omega_0))/(6*omega_0**2) - epsilon*(epsilon**2*(-10*alpha_2**2 + 9*alpha_3*omega_0**2)*(A_1 + A_2*epsilon + A_3*epsilon**2)**2/(24*omega_0**3) + omega_0)*(A_1 + A_2*epsilon + A_3*epsilon**2)*sin(B_1 + B_2*epsilon + B_3*epsilon**2 + t*(epsilon**2*(-10*alpha_2**2 + 9*alpha_3*omega_0**2)*(A_1 + A_2*epsilon + A_3*epsilon**2)**2/(24*omega_0**3) + omega_0))"
      ]
     },
     "execution_count": 47,
     "metadata": {},
     "output_type": "execute_result"
    }
   ],
   "source": [
    "xdot_new = sp.diff(x_new, t)\n",
    "xdot_new"
   ]
  },
  {
   "cell_type": "markdown",
   "id": "1f2fcec0-1d76-4ab8-ba5e-062a6ece705d",
   "metadata": {},
   "source": [
    "For IC analysis, taylor $x$ and $\\dot{x}$ up to order $\\epsilon^3$"
   ]
  },
  {
   "cell_type": "code",
   "execution_count": 48,
   "id": "86cffbe7-b143-4edc-868d-3939ce334196",
   "metadata": {},
   "outputs": [
    {
     "data": {
      "text/latex": [
       "$\\displaystyle \\epsilon^{2} \\left(\\frac{A_{1}^{2} \\alpha_{2} \\cos{\\left(2 B_{1} + 2 \\omega_{0} t \\right)}}{6 \\omega_{0}^{2}} - \\frac{A_{1}^{2} \\alpha_{2}}{2 \\omega_{0}^{2}} - A_{1} B_{2} \\sin{\\left(B_{1} + \\omega_{0} t \\right)} + A_{2} \\cos{\\left(B_{1} + \\omega_{0} t \\right)}\\right) + A_{1} \\epsilon \\cos{\\left(B_{1} + \\omega_{0} t \\right)} + O\\left(\\epsilon^{3}\\right)$"
      ],
      "text/plain": [
       "epsilon**2*(A_1**2*alpha_2*cos(2*B_1 + 2*omega_0*t)/(6*omega_0**2) - A_1**2*alpha_2/(2*omega_0**2) - A_1*B_2*sin(B_1 + omega_0*t) + A_2*cos(B_1 + omega_0*t)) + A_1*epsilon*cos(B_1 + omega_0*t) + O(epsilon**3)"
      ]
     },
     "execution_count": 48,
     "metadata": {},
     "output_type": "execute_result"
    }
   ],
   "source": [
    "# The built in sympy series command takes forever (bad algorithm) so we just implement our original Taylor series function\n",
    "def taylor(expr, var, upto):\n",
    "    res = expr.subs(var, 0)\n",
    "    dexpr = sp.diff(expr, var)\n",
    "    for n in range(1,upto+1):\n",
    "        res += dexpr.subs(var, 0) / factorial(n) * var**n\n",
    "        dexpr = sp.diff(dexpr, var)\n",
    "    return res + sp.O(var**upto)\n",
    "\n",
    "xTaylor = taylor(x_new, epsilon, 3)\n",
    "xTaylor"
   ]
  },
  {
   "cell_type": "code",
   "execution_count": 49,
   "id": "34635ede-e1b7-4fbd-a288-8f5f5a453b9a",
   "metadata": {},
   "outputs": [
    {
     "data": {
      "text/latex": [
       "$\\displaystyle \\epsilon^{2} \\left(- \\frac{A_{1}^{2} \\alpha_{2} \\sin{\\left(2 B_{1} + 2 \\omega_{0} t \\right)}}{3 \\omega_{0}} - A_{1} B_{2} \\omega_{0} \\cos{\\left(B_{1} + \\omega_{0} t \\right)} - A_{2} \\omega_{0} \\sin{\\left(B_{1} + \\omega_{0} t \\right)}\\right) - A_{1} \\epsilon \\omega_{0} \\sin{\\left(B_{1} + \\omega_{0} t \\right)} + O\\left(\\epsilon^{3}\\right)$"
      ],
      "text/plain": [
       "epsilon**2*(-A_1**2*alpha_2*sin(2*B_1 + 2*omega_0*t)/(3*omega_0) - A_1*B_2*omega_0*cos(B_1 + omega_0*t) - A_2*omega_0*sin(B_1 + omega_0*t)) - A_1*epsilon*omega_0*sin(B_1 + omega_0*t) + O(epsilon**3)"
      ]
     },
     "execution_count": 49,
     "metadata": {},
     "output_type": "execute_result"
    }
   ],
   "source": [
    "xdotTaylor = taylor(xdot_new, epsilon, 3)\n",
    "xdotTaylor"
   ]
  },
  {
   "cell_type": "markdown",
   "id": "245d98f2-0484-4a2d-8fec-0bdd250081e9",
   "metadata": {},
   "source": [
    "Order $\\epsilon$ initial condition for $x$\n"
   ]
  },
  {
   "cell_type": "code",
   "execution_count": 50,
   "id": "bac73a31-41b4-450a-b1bd-868bd0ac928b",
   "metadata": {},
   "outputs": [
    {
     "data": {
      "text/latex": [
       "$\\displaystyle A_{1} \\cos{\\left(B_{1} \\right)} = a_{0} \\cos{\\left(\\beta_{0} \\right)}$"
      ],
      "text/plain": [
       "Eq(A_1*cos(B_1), a_0*cos(beta_0))"
      ]
     },
     "execution_count": 50,
     "metadata": {},
     "output_type": "execute_result"
    }
   ],
   "source": [
    "temp = sp.collect(xTaylor.removeO(), epsilon, evaluate=False)\n",
    "ICeq1 = sp.Eq(temp[epsilon].subs(t, 0), x0 / epsilon)\n",
    "ICeq1"
   ]
  },
  {
   "cell_type": "markdown",
   "id": "21c40956-cd5e-459b-9c10-e69791b8c165",
   "metadata": {},
   "source": [
    "Order $\\epsilon^2$ initial condition equation for $x$"
   ]
  },
  {
   "cell_type": "code",
   "execution_count": 51,
   "id": "f9a2e484-e4d4-4b47-8c6c-0e195a6e4c39",
   "metadata": {},
   "outputs": [
    {
     "data": {
      "text/latex": [
       "$\\displaystyle \\frac{A_{1}^{2} \\alpha_{2} \\cos{\\left(2 B_{1} \\right)}}{6 \\omega_{0}^{2}} - \\frac{A_{1}^{2} \\alpha_{2}}{2 \\omega_{0}^{2}} - A_{1} B_{2} \\sin{\\left(B_{1} \\right)} + A_{2} \\cos{\\left(B_{1} \\right)} = 0$"
      ],
      "text/plain": [
       "Eq(A_1**2*alpha_2*cos(2*B_1)/(6*omega_0**2) - A_1**2*alpha_2/(2*omega_0**2) - A_1*B_2*sin(B_1) + A_2*cos(B_1), 0)"
      ]
     },
     "execution_count": 51,
     "metadata": {},
     "output_type": "execute_result"
    }
   ],
   "source": [
    "ICeq2 = sp.Eq(temp[epsilon**2].subs(t, 0), 0)\n",
    "ICeq2"
   ]
  },
  {
   "cell_type": "markdown",
   "id": "70d70cdf-2b68-4bd0-bd80-5444f4c17fd7",
   "metadata": {},
   "source": [
    "Order $\\epsilon$ initial condition for $\\dot{x}$"
   ]
  },
  {
   "cell_type": "code",
   "execution_count": 52,
   "id": "9b8e5930-ce37-4728-ac51-d4e5d8d012b9",
   "metadata": {},
   "outputs": [
    {
     "data": {
      "text/latex": [
       "$\\displaystyle - A_{1} \\omega_{0} \\sin{\\left(B_{1} \\right)} = - a_{0} \\omega_{0} \\sin{\\left(\\beta_{0} \\right)}$"
      ],
      "text/plain": [
       "Eq(-A_1*omega_0*sin(B_1), -a_0*omega_0*sin(beta_0))"
      ]
     },
     "execution_count": 52,
     "metadata": {},
     "output_type": "execute_result"
    }
   ],
   "source": [
    "temp = sp.collect(xdotTaylor.removeO(), epsilon, evaluate=False)\n",
    "ICeq3 = sp.Eq(temp[epsilon].subs(t, 0), -a0 * omega_i[0] * sp.sin(beta0))\n",
    "ICeq3"
   ]
  },
  {
   "cell_type": "markdown",
   "id": "d6edbb4b-21aa-482a-9c9b-b62a2a4706a4",
   "metadata": {},
   "source": [
    "Order $\\epsilon^2$ initial condition equation for $\\dot{x}$"
   ]
  },
  {
   "cell_type": "code",
   "execution_count": 53,
   "id": "24576ce5-c28e-4883-997e-f08552225223",
   "metadata": {},
   "outputs": [
    {
     "data": {
      "text/latex": [
       "$\\displaystyle - \\frac{A_{1}^{2} \\alpha_{2} \\sin{\\left(2 B_{1} \\right)}}{3 \\omega_{0}} - A_{1} B_{2} \\omega_{0} \\cos{\\left(B_{1} \\right)} - A_{2} \\omega_{0} \\sin{\\left(B_{1} \\right)} = 0$"
      ],
      "text/plain": [
       "Eq(-A_1**2*alpha_2*sin(2*B_1)/(3*omega_0) - A_1*B_2*omega_0*cos(B_1) - A_2*omega_0*sin(B_1), 0)"
      ]
     },
     "execution_count": 53,
     "metadata": {},
     "output_type": "execute_result"
    }
   ],
   "source": [
    "ICeq4 = sp.Eq(temp[epsilon**2].subs(t, 0), 0)\n",
    "ICeq4"
   ]
  },
  {
   "cell_type": "code",
   "execution_count": 76,
   "id": "5d581caf-b1db-4218-821d-6dad07efceff",
   "metadata": {},
   "outputs": [],
   "source": [
    "res = sp.solve([ICeq1, ICeq2, ICeq3, ICeq4], [A_i[0], A_i[1], B_i[0], B_i[1]], force=True)"
   ]
  },
  {
   "cell_type": "code",
   "execution_count": 77,
   "id": "ffb86195-b788-4c81-b00a-c4b7fdd08147",
   "metadata": {},
   "outputs": [
    {
     "data": {
      "text/latex": [
       "$\\displaystyle a_{0}$"
      ],
      "text/plain": [
       "a_0"
      ]
     },
     "execution_count": 77,
     "metadata": {},
     "output_type": "execute_result"
    }
   ],
   "source": [
    "res[0][0].subs(sp.atan(sp.tan(beta0/2)), beta0/2)"
   ]
  },
  {
   "cell_type": "code",
   "execution_count": 96,
   "id": "60655352-67ab-435f-96aa-f995f61ad9a5",
   "metadata": {},
   "outputs": [
    {
     "data": {
      "text/latex": [
       "$\\displaystyle \\frac{a_{0}^{2} \\alpha_{2} \\left(2 \\sin{\\left(2 \\beta_{0} \\right)} + \\sin{\\left(4 \\beta_{0} \\right)}\\right)}{24 \\omega_{0}^{2} \\sin{\\left(\\beta_{0} \\right)}}$"
      ],
      "text/plain": [
       "a_0**2*alpha_2*(2*sin(2*beta_0) + sin(4*beta_0))/(24*omega_0**2*sin(beta_0))"
      ]
     },
     "execution_count": 96,
     "metadata": {},
     "output_type": "execute_result"
    }
   ],
   "source": [
    "sp.simplify(res[0][1].subs(sp.atan(sp.tan(beta0/2)), beta0/2))"
   ]
  },
  {
   "cell_type": "code",
   "execution_count": 86,
   "id": "912a8178-5cd4-4e77-a872-9a8b44dcba16",
   "metadata": {},
   "outputs": [
    {
     "data": {
      "text/latex": [
       "$\\displaystyle \\beta_{0}$"
      ],
      "text/plain": [
       "beta_0"
      ]
     },
     "execution_count": 86,
     "metadata": {},
     "output_type": "execute_result"
    }
   ],
   "source": [
    "res[0][2].subs(sp.atan(sp.tan(beta0/2)), beta0/2)"
   ]
  },
  {
   "cell_type": "code",
   "execution_count": 95,
   "id": "c832fa51-10a2-4587-ad57-5645d5ee55cb",
   "metadata": {},
   "outputs": [
    {
     "data": {
      "text/latex": [
       "$\\displaystyle - \\frac{a_{0} \\alpha_{2} \\left(9 \\sin{\\left(\\beta_{0} \\right)} + \\sin{\\left(3 \\beta_{0} \\right)}\\right)}{12 \\omega_{0}^{2}}$"
      ],
      "text/plain": [
       "-a_0*alpha_2*(9*sin(beta_0) + sin(3*beta_0))/(12*omega_0**2)"
      ]
     },
     "execution_count": 95,
     "metadata": {},
     "output_type": "execute_result"
    }
   ],
   "source": [
    "sp.simplify(TR8(res[0][3].subs(sp.atan(sp.tan(beta0/2)), beta0/2)))"
   ]
  }
 ],
 "metadata": {
  "kernelspec": {
   "display_name": "Python 3 (ipykernel)",
   "language": "python",
   "name": "python3"
  },
  "language_info": {
   "codemirror_mode": {
    "name": "ipython",
    "version": 3
   },
   "file_extension": ".py",
   "mimetype": "text/x-python",
   "name": "python",
   "nbconvert_exporter": "python",
   "pygments_lexer": "ipython3",
   "version": "3.8.8"
  }
 },
 "nbformat": 4,
 "nbformat_minor": 5
}

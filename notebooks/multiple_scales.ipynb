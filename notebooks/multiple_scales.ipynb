{
 "cells": [
  {
   "cell_type": "markdown",
   "id": "0c0a7482-227e-47c6-a427-3d4b7af543fc",
   "metadata": {},
   "source": [
    "# Conservative SDOF - Multiple Scales "
   ]
  },
  {
   "cell_type": "markdown",
   "id": "bc58ab61-3ca9-4352-887a-f7c22a27d528",
   "metadata": {},
   "source": [
    "- Introduces multiple time scales (Homogenation)\n",
    "- Treate damped systems easier then L-P\n",
    "- Built-in stability"
   ]
  },
  {
   "cell_type": "markdown",
   "id": "6f06afa4-ec57-41cd-941e-da83ae3ac8a5",
   "metadata": {},
   "source": [
    "Introduce new independent time variables\n",
    "\n",
    "$$\n",
    "\\begin{gather*}\n",
    "    T_n = \\epsilon^n t\n",
    "\\end{gather*}\n",
    "$$\n",
    "\n",
    "and \n",
    "\n",
    "$$\n",
    "\\begin{align*}\n",
    "    \\frac{d}{dt} &= \\frac{\\partial}{\\partial T_0}\\frac{dT_0}{dt} + \\frac{\\partial}{\\partial T_1}\\frac{dT_1}{dt} +  \\frac{\\partial}{\\partial T_2}\\frac{dT_2}{dt}  + \\cdots\\\\\n",
    "    &= \\frac{\\partial}{\\partial T_0} + \\epsilon \\frac{\\partial}{\\partial T_1} + \\epsilon^2 \\frac{\\partial}{\\partial T_2} + \\cdots\\\\\n",
    "    &= D_0 + \\epsilon D_1 + \\epsilon^2 D_2 + \\cdots\n",
    "\\end{align*}\n",
    "$$\n",
    "\n",
    "$$\n",
    "\\begin{align*}\n",
    "    \\frac{d^2}{dt^2} &= \\left( D_0 + \\epsilon D_1 + \\epsilon^2 D_2 + \\cdots \\right)^2\n",
    "\\end{align*}\n",
    "$$\n",
    "\n",
    "Introducing the Expansion for $x(t)$\n",
    "\n",
    "$$\n",
    "\\begin{align*}\n",
    "    x(t) &= x_0(T_0,T_1,T_2,\\cdots) + \\epsilon x_1(T_0,T_1,T_2,\\cdots) + \\epsilon^2(T_0,T_1,T_2,\\cdots) + \\epsilon^3(T_0,T_1,T_2,\\cdots) + O(\\epsilon^4) \n",
    "\\end{align*}\n",
    "$$"
   ]
  },
  {
   "cell_type": "code",
   "execution_count": 1,
   "id": "b0ef63ac-7df7-48d6-b8d8-7c62fe96d16a",
   "metadata": {},
   "outputs": [],
   "source": [
    "import sympy as sp\n",
    "from sympy.simplify.fu import TR0, TR7, TR8, TR11\n",
    "from math import factorial"
   ]
  },
  {
   "cell_type": "code",
   "execution_count": 2,
   "id": "17878543-b2af-421e-b1b2-3384ed0585d8",
   "metadata": {},
   "outputs": [],
   "source": [
    "# Functions for multiple scales \n",
    "\n",
    "# Function for Time operator \n",
    "def Dt(f, n, Ts, e=sp.Symbol('epsilon')):\n",
    "    if n==1:\n",
    "        return sp.expand(sum([e**i * sp.diff(f, T_i) for i, T_i in enumerate(Ts)]))\n",
    "    return Dt(Dt(f, 1, Ts, e), n-1, Ts, e)\n",
    "\n",
    "def collect_epsilon(f, e=sp.Symbol('epsilon')):\n",
    "    N = sp.degree(f, e)\n",
    "    f_temp = f\n",
    "    collected_dict = {}\n",
    "    for i in range(N, 0, -1):\n",
    "        collected_term = f_temp.coeff(e**i)\n",
    "        collected_dict[e**i] = collected_term\n",
    "        delete_terms = sp.expand(e**i * collected_term)\n",
    "        f_temp -= delete_terms\n",
    "    collected_dict[e**0] = f_temp\n",
    "    return collected_dict"
   ]
  },
  {
   "cell_type": "code",
   "execution_count": 3,
   "id": "96b9ba97-6a26-483e-a218-2d01e755d0c1",
   "metadata": {},
   "outputs": [
    {
     "data": {
      "text/latex": [
       "$\\displaystyle \\epsilon^{3} \\operatorname{x_{3}}{\\left(T_{0},T_{1},T_{2} \\right)} + \\epsilon^{2} \\operatorname{x_{2}}{\\left(T_{0},T_{1},T_{2} \\right)} + \\epsilon \\operatorname{x_{1}}{\\left(T_{0},T_{1},T_{2} \\right)}$"
      ],
      "text/plain": [
       "epsilon**3*x_3(T_0, T_1, T_2) + epsilon**2*x_2(T_0, T_1, T_2) + epsilon*x_1(T_0, T_1, T_2)"
      ]
     },
     "execution_count": 3,
     "metadata": {},
     "output_type": "execute_result"
    }
   ],
   "source": [
    "N = 3\n",
    "\n",
    "f = sp.Function('f')\n",
    "t = sp.Symbol('t', real=True)\n",
    "\n",
    "# Define the symbolic parameters\n",
    "epsilon = sp.symbols('epsilon')\n",
    "\n",
    "T_i = sp.symbols('T_(0:' + str(N) + ')', real=True)\n",
    "alpha_i = sp.symbols('alpha_(2:' + str(N+1) + ')', real=True)\n",
    "omega0 = sp.Symbol('omega_0', real=True)\n",
    "\n",
    "# x0 = sp.Function('x_0')(*T_i)\n",
    "x1 = sp.Function('x_1')(*T_i)\n",
    "x2 = sp.Function('x_2')(*T_i)\n",
    "x3 = sp.Function('x_3')(*T_i)\n",
    "\n",
    "# Expansion for x(t)\n",
    "x_e = epsilon*x1 + epsilon**2 * x2 + epsilon**3 * x3\n",
    "x_e"
   ]
  },
  {
   "cell_type": "code",
   "execution_count": 4,
   "id": "d077b51e-beea-4070-91c8-1a295bc9eb3c",
   "metadata": {},
   "outputs": [
    {
     "data": {
      "text/latex": [
       "$\\displaystyle \\alpha_{2} \\epsilon^{6} \\operatorname{x_{3}}^{2}{\\left(T_{0},T_{1},T_{2} \\right)} + 2 \\alpha_{2} \\epsilon^{5} \\operatorname{x_{2}}{\\left(T_{0},T_{1},T_{2} \\right)} \\operatorname{x_{3}}{\\left(T_{0},T_{1},T_{2} \\right)} + 2 \\alpha_{2} \\epsilon^{4} \\operatorname{x_{1}}{\\left(T_{0},T_{1},T_{2} \\right)} \\operatorname{x_{3}}{\\left(T_{0},T_{1},T_{2} \\right)} + \\alpha_{2} \\epsilon^{4} \\operatorname{x_{2}}^{2}{\\left(T_{0},T_{1},T_{2} \\right)} + 2 \\alpha_{2} \\epsilon^{3} \\operatorname{x_{1}}{\\left(T_{0},T_{1},T_{2} \\right)} \\operatorname{x_{2}}{\\left(T_{0},T_{1},T_{2} \\right)} + \\alpha_{2} \\epsilon^{2} \\operatorname{x_{1}}^{2}{\\left(T_{0},T_{1},T_{2} \\right)} + \\alpha_{3} \\epsilon^{9} \\operatorname{x_{3}}^{3}{\\left(T_{0},T_{1},T_{2} \\right)} + 3 \\alpha_{3} \\epsilon^{8} \\operatorname{x_{2}}{\\left(T_{0},T_{1},T_{2} \\right)} \\operatorname{x_{3}}^{2}{\\left(T_{0},T_{1},T_{2} \\right)} + 3 \\alpha_{3} \\epsilon^{7} \\operatorname{x_{1}}{\\left(T_{0},T_{1},T_{2} \\right)} \\operatorname{x_{3}}^{2}{\\left(T_{0},T_{1},T_{2} \\right)} + 3 \\alpha_{3} \\epsilon^{7} \\operatorname{x_{2}}^{2}{\\left(T_{0},T_{1},T_{2} \\right)} \\operatorname{x_{3}}{\\left(T_{0},T_{1},T_{2} \\right)} + 6 \\alpha_{3} \\epsilon^{6} \\operatorname{x_{1}}{\\left(T_{0},T_{1},T_{2} \\right)} \\operatorname{x_{2}}{\\left(T_{0},T_{1},T_{2} \\right)} \\operatorname{x_{3}}{\\left(T_{0},T_{1},T_{2} \\right)} + \\alpha_{3} \\epsilon^{6} \\operatorname{x_{2}}^{3}{\\left(T_{0},T_{1},T_{2} \\right)} + 3 \\alpha_{3} \\epsilon^{5} \\operatorname{x_{1}}^{2}{\\left(T_{0},T_{1},T_{2} \\right)} \\operatorname{x_{3}}{\\left(T_{0},T_{1},T_{2} \\right)} + 3 \\alpha_{3} \\epsilon^{5} \\operatorname{x_{1}}{\\left(T_{0},T_{1},T_{2} \\right)} \\operatorname{x_{2}}^{2}{\\left(T_{0},T_{1},T_{2} \\right)} + 3 \\alpha_{3} \\epsilon^{4} \\operatorname{x_{1}}^{2}{\\left(T_{0},T_{1},T_{2} \\right)} \\operatorname{x_{2}}{\\left(T_{0},T_{1},T_{2} \\right)} + \\alpha_{3} \\epsilon^{3} \\operatorname{x_{1}}^{3}{\\left(T_{0},T_{1},T_{2} \\right)} + \\epsilon^{7} \\frac{\\partial^{2}}{\\partial T_{2}^{2}} \\operatorname{x_{3}}{\\left(T_{0},T_{1},T_{2} \\right)} + \\epsilon^{6} \\frac{\\partial^{2}}{\\partial T_{2}^{2}} \\operatorname{x_{2}}{\\left(T_{0},T_{1},T_{2} \\right)} + 2 \\epsilon^{6} \\frac{\\partial^{2}}{\\partial T_{2}\\partial T_{1}} \\operatorname{x_{3}}{\\left(T_{0},T_{1},T_{2} \\right)} + \\epsilon^{5} \\frac{\\partial^{2}}{\\partial T_{2}^{2}} \\operatorname{x_{1}}{\\left(T_{0},T_{1},T_{2} \\right)} + \\epsilon^{5} \\frac{\\partial^{2}}{\\partial T_{1}^{2}} \\operatorname{x_{3}}{\\left(T_{0},T_{1},T_{2} \\right)} + 2 \\epsilon^{5} \\frac{\\partial^{2}}{\\partial T_{2}\\partial T_{1}} \\operatorname{x_{2}}{\\left(T_{0},T_{1},T_{2} \\right)} + 2 \\epsilon^{5} \\frac{\\partial^{2}}{\\partial T_{2}\\partial T_{0}} \\operatorname{x_{3}}{\\left(T_{0},T_{1},T_{2} \\right)} + \\epsilon^{4} \\frac{\\partial^{2}}{\\partial T_{1}^{2}} \\operatorname{x_{2}}{\\left(T_{0},T_{1},T_{2} \\right)} + 2 \\epsilon^{4} \\frac{\\partial^{2}}{\\partial T_{2}\\partial T_{1}} \\operatorname{x_{1}}{\\left(T_{0},T_{1},T_{2} \\right)} + 2 \\epsilon^{4} \\frac{\\partial^{2}}{\\partial T_{2}\\partial T_{0}} \\operatorname{x_{2}}{\\left(T_{0},T_{1},T_{2} \\right)} + 2 \\epsilon^{4} \\frac{\\partial^{2}}{\\partial T_{1}\\partial T_{0}} \\operatorname{x_{3}}{\\left(T_{0},T_{1},T_{2} \\right)} + \\epsilon^{3} \\omega_{0}^{2} \\operatorname{x_{3}}{\\left(T_{0},T_{1},T_{2} \\right)} + \\epsilon^{3} \\frac{\\partial^{2}}{\\partial T_{1}^{2}} \\operatorname{x_{1}}{\\left(T_{0},T_{1},T_{2} \\right)} + \\epsilon^{3} \\frac{\\partial^{2}}{\\partial T_{0}^{2}} \\operatorname{x_{3}}{\\left(T_{0},T_{1},T_{2} \\right)} + 2 \\epsilon^{3} \\frac{\\partial^{2}}{\\partial T_{2}\\partial T_{0}} \\operatorname{x_{1}}{\\left(T_{0},T_{1},T_{2} \\right)} + 2 \\epsilon^{3} \\frac{\\partial^{2}}{\\partial T_{1}\\partial T_{0}} \\operatorname{x_{2}}{\\left(T_{0},T_{1},T_{2} \\right)} + \\epsilon^{2} \\omega_{0}^{2} \\operatorname{x_{2}}{\\left(T_{0},T_{1},T_{2} \\right)} + \\epsilon^{2} \\frac{\\partial^{2}}{\\partial T_{0}^{2}} \\operatorname{x_{2}}{\\left(T_{0},T_{1},T_{2} \\right)} + 2 \\epsilon^{2} \\frac{\\partial^{2}}{\\partial T_{1}\\partial T_{0}} \\operatorname{x_{1}}{\\left(T_{0},T_{1},T_{2} \\right)} + \\epsilon \\omega_{0}^{2} \\operatorname{x_{1}}{\\left(T_{0},T_{1},T_{2} \\right)} + \\epsilon \\frac{\\partial^{2}}{\\partial T_{0}^{2}} \\operatorname{x_{1}}{\\left(T_{0},T_{1},T_{2} \\right)}$"
      ],
      "text/plain": [
       "alpha_2*epsilon**6*x_3(T_0, T_1, T_2)**2 + 2*alpha_2*epsilon**5*x_2(T_0, T_1, T_2)*x_3(T_0, T_1, T_2) + 2*alpha_2*epsilon**4*x_1(T_0, T_1, T_2)*x_3(T_0, T_1, T_2) + alpha_2*epsilon**4*x_2(T_0, T_1, T_2)**2 + 2*alpha_2*epsilon**3*x_1(T_0, T_1, T_2)*x_2(T_0, T_1, T_2) + alpha_2*epsilon**2*x_1(T_0, T_1, T_2)**2 + alpha_3*epsilon**9*x_3(T_0, T_1, T_2)**3 + 3*alpha_3*epsilon**8*x_2(T_0, T_1, T_2)*x_3(T_0, T_1, T_2)**2 + 3*alpha_3*epsilon**7*x_1(T_0, T_1, T_2)*x_3(T_0, T_1, T_2)**2 + 3*alpha_3*epsilon**7*x_2(T_0, T_1, T_2)**2*x_3(T_0, T_1, T_2) + 6*alpha_3*epsilon**6*x_1(T_0, T_1, T_2)*x_2(T_0, T_1, T_2)*x_3(T_0, T_1, T_2) + alpha_3*epsilon**6*x_2(T_0, T_1, T_2)**3 + 3*alpha_3*epsilon**5*x_1(T_0, T_1, T_2)**2*x_3(T_0, T_1, T_2) + 3*alpha_3*epsilon**5*x_1(T_0, T_1, T_2)*x_2(T_0, T_1, T_2)**2 + 3*alpha_3*epsilon**4*x_1(T_0, T_1, T_2)**2*x_2(T_0, T_1, T_2) + alpha_3*epsilon**3*x_1(T_0, T_1, T_2)**3 + epsilon**7*Derivative(x_3(T_0, T_1, T_2), (T_2, 2)) + epsilon**6*Derivative(x_2(T_0, T_1, T_2), (T_2, 2)) + 2*epsilon**6*Derivative(x_3(T_0, T_1, T_2), T_1, T_2) + epsilon**5*Derivative(x_1(T_0, T_1, T_2), (T_2, 2)) + epsilon**5*Derivative(x_3(T_0, T_1, T_2), (T_1, 2)) + 2*epsilon**5*Derivative(x_2(T_0, T_1, T_2), T_1, T_2) + 2*epsilon**5*Derivative(x_3(T_0, T_1, T_2), T_0, T_2) + epsilon**4*Derivative(x_2(T_0, T_1, T_2), (T_1, 2)) + 2*epsilon**4*Derivative(x_1(T_0, T_1, T_2), T_1, T_2) + 2*epsilon**4*Derivative(x_2(T_0, T_1, T_2), T_0, T_2) + 2*epsilon**4*Derivative(x_3(T_0, T_1, T_2), T_0, T_1) + epsilon**3*omega_0**2*x_3(T_0, T_1, T_2) + epsilon**3*Derivative(x_1(T_0, T_1, T_2), (T_1, 2)) + epsilon**3*Derivative(x_3(T_0, T_1, T_2), (T_0, 2)) + 2*epsilon**3*Derivative(x_1(T_0, T_1, T_2), T_0, T_2) + 2*epsilon**3*Derivative(x_2(T_0, T_1, T_2), T_0, T_1) + epsilon**2*omega_0**2*x_2(T_0, T_1, T_2) + epsilon**2*Derivative(x_2(T_0, T_1, T_2), (T_0, 2)) + 2*epsilon**2*Derivative(x_1(T_0, T_1, T_2), T_0, T_1) + epsilon*omega_0**2*x_1(T_0, T_1, T_2) + epsilon*Derivative(x_1(T_0, T_1, T_2), (T_0, 2))"
      ]
     },
     "execution_count": 4,
     "metadata": {},
     "output_type": "execute_result"
    }
   ],
   "source": [
    "# Derivatives with time operators\n",
    "xd = Dt(x_e, 1, T_i, epsilon)\n",
    "xdd = Dt(x_e, 2, T_i, epsilon)\n",
    "\n",
    "# EOM\n",
    "EOM = xdd + sp.expand(omega0**2 * x_e) + sp.expand(sum([alpha_i[i-2] * x_e**i for i in range(2,N+1)]))\n",
    "EOM"
   ]
  },
  {
   "cell_type": "code",
   "execution_count": 5,
   "id": "e6d4fdd3-1185-4e47-b606-80b4af15332f",
   "metadata": {},
   "outputs": [
    {
     "data": {
      "text/latex": [
       "$\\displaystyle \\text{True}$"
      ],
      "text/plain": [
       "True"
      ]
     },
     "execution_count": 5,
     "metadata": {},
     "output_type": "execute_result"
    }
   ],
   "source": [
    "# Ordered Equations by epsilon \n",
    "epsilon_Eq = collect_epsilon(EOM)\n",
    "epsilon0_Eq = sp.Eq(epsilon_Eq[epsilon**0], 0)\n",
    "epsilon0_Eq"
   ]
  },
  {
   "cell_type": "code",
   "execution_count": 6,
   "id": "b7a102b2-70c5-4736-bfb6-286054ca170b",
   "metadata": {},
   "outputs": [
    {
     "data": {
      "text/latex": [
       "$\\displaystyle \\omega_{0}^{2} \\operatorname{x_{1}}{\\left(T_{0},T_{1},T_{2} \\right)} + \\frac{\\partial^{2}}{\\partial T_{0}^{2}} \\operatorname{x_{1}}{\\left(T_{0},T_{1},T_{2} \\right)} = 0$"
      ],
      "text/plain": [
       "Eq(omega_0**2*x_1(T_0, T_1, T_2) + Derivative(x_1(T_0, T_1, T_2), (T_0, 2)), 0)"
      ]
     },
     "execution_count": 6,
     "metadata": {},
     "output_type": "execute_result"
    }
   ],
   "source": [
    "epsilon1_Eq = sp.Eq(epsilon_Eq[epsilon**1], 0)\n",
    "epsilon1_Eq"
   ]
  },
  {
   "cell_type": "code",
   "execution_count": 15,
   "id": "4b110b58-e410-4280-9f48-25c2935a8cb0",
   "metadata": {},
   "outputs": [
    {
     "data": {
      "text/latex": [
       "$\\displaystyle \\alpha_{2} \\operatorname{x_{1}}^{2}{\\left(T_{0},T_{1},T_{2} \\right)} + \\omega_{0}^{2} \\operatorname{x_{2}}{\\left(T_{0},T_{1},T_{2} \\right)} + \\frac{\\partial^{2}}{\\partial T_{0}^{2}} \\operatorname{x_{2}}{\\left(T_{0},T_{1},T_{2} \\right)} + 2 \\frac{\\partial^{2}}{\\partial T_{1}\\partial T_{0}} \\operatorname{x_{1}}{\\left(T_{0},T_{1},T_{2} \\right)} = 0$"
      ],
      "text/plain": [
       "Eq(alpha_2*x_1(T_0, T_1, T_2)**2 + omega_0**2*x_2(T_0, T_1, T_2) + Derivative(x_2(T_0, T_1, T_2), (T_0, 2)) + 2*Derivative(x_1(T_0, T_1, T_2), T_0, T_1), 0)"
      ]
     },
     "execution_count": 15,
     "metadata": {},
     "output_type": "execute_result"
    }
   ],
   "source": [
    "epsilon2_Eq = sp.Eq(epsilon_Eq[epsilon**2], 0)\n",
    "epsilon2_Eq"
   ]
  },
  {
   "cell_type": "code",
   "execution_count": 30,
   "id": "b8bc2e62-76ec-49c9-aa34-c746ce85638b",
   "metadata": {},
   "outputs": [
    {
     "data": {
      "text/latex": [
       "$\\displaystyle 2 \\alpha_{2} \\operatorname{x_{1}}{\\left(T_{0},T_{1},T_{2} \\right)} \\operatorname{x_{2}}{\\left(T_{0},T_{1},T_{2} \\right)} + \\alpha_{3} \\operatorname{x_{1}}^{3}{\\left(T_{0},T_{1},T_{2} \\right)} + \\omega_{0}^{2} \\operatorname{x_{3}}{\\left(T_{0},T_{1},T_{2} \\right)} + \\frac{\\partial^{2}}{\\partial T_{1}^{2}} \\operatorname{x_{1}}{\\left(T_{0},T_{1},T_{2} \\right)} + \\frac{\\partial^{2}}{\\partial T_{0}^{2}} \\operatorname{x_{3}}{\\left(T_{0},T_{1},T_{2} \\right)} + 2 \\frac{\\partial^{2}}{\\partial T_{2}\\partial T_{0}} \\operatorname{x_{1}}{\\left(T_{0},T_{1},T_{2} \\right)} + 2 \\frac{\\partial^{2}}{\\partial T_{1}\\partial T_{0}} \\operatorname{x_{2}}{\\left(T_{0},T_{1},T_{2} \\right)} = 0$"
      ],
      "text/plain": [
       "Eq(2*alpha_2*x_1(T_0, T_1, T_2)*x_2(T_0, T_1, T_2) + alpha_3*x_1(T_0, T_1, T_2)**3 + omega_0**2*x_3(T_0, T_1, T_2) + Derivative(x_1(T_0, T_1, T_2), (T_1, 2)) + Derivative(x_3(T_0, T_1, T_2), (T_0, 2)) + 2*Derivative(x_1(T_0, T_1, T_2), T_0, T_2) + 2*Derivative(x_2(T_0, T_1, T_2), T_0, T_1), 0)"
      ]
     },
     "execution_count": 30,
     "metadata": {},
     "output_type": "execute_result"
    }
   ],
   "source": [
    "epsilon3_Eq = sp.Eq(epsilon_Eq[epsilon**3], 0)\n",
    "epsilon3_Eq"
   ]
  },
  {
   "cell_type": "code",
   "execution_count": 11,
   "id": "7674375c-5e2c-447c-822a-90adc6a7e697",
   "metadata": {},
   "outputs": [
    {
     "data": {
      "text/latex": [
       "$\\displaystyle A{\\left(T_{1},T_{2} \\right)} e^{i T_{0} \\omega_{0}} + e^{- i T_{0} \\omega_{0}} \\overline{A{\\left(T_{1},T_{2} \\right)}}$"
      ],
      "text/plain": [
       "A(T_1, T_2)*exp(I*T_0*omega_0) + exp(-I*T_0*omega_0)*conjugate(A(T_1, T_2))"
      ]
     },
     "execution_count": 11,
     "metadata": {},
     "output_type": "execute_result"
    }
   ],
   "source": [
    "# Find the solution for epsilon-1\n",
    "A = sp.Function('A')(*T_i[1::])\n",
    "x1_sol = A * sp.exp(sp.I * omega0 * T_i[0]) + sp.conjugate(A) * sp.exp(-sp.I * omega0 * T_i[0])\n",
    "x1_sol"
   ]
  },
  {
   "cell_type": "code",
   "execution_count": 16,
   "id": "735cef49-aa34-47d9-8284-9dfc4e095fbb",
   "metadata": {},
   "outputs": [
    {
     "data": {
      "text/latex": [
       "$\\displaystyle \\alpha_{2} A^{2}{\\left(T_{1},T_{2} \\right)} e^{2 i T_{0} \\omega_{0}} + 2 \\alpha_{2} A{\\left(T_{1},T_{2} \\right)} \\overline{A{\\left(T_{1},T_{2} \\right)}} + \\alpha_{2} e^{- 2 i T_{0} \\omega_{0}} \\overline{A{\\left(T_{1},T_{2} \\right)}}^{2} + \\omega_{0}^{2} \\operatorname{x_{2}}{\\left(T_{0},T_{1},T_{2} \\right)} + 2 i \\omega_{0} e^{i T_{0} \\omega_{0}} \\frac{\\partial}{\\partial T_{1}} A{\\left(T_{1},T_{2} \\right)} - 2 i \\omega_{0} e^{- i T_{0} \\omega_{0}} \\overline{\\frac{\\partial}{\\partial T_{1}} A{\\left(T_{1},T_{2} \\right)}} + \\frac{\\partial^{2}}{\\partial T_{0}^{2}} \\operatorname{x_{2}}{\\left(T_{0},T_{1},T_{2} \\right)} = 0$"
      ],
      "text/plain": [
       "Eq(alpha_2*A(T_1, T_2)**2*exp(2*I*T_0*omega_0) + 2*alpha_2*A(T_1, T_2)*conjugate(A(T_1, T_2)) + alpha_2*exp(-2*I*T_0*omega_0)*conjugate(A(T_1, T_2))**2 + omega_0**2*x_2(T_0, T_1, T_2) + 2*I*omega_0*exp(I*T_0*omega_0)*Derivative(A(T_1, T_2), T_1) - 2*I*omega_0*exp(-I*T_0*omega_0)*conjugate(Derivative(A(T_1, T_2), T_1)) + Derivative(x_2(T_0, T_1, T_2), (T_0, 2)), 0)"
      ]
     },
     "execution_count": 16,
     "metadata": {},
     "output_type": "execute_result"
    }
   ],
   "source": [
    "# Update the epsilon-2 equation\n",
    "epsilon2_Eq = epsilon2_Eq.subs(x1, x1_sol).doit()\n",
    "epsilon2_Eq = sp.expand(epsilon2_Eq)\n",
    "epsilon2_Eq"
   ]
  },
  {
   "cell_type": "markdown",
   "id": "6c167363-a443-4aaf-845a-08fbe8ff0ab7",
   "metadata": {},
   "source": [
    "The secular terms will be cancelled out by \n",
    "\n",
    "$$\n",
    "\\begin{gather*}\n",
    "    D_1 A = 0\n",
    "\\end{gather*}\n",
    "$$"
   ]
  },
  {
   "cell_type": "code",
   "execution_count": 18,
   "id": "5191e85b-04f6-4735-ad94-ad163b80ab86",
   "metadata": {},
   "outputs": [
    {
     "data": {
      "text/latex": [
       "$\\displaystyle \\alpha_{2} A^{2}{\\left(T_{1},T_{2} \\right)} e^{2 i T_{0} \\omega_{0}} + 2 \\alpha_{2} A{\\left(T_{1},T_{2} \\right)} \\overline{A{\\left(T_{1},T_{2} \\right)}} + \\alpha_{2} e^{- 2 i T_{0} \\omega_{0}} \\overline{A{\\left(T_{1},T_{2} \\right)}}^{2} + \\omega_{0}^{2} \\operatorname{x_{2}}{\\left(T_{0},T_{1},T_{2} \\right)} + \\frac{\\partial^{2}}{\\partial T_{0}^{2}} \\operatorname{x_{2}}{\\left(T_{0},T_{1},T_{2} \\right)} = 0$"
      ],
      "text/plain": [
       "Eq(alpha_2*A(T_1, T_2)**2*exp(2*I*T_0*omega_0) + 2*alpha_2*A(T_1, T_2)*conjugate(A(T_1, T_2)) + alpha_2*exp(-2*I*T_0*omega_0)*conjugate(A(T_1, T_2))**2 + omega_0**2*x_2(T_0, T_1, T_2) + Derivative(x_2(T_0, T_1, T_2), (T_0, 2)), 0)"
      ]
     },
     "execution_count": 18,
     "metadata": {},
     "output_type": "execute_result"
    }
   ],
   "source": [
    "epsilon2_Eq = epsilon2_Eq.subs(sp.diff(A, T_i[1]), 0)\n",
    "epsilon2_Eq"
   ]
  },
  {
   "cell_type": "markdown",
   "id": "afc426bb-08c2-4a76-afc9-b879d13d3697",
   "metadata": {},
   "source": [
    "The particular solution of $x_2$ is \n",
    "\n",
    "$$\n",
    "\\begin{gather*}\n",
    "    x_2 = \\frac{\\alpha_2 A^2}{3 \\omega_0^2} e^{2i\\omega_0 T_0} - \\frac{\\alpha_2 }{\\omega^2_0}A\\overline{A} + cc\n",
    "\\end{gather*}\n",
    "$$"
   ]
  },
  {
   "cell_type": "code",
   "execution_count": 20,
   "id": "481d6d84-e922-4c61-a1f0-72d963c842ae",
   "metadata": {},
   "outputs": [
    {
     "data": {
      "text/latex": [
       "$\\displaystyle \\frac{\\alpha_{2} A^{2}{\\left(T_{1},T_{2} \\right)} e^{2 i T_{0} \\omega_{0}}}{3 \\omega_{0}^{2}} - \\frac{\\alpha_{2} A{\\left(T_{1},T_{2} \\right)} \\overline{A{\\left(T_{1},T_{2} \\right)}}}{\\omega_{0}^{2}}$"
      ],
      "text/plain": [
       "alpha_2*A(T_1, T_2)**2*exp(2*I*T_0*omega_0)/(3*omega_0**2) - alpha_2*A(T_1, T_2)*conjugate(A(T_1, T_2))/omega_0**2"
      ]
     },
     "execution_count": 20,
     "metadata": {},
     "output_type": "execute_result"
    }
   ],
   "source": [
    "x2_p = alpha_i[0] * A**2 / 3/omega0**2 * sp.exp(2*sp.I*omega0*T_i[0]) - alpha_i[0]/omega0**2 * A * sp.conjugate(A) \n",
    "x2_p"
   ]
  },
  {
   "cell_type": "code",
   "execution_count": 31,
   "id": "6430ac70-3ad0-4b0d-9ded-080aa371ff59",
   "metadata": {},
   "outputs": [
    {
     "data": {
      "text/latex": [
       "$\\displaystyle \\frac{2 \\alpha_{2}^{2} A^{3}{\\left(T_{1},T_{2} \\right)} e^{3 i T_{0} \\omega_{0}}}{3 \\omega_{0}^{2}} - \\frac{4 \\alpha_{2}^{2} A^{2}{\\left(T_{1},T_{2} \\right)} e^{i T_{0} \\omega_{0}} \\overline{A{\\left(T_{1},T_{2} \\right)}}}{3 \\omega_{0}^{2}} - \\frac{2 \\alpha_{2}^{2} A{\\left(T_{1},T_{2} \\right)} e^{- i T_{0} \\omega_{0}} \\overline{A{\\left(T_{1},T_{2} \\right)}}^{2}}{\\omega_{0}^{2}} + \\frac{8 i \\alpha_{2} A{\\left(T_{1},T_{2} \\right)} e^{2 i T_{0} \\omega_{0}} \\frac{\\partial}{\\partial T_{1}} A{\\left(T_{1},T_{2} \\right)}}{3 \\omega_{0}} + \\alpha_{3} A^{3}{\\left(T_{1},T_{2} \\right)} e^{3 i T_{0} \\omega_{0}} + 3 \\alpha_{3} A^{2}{\\left(T_{1},T_{2} \\right)} e^{i T_{0} \\omega_{0}} \\overline{A{\\left(T_{1},T_{2} \\right)}} + 3 \\alpha_{3} A{\\left(T_{1},T_{2} \\right)} e^{- i T_{0} \\omega_{0}} \\overline{A{\\left(T_{1},T_{2} \\right)}}^{2} + \\alpha_{3} e^{- 3 i T_{0} \\omega_{0}} \\overline{A{\\left(T_{1},T_{2} \\right)}}^{3} + \\omega_{0}^{2} \\operatorname{x_{3}}{\\left(T_{0},T_{1},T_{2} \\right)} + 2 i \\omega_{0} e^{i T_{0} \\omega_{0}} \\frac{\\partial}{\\partial T_{2}} A{\\left(T_{1},T_{2} \\right)} - 2 i \\omega_{0} e^{- i T_{0} \\omega_{0}} \\overline{\\frac{\\partial}{\\partial T_{2}} A{\\left(T_{1},T_{2} \\right)}} + \\frac{\\partial^{2}}{\\partial T_{0}^{2}} \\operatorname{x_{3}}{\\left(T_{0},T_{1},T_{2} \\right)} = 0$"
      ],
      "text/plain": [
       "Eq(2*alpha_2**2*A(T_1, T_2)**3*exp(3*I*T_0*omega_0)/(3*omega_0**2) - 4*alpha_2**2*A(T_1, T_2)**2*exp(I*T_0*omega_0)*conjugate(A(T_1, T_2))/(3*omega_0**2) - 2*alpha_2**2*A(T_1, T_2)*exp(-I*T_0*omega_0)*conjugate(A(T_1, T_2))**2/omega_0**2 + 8*I*alpha_2*A(T_1, T_2)*exp(2*I*T_0*omega_0)*Derivative(A(T_1, T_2), T_1)/(3*omega_0) + alpha_3*A(T_1, T_2)**3*exp(3*I*T_0*omega_0) + 3*alpha_3*A(T_1, T_2)**2*exp(I*T_0*omega_0)*conjugate(A(T_1, T_2)) + 3*alpha_3*A(T_1, T_2)*exp(-I*T_0*omega_0)*conjugate(A(T_1, T_2))**2 + alpha_3*exp(-3*I*T_0*omega_0)*conjugate(A(T_1, T_2))**3 + omega_0**2*x_3(T_0, T_1, T_2) + 2*I*omega_0*exp(I*T_0*omega_0)*Derivative(A(T_1, T_2), T_2) - 2*I*omega_0*exp(-I*T_0*omega_0)*conjugate(Derivative(A(T_1, T_2), T_2)) + Derivative(x_3(T_0, T_1, T_2), (T_0, 2)), 0)"
      ]
     },
     "execution_count": 31,
     "metadata": {},
     "output_type": "execute_result"
    }
   ],
   "source": [
    "epsilon3_Eq = epsilon3_Eq.subs([\n",
    "    (sp.diff(A, T_i[1]), 0), (x1, x1_sol), (x2, x2_p)\n",
    "]).doit()\n",
    "epsilon3_Eq = sp.expand(epsilon3_Eq)\n",
    "epsilon3_Eq = epsilon3_Eq.subs(sp.diff(A, T_i[1], 2), 0)\n",
    "epsilon3_Eq"
   ]
  },
  {
   "cell_type": "markdown",
   "id": "800cc55c-00ab-4ce5-a837-a3ca021d9c15",
   "metadata": {},
   "source": [
    "The to cancel out the secular term we let \n",
    "\n",
    "$$\n",
    "\\begin{gather*}\n",
    "    2i\\omega_0 D_2 A + \\dfrac{9\\alpha_3 \\omega_0^2 - 10\\alpha_2^2 }{3\\omega_0^2}A^2\\overline{A} = 0\n",
    "\\end{gather*}\n",
    "$$\n",
    "\n",
    "Question: What if the secular terms arising from $i\\omega_0$ and $-i \\omega_0$ are handled together - do we get a single real equation?\n",
    "\n",
    "Substitute the polar $A$\n",
    "\n",
    "$$\n",
    "\\begin{gather*}\n",
    "    A = \\dfrac{1}{2}a e^{i\\beta}\n",
    "\\end{gather*}\n",
    "$$\n"
   ]
  },
  {
   "cell_type": "code",
   "execution_count": 39,
   "id": "c8d301d5-dcc2-4242-aa44-31262a3556bc",
   "metadata": {},
   "outputs": [
    {
     "data": {
      "text/latex": [
       "$\\displaystyle \\frac{a^{3} \\left(- \\frac{10 \\alpha_{2}^{2}}{3} + 3 \\alpha_{3} \\omega_{0}^{2}\\right) e^{i \\beta}}{8 \\omega_{0}^{2}} + 2 i \\omega_{0} \\frac{\\partial}{\\partial T_{2}} \\frac{a e^{i \\beta}}{2} = 0$"
      ],
      "text/plain": [
       "Eq(a**3*(-10*alpha_2**2/3 + 3*alpha_3*omega_0**2)*exp(I*beta)/(8*omega_0**2) + 2*I*omega_0*Derivative(a*exp(I*beta)/2, T_2), 0)"
      ]
     },
     "execution_count": 39,
     "metadata": {},
     "output_type": "execute_result"
    }
   ],
   "source": [
    "x3_sec = sp.Eq(2*sp.I*omega0*sp.diff(A, T_i[2]) + (9*alpha_i[1]*omega0**2 - 10*alpha_i[0]**2)/3/omega0**2 * A**2 * sp.conjugate(A), 0)\n",
    "\n",
    "a = sp.Symbol('a', real=True)\n",
    "beta = sp.Symbol('beta', real=True)\n",
    "\n",
    "temp = x3_sec.subs(A, a*sp.exp(sp.I * beta)/2)\n",
    "temp"
   ]
  },
  {
   "cell_type": "code",
   "execution_count": 40,
   "id": "208c3df9-7e6c-4251-9fb2-7c95d2534da7",
   "metadata": {},
   "outputs": [
    {
     "data": {
      "text/latex": [
       "$\\displaystyle - \\frac{5 a^{3} \\alpha_{2}^{2} \\sin{\\left(\\beta \\right)}}{12 \\omega_{0}^{2}} + \\frac{3 a^{3} \\alpha_{3} \\sin{\\left(\\beta \\right)}}{8} + 2 \\omega_{0} \\operatorname{re}{\\left(\\frac{\\partial}{\\partial T_{2}} \\frac{a e^{i \\beta}}{2}\\right)}$"
      ],
      "text/plain": [
       "-5*a**3*alpha_2**2*sin(beta)/(12*omega_0**2) + 3*a**3*alpha_3*sin(beta)/8 + 2*omega_0*re(Derivative(a*exp(I*beta)/2, T_2))"
      ]
     },
     "execution_count": 40,
     "metadata": {},
     "output_type": "execute_result"
    }
   ],
   "source": [
    "temp = sp.expand(temp)\n",
    "temp_im = sp.im(temp.lhs)\n",
    "temp_im"
   ]
  },
  {
   "cell_type": "code",
   "execution_count": 43,
   "id": "006fbe37-0295-4c6c-a33f-dd2d1dbe3038",
   "metadata": {},
   "outputs": [
    {
     "data": {
      "text/latex": [
       "$\\displaystyle - \\frac{5 a^{3} \\alpha_{2}^{2} \\cos{\\left(\\beta \\right)}}{12 \\omega_{0}^{2}} + \\frac{3 a^{3} \\alpha_{3} \\cos{\\left(\\beta \\right)}}{8} - 2 \\omega_{0} \\operatorname{im}{\\left(\\frac{\\partial}{\\partial T_{2}} \\frac{a e^{i \\beta}}{2}\\right)}$"
      ],
      "text/plain": [
       "-5*a**3*alpha_2**2*cos(beta)/(12*omega_0**2) + 3*a**3*alpha_3*cos(beta)/8 - 2*omega_0*im(Derivative(a*exp(I*beta)/2, T_2))"
      ]
     },
     "execution_count": 43,
     "metadata": {},
     "output_type": "execute_result"
    }
   ],
   "source": [
    "temp_re = sp.re(temp.lhs)\n",
    "temp_re"
   ]
  },
  {
   "cell_type": "markdown",
   "id": "3775fc92-fd63-46fe-b5b4-a09d82fc4d4e",
   "metadata": {},
   "source": [
    "Thus separating into real and imaginary parts we obtain\n",
    "\n",
    "$$\n",
    "\\begin{align*}\n",
    "    \\omega_0 D_2 a &=0\\\\\n",
    "    omega_0 a D_2 \\beta + \\dfrac{10\\alpha_2^2 - 9\\alpha_3\\omega_0^2}{24\\omega_0^2}a^3 &= 0\n",
    "\\end{align*}\n",
    "$$\n",
    "\n",
    "$a$ is a constant and \n",
    "\n",
    "$$\n",
    "\\begin{gather*}\n",
    "    D_2\\beta = - \\dfrac{10\\alpha_2^2 - 9\\alpha_3\\omega_0^3a}{24\\omega_0^2}a^3\n",
    "    \\beta = \\dfrac{9\\alpha_3\\omega_0^2 - 10\\alpha_2^2  }{24\\omega_0^3}a^2 T_2 + \\beta_0\n",
    "\\end{gather*}\n",
    "$$\n",
    "\n",
    "Here $\\beta_0$ is a constant. Now using $T_2 = \\epsilon^2 t$ we find that \n",
    "\n",
    "$$\n",
    "\\begin{gather*}\n",
    "    A = \\dfrac{1}{2}a \\exp\\left[ i\\dfrac{9\\alpha_3\\omega_0^2 - 10\\alpha_2^2  }{24\\omega_0^3}a^3 \\epsilon^2 t + i\\beta_0 \\right]\n",
    "\\end{gather*}\n",
    "$$\n",
    "\n",
    "and substituting in the expressions for $x_1$ and $x_2$ into the equations we have, we obtain the following final results\n",
    "\n",
    "$$\n",
    "\\begin{gather*}\n",
    "    x = \\epsilon a \\cos(\\omega t + \\beta_0) - \\dfrac{\\epsilon^2 a^2\\alpha_2}{2\\omega_0^2}\\left[ 1 - \\dfrac{1}{3}\\cos(2\\omega t + 2\\beta_0) \\right] + O(\\epsilon^3)\n",
    "\\end{gather*}\n",
    "$$\n",
    "\n",
    "where \n",
    "\n",
    "$$\n",
    "\\begin{gather*}\n",
    "    \\omega = \\omega_0 \\left[ 1 + \\dfrac{9\\alpha_3 \\omega_0^2 - 10\\alpha_2^2}{24\\omega_0^4}\\epsilon^2 a^2 \\right] + O(\\epsilon^3)\n",
    "\\end{gather*}\n",
    "$$"
   ]
  }
 ],
 "metadata": {
  "kernelspec": {
   "display_name": "Python 3 (ipykernel)",
   "language": "python",
   "name": "python3"
  },
  "language_info": {
   "codemirror_mode": {
    "name": "ipython",
    "version": 3
   },
   "file_extension": ".py",
   "mimetype": "text/x-python",
   "name": "python",
   "nbconvert_exporter": "python",
   "pygments_lexer": "ipython3",
   "version": "3.8.8"
  }
 },
 "nbformat": 4,
 "nbformat_minor": 5
}

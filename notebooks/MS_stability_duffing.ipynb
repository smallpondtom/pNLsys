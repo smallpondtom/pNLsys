{
 "cells": [
  {
   "cell_type": "markdown",
   "id": "80b1803a-ed22-40c8-b4bc-38a03ee4800d",
   "metadata": {},
   "source": [
    "# Multiple Scales Stability for forced Duffing System \n",
    "\n",
    "Consider \n",
    "\n",
    "$$\n",
    "\\begin{gather*}\n",
    "    \\ddot{x} + \\omega_0^2 x = -2\\epsilon\\mu\\dot{x} - \\epsilon\\alpha x^3 + K\\cos\\Omega t\n",
    "\\end{gather*}\n",
    "$$"
   ]
  },
  {
   "cell_type": "markdown",
   "id": "bd1f8810-a0d4-497b-b8e3-a461f64c51dd",
   "metadata": {},
   "source": [
    "To get the linear terms, introduce epsilon for later Taylor expansion "
   ]
  },
  {
   "cell_type": "code",
   "execution_count": 1,
   "id": "2458ed78-48b6-4a71-a031-4398093c108d",
   "metadata": {},
   "outputs": [],
   "source": [
    "import sympy as sp\n",
    "from math import factorial"
   ]
  },
  {
   "cell_type": "code",
   "execution_count": 2,
   "id": "0873fa57-500d-458c-bf50-783a4feb463c",
   "metadata": {},
   "outputs": [
    {
     "data": {
      "text/latex": [
       "$\\displaystyle a_{0} + a_{1} \\epsilon$"
      ],
      "text/plain": [
       "a_0 + a_1*epsilon"
      ]
     },
     "execution_count": 2,
     "metadata": {},
     "output_type": "execute_result"
    }
   ],
   "source": [
    "a0, a1 = sp.symbols('a_0 a_1', real=True)\n",
    "epsilon = sp.Symbol('epsilon', real=True, positive=True)\n",
    "a = a0 + epsilon * a1\n",
    "a"
   ]
  },
  {
   "cell_type": "code",
   "execution_count": 3,
   "id": "b56a34d8-9b05-41ef-b886-31a926428204",
   "metadata": {},
   "outputs": [
    {
     "data": {
      "text/latex": [
       "$\\displaystyle \\Gamma_{0} + \\Gamma_{1} \\epsilon$"
      ],
      "text/plain": [
       "Gamma_0 + Gamma_1*epsilon"
      ]
     },
     "execution_count": 3,
     "metadata": {},
     "output_type": "execute_result"
    }
   ],
   "source": [
    "Gamma0, Gamma1 = sp.symbols('Gamma_0 Gamma_1', real=True)\n",
    "Gamma = Gamma0 + epsilon * Gamma1\n",
    "Gamma"
   ]
  },
  {
   "cell_type": "code",
   "execution_count": 4,
   "id": "2471e105-0ba5-49b5-8c84-885b27a3a14c",
   "metadata": {},
   "outputs": [
    {
     "data": {
      "text/latex": [
       "$\\displaystyle a_{1}^{3} \\epsilon^{3} + 3 a_{0} a_{1}^{2} \\epsilon^{2} + 3 a_{0}^{2} a_{1} \\epsilon + a_{0}^{3} + O\\left(\\epsilon^{4}\\right)$"
      ],
      "text/plain": [
       "a_1**3*epsilon**3 + 3*a_0*a_1**2*epsilon**2 + 3*a_0**2*a_1*epsilon + a_0**3 + O(epsilon**4)"
      ]
     },
     "execution_count": 4,
     "metadata": {},
     "output_type": "execute_result"
    }
   ],
   "source": [
    "def taylor(expr, var, upto):\n",
    "    res = expr.subs(var, 0)\n",
    "    dexpr = sp.diff(expr, var)\n",
    "    for n in range(1,upto+1):\n",
    "        res += dexpr.subs(var, 0) / factorial(n) * var**n\n",
    "        dexpr = sp.diff(dexpr, var)\n",
    "    return res + sp.O(var**upto)\n",
    "\n",
    "taylor(a**3, epsilon, 4)"
   ]
  },
  {
   "cell_type": "code",
   "execution_count": 5,
   "id": "84873fbb-62d9-4183-b84a-a9360f30c22d",
   "metadata": {},
   "outputs": [
    {
     "data": {
      "text/latex": [
       "$\\displaystyle \\frac{\\cos{\\left(\\Gamma_{0} \\right)}}{a_{0}} + \\epsilon \\left(- \\frac{\\Gamma_{1} \\sin{\\left(\\Gamma_{0} \\right)}}{a_{0}} - \\frac{a_{1} \\cos{\\left(\\Gamma_{0} \\right)}}{a_{0}^{2}}\\right) + \\epsilon^{2} \\left(- \\frac{\\Gamma_{1}^{2} \\cos{\\left(\\Gamma_{0} \\right)}}{2 a_{0}} + \\frac{\\Gamma_{1} a_{1} \\sin{\\left(\\Gamma_{0} \\right)}}{a_{0}^{2}} + \\frac{a_{1}^{2} \\cos{\\left(\\Gamma_{0} \\right)}}{a_{0}^{3}}\\right) + \\epsilon^{3} \\left(\\frac{\\Gamma_{1}^{3} \\sin{\\left(\\Gamma_{0} \\right)}}{6 a_{0}} + \\frac{\\Gamma_{1}^{2} a_{1} \\cos{\\left(\\Gamma_{0} \\right)}}{2 a_{0}^{2}} - \\frac{\\Gamma_{1} a_{1}^{2} \\sin{\\left(\\Gamma_{0} \\right)}}{a_{0}^{3}} - \\frac{a_{1}^{3} \\cos{\\left(\\Gamma_{0} \\right)}}{a_{0}^{4}}\\right) + \\epsilon^{4} \\left(\\frac{\\Gamma_{1}^{4} \\cos{\\left(\\Gamma_{0} \\right)}}{24 a_{0}} - \\frac{\\Gamma_{1}^{3} a_{1} \\sin{\\left(\\Gamma_{0} \\right)}}{6 a_{0}^{2}} - \\frac{\\Gamma_{1}^{2} a_{1}^{2} \\cos{\\left(\\Gamma_{0} \\right)}}{2 a_{0}^{3}} + \\frac{\\Gamma_{1} a_{1}^{3} \\sin{\\left(\\Gamma_{0} \\right)}}{a_{0}^{4}} + \\frac{a_{1}^{4} \\cos{\\left(\\Gamma_{0} \\right)}}{a_{0}^{5}}\\right) + \\epsilon^{5} \\left(- \\frac{\\Gamma_{1}^{5} \\sin{\\left(\\Gamma_{0} \\right)}}{120 a_{0}} - \\frac{\\Gamma_{1}^{4} a_{1} \\cos{\\left(\\Gamma_{0} \\right)}}{24 a_{0}^{2}} + \\frac{\\Gamma_{1}^{3} a_{1}^{2} \\sin{\\left(\\Gamma_{0} \\right)}}{6 a_{0}^{3}} + \\frac{\\Gamma_{1}^{2} a_{1}^{3} \\cos{\\left(\\Gamma_{0} \\right)}}{2 a_{0}^{4}} - \\frac{\\Gamma_{1} a_{1}^{4} \\sin{\\left(\\Gamma_{0} \\right)}}{a_{0}^{5}} - \\frac{a_{1}^{5} \\cos{\\left(\\Gamma_{0} \\right)}}{a_{0}^{6}}\\right) + O\\left(\\epsilon^{6}\\right)$"
      ],
      "text/plain": [
       "cos(Gamma_0)/a_0 + epsilon*(-Gamma_1*sin(Gamma_0)/a_0 - a_1*cos(Gamma_0)/a_0**2) + epsilon**2*(-Gamma_1**2*cos(Gamma_0)/(2*a_0) + Gamma_1*a_1*sin(Gamma_0)/a_0**2 + a_1**2*cos(Gamma_0)/a_0**3) + epsilon**3*(Gamma_1**3*sin(Gamma_0)/(6*a_0) + Gamma_1**2*a_1*cos(Gamma_0)/(2*a_0**2) - Gamma_1*a_1**2*sin(Gamma_0)/a_0**3 - a_1**3*cos(Gamma_0)/a_0**4) + epsilon**4*(Gamma_1**4*cos(Gamma_0)/(24*a_0) - Gamma_1**3*a_1*sin(Gamma_0)/(6*a_0**2) - Gamma_1**2*a_1**2*cos(Gamma_0)/(2*a_0**3) + Gamma_1*a_1**3*sin(Gamma_0)/a_0**4 + a_1**4*cos(Gamma_0)/a_0**5) + epsilon**5*(-Gamma_1**5*sin(Gamma_0)/(120*a_0) - Gamma_1**4*a_1*cos(Gamma_0)/(24*a_0**2) + Gamma_1**3*a_1**2*sin(Gamma_0)/(6*a_0**3) + Gamma_1**2*a_1**3*cos(Gamma_0)/(2*a_0**4) - Gamma_1*a_1**4*sin(Gamma_0)/a_0**5 - a_1**5*cos(Gamma_0)/a_0**6) + O(epsilon**6)"
      ]
     },
     "execution_count": 5,
     "metadata": {},
     "output_type": "execute_result"
    }
   ],
   "source": [
    "taylor(1/a*sp.cos(Gamma), epsilon, 6)"
   ]
  },
  {
   "cell_type": "markdown",
   "id": "033d44e2-67ff-4b14-b9ac-adcb5e0a7b85",
   "metadata": {},
   "source": [
    "stable when q is greater than zero"
   ]
  },
  {
   "cell_type": "code",
   "execution_count": 6,
   "id": "bb655b08-b110-4fcc-b5dc-820c7ff77fb1",
   "metadata": {},
   "outputs": [
    {
     "data": {
      "text/latex": [
       "$\\displaystyle \\mu^{2} + \\left(- \\frac{9 a_{0}^{2} \\alpha}{8 \\omega_{0}} + \\sigma\\right) \\left(- \\frac{3 a_{0}^{2} \\alpha}{8 \\omega_{0}} + \\sigma\\right)$"
      ],
      "text/plain": [
       "mu**2 + (-9*a_0**2*alpha/(8*omega_0) + sigma)*(-3*a_0**2*alpha/(8*omega_0) + sigma)"
      ]
     },
     "execution_count": 6,
     "metadata": {},
     "output_type": "execute_result"
    }
   ],
   "source": [
    "mu, sigma, alpha, omega0 = sp.symbols('mu sigma alpha omega_0', real=True)\n",
    "q = mu**2 + (sigma - 3 * alpha * a0**2 / 8 / omega0) * (sigma - 9 * alpha * a0**2 / 8 / omega0)\n",
    "q"
   ]
  },
  {
   "cell_type": "markdown",
   "id": "40f39f45-4cd2-47d6-a335-7b3729d223c5",
   "metadata": {},
   "source": [
    "Substitute in $\\sigma$ as a function of $a_0$ into $q$ and find when $q= 0$ (see inverted frequency response diagram)\n",
    "\n",
    "This is the top branch"
   ]
  },
  {
   "cell_type": "code",
   "execution_count": 7,
   "id": "f86c6a0f-7987-4b0d-b92a-7c0d13324b8d",
   "metadata": {},
   "outputs": [
    {
     "data": {
      "text/latex": [
       "$\\displaystyle \\frac{0.25 \\left(- 1.5 a_{0}^{2} \\alpha \\sqrt{- 4 \\mu^{2} + \\frac{k^{2}}{a_{0}^{2} \\omega_{0}^{2}}} + \\frac{1.0 k^{2}}{a_{0}^{2} \\omega_{0}}\\right)}{\\omega_{0}} = 0$"
      ],
      "text/plain": [
       "Eq(0.25*(-1.5*a_0**2*alpha*sqrt(-4*mu**2 + k**2/(a_0**2*omega_0**2)) + 1.0*k**2/(a_0**2*omega_0))/omega_0, 0)"
      ]
     },
     "execution_count": 7,
     "metadata": {},
     "output_type": "execute_result"
    }
   ],
   "source": [
    "k = sp.Symbol('k')\n",
    "topBranchCriterium = sp.simplify(q.subs([\n",
    "    (sigma, 3/8*alpha/omega0*a0**2 + sp.sqrt(k**2 / 4 / omega0**2 / a0**2 - mu**2))\n",
    "]))\n",
    "topBranchCriterium = sp.Eq(topBranchCriterium, 0)\n",
    "topBranchCriterium"
   ]
  },
  {
   "cell_type": "markdown",
   "id": "00df08cb-dd2c-49e1-a1d5-648b2779ad0a",
   "metadata": {},
   "source": [
    "This is the bottom branch"
   ]
  },
  {
   "cell_type": "code",
   "execution_count": 8,
   "id": "3a4b85ef-2807-4d61-a79c-2d83fba1f7bd",
   "metadata": {},
   "outputs": [
    {
     "data": {
      "text/latex": [
       "$\\displaystyle \\frac{0.25 \\left(1.5 a_{0}^{2} \\alpha \\sqrt{- 4 \\mu^{2} + \\frac{k^{2}}{a_{0}^{2} \\omega_{0}^{2}}} + \\frac{1.0 k^{2}}{a_{0}^{2} \\omega_{0}}\\right)}{\\omega_{0}} = 0$"
      ],
      "text/plain": [
       "Eq(0.25*(1.5*a_0**2*alpha*sqrt(-4*mu**2 + k**2/(a_0**2*omega_0**2)) + 1.0*k**2/(a_0**2*omega_0))/omega_0, 0)"
      ]
     },
     "execution_count": 8,
     "metadata": {},
     "output_type": "execute_result"
    }
   ],
   "source": [
    "bottomBranchCriterium = sp.simplify(q.subs([\n",
    "    (sigma, 3/8*alpha/omega0*a0**2 - sp.sqrt(k**2 / 4 / omega0**2 / a0**2 - mu**2))\n",
    "]))\n",
    "bottomBranchCriterium = sp.Eq(bottomBranchCriterium, 0)\n",
    "bottomBranchCriterium"
   ]
  },
  {
   "cell_type": "code",
   "execution_count": 9,
   "id": "406b82ab-8f49-48a2-85c1-2a2330ca7112",
   "metadata": {},
   "outputs": [
    {
     "data": {
      "text/latex": [
       "$\\displaystyle - \\begin{cases} 0.467327632592034 \\sqrt{\\frac{0.286178560638333 k^{2}}{\\mu \\omega_{0}^{2}} - \\left(\\frac{0.081898168569028 k^{4}}{\\mu^{2} \\omega_{0}^{4}} - \\left(- \\frac{k^{8}}{\\alpha^{2} \\mu^{3} \\omega_{0}^{6}}\\right)^{0.333333333333333}\\right)^{0.5} - \\left(- \\frac{0.046875 k^{6}}{\\mu^{3} \\omega_{0}^{6} \\left(\\frac{0.081898168569028 k^{4}}{\\mu^{2} \\omega_{0}^{4}} - \\left(- \\frac{k^{8}}{\\alpha^{2} \\mu^{3} \\omega_{0}^{6}}\\right)^{0.333333333333333}\\right)^{0.5}} + \\frac{0.163796337138056 k^{4}}{\\mu^{2} \\omega_{0}^{4}} + \\left(- \\frac{k^{8}}{\\alpha^{2} \\mu^{3} \\omega_{0}^{6}}\\right)^{0.333333333333333}\\right)^{0.5}} & \\text{for}\\: \\frac{0.111111111111111 k^{4}}{\\alpha^{2} \\mu \\omega_{0}^{2}} = 0.0 \\\\0.556957466689064 \\sqrt{\\frac{0.201481862216914 k^{2}}{\\mu \\omega_{0}^{2}} - 1.0 \\left(\\frac{0.0405949408023956 k^{4}}{\\mu^{2} \\omega_{0}^{4}} + 1.0 \\left(\\left(\\frac{0.0037078857421875 k^{16}}{\\alpha^{4} \\mu^{6} \\omega_{0}^{12}} - \\frac{k^{12}}{\\alpha^{6} \\mu^{3} \\omega_{0}^{6}}\\right)^{0.5} + \\frac{0.0608924112035933 k^{8}}{\\alpha^{2} \\mu^{3} \\omega_{0}^{6}}\\right)^{0.333333333333333} + \\frac{k^{4}}{\\alpha^{2} \\mu \\omega_{0}^{2} \\left(\\left(\\frac{0.0037078857421875 k^{16}}{\\alpha^{4} \\mu^{6} \\omega_{0}^{12}} - \\frac{k^{12}}{\\alpha^{6} \\mu^{3} \\omega_{0}^{6}}\\right)^{0.5} + \\frac{0.0608924112035933 k^{8}}{\\alpha^{2} \\mu^{3} \\omega_{0}^{6}}\\right)^{0.333333333333333}}\\right)^{0.5} - \\left(- \\frac{0.0163582885389041 k^{6}}{\\mu^{3} \\omega_{0}^{6} \\left(\\frac{0.0405949408023956 k^{4}}{\\mu^{2} \\omega_{0}^{4}} + 1.0 \\left(\\left(\\frac{0.0037078857421875 k^{16}}{\\alpha^{4} \\mu^{6} \\omega_{0}^{12}} - \\frac{k^{12}}{\\alpha^{6} \\mu^{3} \\omega_{0}^{6}}\\right)^{0.5} + \\frac{0.0608924112035933 k^{8}}{\\alpha^{2} \\mu^{3} \\omega_{0}^{6}}\\right)^{0.333333333333333} + \\frac{k^{4}}{\\alpha^{2} \\mu \\omega_{0}^{2} \\left(\\left(\\frac{0.0037078857421875 k^{16}}{\\alpha^{4} \\mu^{6} \\omega_{0}^{12}} - \\frac{k^{12}}{\\alpha^{6} \\mu^{3} \\omega_{0}^{6}}\\right)^{0.5} + \\frac{0.0608924112035933 k^{8}}{\\alpha^{2} \\mu^{3} \\omega_{0}^{6}}\\right)^{0.333333333333333}}\\right)^{0.5}} + \\frac{0.0811898816047911 k^{4}}{\\mu^{2} \\omega_{0}^{4}} - 1.0 \\left(\\left(\\frac{0.0037078857421875 k^{16}}{\\alpha^{4} \\mu^{6} \\omega_{0}^{12}} - \\frac{k^{12}}{\\alpha^{6} \\mu^{3} \\omega_{0}^{6}}\\right)^{0.5} + \\frac{0.0608924112035933 k^{8}}{\\alpha^{2} \\mu^{3} \\omega_{0}^{6}}\\right)^{0.333333333333333} - \\frac{k^{4}}{\\alpha^{2} \\mu \\omega_{0}^{2} \\left(\\left(\\frac{0.0037078857421875 k^{16}}{\\alpha^{4} \\mu^{6} \\omega_{0}^{12}} - \\frac{k^{12}}{\\alpha^{6} \\mu^{3} \\omega_{0}^{6}}\\right)^{0.5} + \\frac{0.0608924112035933 k^{8}}{\\alpha^{2} \\mu^{3} \\omega_{0}^{6}}\\right)^{0.333333333333333}}\\right)^{0.5}} & \\text{otherwise} \\end{cases}$"
      ],
      "text/plain": [
       "-Piecewise((0.467327632592034*sqrt(0.286178560638333*k**2/(mu*omega_0**2) - (0.081898168569028*k**4/(mu**2*omega_0**4) - (-k**8/(alpha**2*mu**3*omega_0**6))**0.333333333333333)**0.5 - (-0.046875*k**6/(mu**3*omega_0**6*(0.081898168569028*k**4/(mu**2*omega_0**4) - (-k**8/(alpha**2*mu**3*omega_0**6))**0.333333333333333)**0.5) + 0.163796337138056*k**4/(mu**2*omega_0**4) + (-k**8/(alpha**2*mu**3*omega_0**6))**0.333333333333333)**0.5), Eq(0.111111111111111*k**4/(alpha**2*mu*omega_0**2), 0.0)), (0.556957466689064*sqrt(0.201481862216914*k**2/(mu*omega_0**2) - 1.0*(0.0405949408023956*k**4/(mu**2*omega_0**4) + 1.0*((0.0037078857421875*k**16/(alpha**4*mu**6*omega_0**12) - k**12/(alpha**6*mu**3*omega_0**6))**0.5 + 0.0608924112035933*k**8/(alpha**2*mu**3*omega_0**6))**0.333333333333333 + k**4/(alpha**2*mu*omega_0**2*((0.0037078857421875*k**16/(alpha**4*mu**6*omega_0**12) - k**12/(alpha**6*mu**3*omega_0**6))**0.5 + 0.0608924112035933*k**8/(alpha**2*mu**3*omega_0**6))**0.333333333333333))**0.5 - (-0.0163582885389041*k**6/(mu**3*omega_0**6*(0.0405949408023956*k**4/(mu**2*omega_0**4) + 1.0*((0.0037078857421875*k**16/(alpha**4*mu**6*omega_0**12) - k**12/(alpha**6*mu**3*omega_0**6))**0.5 + 0.0608924112035933*k**8/(alpha**2*mu**3*omega_0**6))**0.333333333333333 + k**4/(alpha**2*mu*omega_0**2*((0.0037078857421875*k**16/(alpha**4*mu**6*omega_0**12) - k**12/(alpha**6*mu**3*omega_0**6))**0.5 + 0.0608924112035933*k**8/(alpha**2*mu**3*omega_0**6))**0.333333333333333))**0.5) + 0.0811898816047911*k**4/(mu**2*omega_0**4) - 1.0*((0.0037078857421875*k**16/(alpha**4*mu**6*omega_0**12) - k**12/(alpha**6*mu**3*omega_0**6))**0.5 + 0.0608924112035933*k**8/(alpha**2*mu**3*omega_0**6))**0.333333333333333 - k**4/(alpha**2*mu*omega_0**2*((0.0037078857421875*k**16/(alpha**4*mu**6*omega_0**12) - k**12/(alpha**6*mu**3*omega_0**6))**0.5 + 0.0608924112035933*k**8/(alpha**2*mu**3*omega_0**6))**0.333333333333333))**0.5), True))"
      ]
     },
     "execution_count": 9,
     "metadata": {},
     "output_type": "execute_result"
    }
   ],
   "source": [
    "temp = sp.Eq(\n",
    "    (1.5*a0**2*alpha * sp.sqrt(-4*mu + k**2 / a0**2 / omega0**2))**2,\n",
    "    (-k**2 / a0**2 / omega0)**2\n",
    ")\n",
    "sp.solve(temp, a0)[0]"
   ]
  },
  {
   "cell_type": "markdown",
   "id": "70410a54-bb12-4934-98e5-764426422aba",
   "metadata": {},
   "source": [
    "Equation for sigma - using plus sign"
   ]
  },
  {
   "cell_type": "code",
   "execution_count": 10,
   "id": "72224332-0393-4704-a0d2-7ad751c57e0e",
   "metadata": {},
   "outputs": [
    {
     "data": {
      "text/latex": [
       "$\\displaystyle \\frac{3 a_{0}^{2} \\alpha}{8 \\omega_{0}} + \\sqrt{- \\mu^{2} + \\frac{k^{2}}{4 a_{0}^{2} \\omega_{0}^{2}}}$"
      ],
      "text/plain": [
       "3*a_0**2*alpha/(8*omega_0) + sqrt(-mu**2 + k**2/(4*a_0**2*omega_0**2))"
      ]
     },
     "execution_count": 10,
     "metadata": {},
     "output_type": "execute_result"
    }
   ],
   "source": [
    "sigma_func = 3*alpha/omega0*a0**2/8 + sp.sqrt(k**2 / 4 / omega0**2 / a0**2 - mu**2)\n",
    "sigma_func"
   ]
  },
  {
   "cell_type": "markdown",
   "id": "08bf51ff-d908-4c2c-9808-e5ece3d14e73",
   "metadata": {},
   "source": [
    "Search for $a_0$ values such that the slope is zero - notice this matches the solutions above "
   ]
  },
  {
   "cell_type": "code",
   "execution_count": null,
   "id": "4b3612c4-df55-4fbb-a1da-a24534b9b7ea",
   "metadata": {},
   "outputs": [],
   "source": [
    "sp.solve(sp.diff(sigma_func, a0), a0)\n",
    "\n",
    "# not solvable with sympy\n",
    "# but let's assume that it is the same as the huge answer shown above"
   ]
  }
 ],
 "metadata": {
  "kernelspec": {
   "display_name": "Python 3 (ipykernel)",
   "language": "python",
   "name": "python3"
  },
  "language_info": {
   "codemirror_mode": {
    "name": "ipython",
    "version": 3
   },
   "file_extension": ".py",
   "mimetype": "text/x-python",
   "name": "python",
   "nbconvert_exporter": "python",
   "pygments_lexer": "ipython3",
   "version": "3.8.8"
  }
 },
 "nbformat": 4,
 "nbformat_minor": 5
}

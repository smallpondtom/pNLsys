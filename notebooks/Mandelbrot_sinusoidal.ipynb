{
 "cells": [
  {
   "cell_type": "markdown",
   "id": "94c2cab9-e67f-44ad-b6c9-7a718b7e609a",
   "metadata": {},
   "source": [
    "# Mandelbrot set - Sinusoidal"
   ]
  },
  {
   "cell_type": "code",
   "execution_count": null,
   "id": "97ac1e36-45b3-4cd2-988d-809806939f79",
   "metadata": {},
   "outputs": [],
   "source": [
    "# Import necessary libraries\n",
    "from PIL import Image\n",
    "import numpy as np\n",
    "import colorsys\n",
    "from tqdm import tqdm\n",
    "import math"
   ]
  },
  {
   "cell_type": "code",
   "execution_count": null,
   "id": "368cc924-5354-4dfb-b799-09ba62f29792",
   "metadata": {},
   "outputs": [],
   "source": [
    "def rgb_conv(i):\n",
    "    \"\"\"\n",
    "    Function to return the tuple of colors as an integer value of rgb\n",
    "    :param i: a random natural number\n",
    "    :return: the tuple of rgb colors\n",
    "    \"\"\"\n",
    "    color = 255 * np.array(colorsys.hsv_to_rgb(i*2 / 50, 100, 255.0))\n",
    "    return tuple(color.astype(int))\n",
    "\n",
    "def mandelbrot(x, y, n):\n",
    "    \"\"\"\n",
    "    Function that defines the Mandle-Brot Set\n",
    "    :param x: the x value of the complex number\n",
    "    :param y: the y value of the complex number\n",
    "    :return: the rbg color code\n",
    "    \"\"\"\n",
    "    if not isinstance(x, (float, int)):\n",
    "        raise TypeError('Input x can only be floats or integers are allowed')\n",
    "    if not isinstance(y, (float, int)):\n",
    "        raise TypeError('Input y can only be floats or integers are allowed')\n",
    "\n",
    "    c0 = complex(x, y)\n",
    "    ct = 1\n",
    "    c = 0\n",
    "    for i in range(1, n):\n",
    "        if abs(c) > 2:\n",
    "            return rgb_conv(i)\n",
    "        if ct == 1:\n",
    "            c = c0 * complex(math.sin(x) * math.cosh(y), math.cos(x) * math.sinh(y))\n",
    "        else:\n",
    "            c = c * complex(math.sin(c.real) * math.cosh(c.imag), math.cos(c.real) * math.sinh(c.imag))\n",
    "        ct += 1\n",
    "    return (0, 0, 0)\n",
    "\n",
    "def getValid(prompt):\n",
    "    while True:\n",
    "        try:\n",
    "            # trying input with without any conditions at first\n",
    "            this = int(input(prompt))\n",
    "        except ValueError:\n",
    "            # Prints the user to input again since the input was not valid\n",
    "            print('Sorry, could not understand. Please enter again.')\n",
    "            continue\n",
    "            # For when the input is a number\n",
    "        if this <= 0:\n",
    "            print('The input must be a natural number. Please try again.')\n",
    "            continue\n",
    "        else:\n",
    "            # Valid input\n",
    "            break\n",
    "    return this"
   ]
  },
  {
   "cell_type": "code",
   "execution_count": null,
   "id": "59d378ef-019b-462b-9a7a-9f5c33708bda",
   "metadata": {},
   "outputs": [],
   "source": [
    "def main():\n",
    "    N = getValid('Enter the number of iterations to investigate the Mandle_Brot Set -> ')\n",
    "    # Define the width of your image in pixels\n",
    "    width = getValid('Enter the width of the image in pixels -> ')\n",
    "    assert (width > 200), 'Choose a larger width for the visual'\n",
    "    # creating the new image in RGB mode\n",
    "    img = Image.new('RGB', (width, int(width / 2)))\n",
    "    pixels = img.load()\n",
    "\n",
    "    # Loading the image\n",
    "    print('Loading image ...')\n",
    "    pbar = tqdm(total=len(range(img.size[0])))\n",
    "    for x in range(img.size[0]):\n",
    "        for y in range(img.size[1]):\n",
    "            pixels[x, y] = mandelbrot((x - (0.75 * width)) / (width / 4),\n",
    "                                      (y - (width / 4)) / (width / 4), N)\n",
    "        pbar.update(1)\n",
    "    pbar.close()\n",
    "    img.save('MandelBrot_sinusoid.jpg')\n",
    "\n",
    "if __name__ == '__main__':\n",
    "    main()"
   ]
  }
 ],
 "metadata": {
  "kernelspec": {
   "display_name": "Python 3 (ipykernel)",
   "language": "python",
   "name": "python3"
  },
  "language_info": {
   "codemirror_mode": {
    "name": "ipython",
    "version": 3
   },
   "file_extension": ".py",
   "mimetype": "text/x-python",
   "name": "python",
   "nbconvert_exporter": "python",
   "pygments_lexer": "ipython3",
   "version": "3.8.8"
  }
 },
 "nbformat": 4,
 "nbformat_minor": 5
}

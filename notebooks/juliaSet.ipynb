{
 "cells": [
  {
   "cell_type": "markdown",
   "id": "a1684671-54a0-4705-92ea-81907c80d301",
   "metadata": {},
   "source": [
    "# Julia Set"
   ]
  },
  {
   "cell_type": "markdown",
   "id": "0376aac6-5f65-4384-8652-645acdc1a9aa",
   "metadata": {},
   "source": [
    "#### This file takes a very long time to run "
   ]
  },
  {
   "cell_type": "code",
   "execution_count": 4,
   "id": "12bbfadf-969d-420b-9599-3cf2b55d42cb",
   "metadata": {},
   "outputs": [],
   "source": [
    "from PIL import Image\n",
    "import numpy as np\n",
    "import math\n",
    "from tqdm import tqdm\n",
    "import time"
   ]
  },
  {
   "cell_type": "code",
   "execution_count": 5,
   "id": "114029fa-7ef6-4014-979e-f3c67382fb00",
   "metadata": {},
   "outputs": [],
   "source": [
    "def print_process_duration(process_time):\n",
    "    \"\"\"\n",
    "    Function that presents the time neatly\n",
    "    :param process_time: time it took to complete the process in seconds\n",
    "    :return: None\n",
    "    \"\"\"\n",
    "\n",
    "    if process_time < 60:\n",
    "        print('It took {0:f} seconds to complete the process'.format(process_time))\n",
    "    elif 60 <= process_time and process_time < 3600:\n",
    "        minutes = process_time // 60\n",
    "        seconds = process_time % 60\n",
    "        print('It took {0:f} minutes {1:f} seconds to complete the process'.format(minutes, seconds))\n",
    "    elif 60 <= process_time and process_time < 3600:\n",
    "        seconds = process_time % 60\n",
    "        minutes = process_time // 60\n",
    "        if minutes == 1:\n",
    "            print('It took {0:f} minute {1:f} seconds to complete the process'.format(minutes, seconds))\n",
    "        else:\n",
    "            print('It took {0:f} minutes {1:f} seconds to complete the process'.format(minutes, seconds))\n",
    "    else:\n",
    "        seconds = process_time % 60\n",
    "        temp = process_time // 60\n",
    "        hours = temp // 60\n",
    "        minutes = temp % 60\n",
    "        if seconds == 1:\n",
    "            sec_str = 'second'\n",
    "        else:\n",
    "            sec_str = 'seconds'\n",
    "        if minutes == 1:\n",
    "            min_str = 'minute'\n",
    "        else:\n",
    "            min_str = 'minutes'\n",
    "        if hours == 1:\n",
    "            hr_str = 'hour'\n",
    "        else:\n",
    "            hr_str = 'hours'\n",
    "\n",
    "        print_str = 'It took {0:f} ' + hr_str + ' {0:f} ' + min_str + ' {1:f} ' + sec_str + ' to complete the process'\n",
    "        print(print_str.format(hours, minutes, seconds))"
   ]
  },
  {
   "cell_type": "code",
   "execution_count": null,
   "id": "c9ca022b-3ef0-48c0-b309-fc9c4b1255f0",
   "metadata": {},
   "outputs": [],
   "source": [
    "def main():\n",
    "\n",
    "    # Width, height and zoom of image in pixels\n",
    "    w, h, zoom = 1920, 1080, 1\n",
    "\n",
    "    # Set variables for the fractal\n",
    "    cX = 0.7885*np.cos(np.linspace(0, 2*math.pi, 314))\n",
    "    cY = 0.7885*np.sin(np.linspace(0, 2*math.pi, 314))\n",
    "    moveX, moveY = 0.0, 0.0\n",
    "    maxIter = 255\n",
    "\n",
    "    imag_list = []\n",
    "    start_time = time.time()\n",
    "    pbar = tqdm(total=len(cX))\n",
    "    for idx in range(len(cX)):\n",
    "        # Create new image in rgb mode\n",
    "        bitmap = Image.new(\"RGB\", (w, h), \"white\")\n",
    "\n",
    "        # Loading pixel data\n",
    "        pix = bitmap.load()\n",
    "        \n",
    "        cX_i, cY_i = cX[idx], cY[idx]\n",
    "        for x in range(w):\n",
    "            for y in range(h):\n",
    "                zx = 1.5 * (x - w / 2) / (0.5 * zoom * w) + moveX\n",
    "                zy = 1.0 * (y - h / 2) / (0.5 * zoom * h) + moveY\n",
    "                i = maxIter\n",
    "                while zx * zx + zy * zy < 4 and i > 1:\n",
    "                    tmp = zx * zx - zy * zy + cX_i\n",
    "                    zy, zx = 2.0 * zx * zy + cY_i, tmp\n",
    "                    i -= 1\n",
    "\n",
    "                # convert byte to RGB (3 bytes), kinda\n",
    "                # magic to get nice colors\n",
    "                pix[x, y] = (i << 21) + (i << 10) + i * 8\n",
    "\n",
    "        imag_list.append(bitmap)\n",
    "        pbar.update(1)\n",
    "\n",
    "    pbar.close()\n",
    "    imag_list[0].save('JuliaSetAnimation2.gif', save_all=True, append_images=imag_list[1:],\n",
    "                      optimize=False, duration=3, loop=0)\n",
    "\n",
    "    process_time = time.time() - start_time\n",
    "    print_process_duration(process_time)\n",
    "\n",
    "if __name__ == '__main__':\n",
    "    main()"
   ]
  },
  {
   "cell_type": "code",
   "execution_count": null,
   "id": "5400a354-ece7-4aca-85bf-46ea4bb5847a",
   "metadata": {},
   "outputs": [],
   "source": []
  }
 ],
 "metadata": {
  "kernelspec": {
   "display_name": "Python 3 (ipykernel)",
   "language": "python",
   "name": "python3"
  },
  "language_info": {
   "codemirror_mode": {
    "name": "ipython",
    "version": 3
   },
   "file_extension": ".py",
   "mimetype": "text/x-python",
   "name": "python",
   "nbconvert_exporter": "python",
   "pygments_lexer": "ipython3",
   "version": "3.8.8"
  }
 },
 "nbformat": 4,
 "nbformat_minor": 5
}

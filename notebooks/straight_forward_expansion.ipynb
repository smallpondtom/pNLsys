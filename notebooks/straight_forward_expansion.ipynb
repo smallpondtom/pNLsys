{
 "cells": [
  {
   "cell_type": "markdown",
   "id": "7b1746a9-ea02-4974-b250-93c8a83ccd70",
   "metadata": {},
   "source": [
    "# Straight Forward Expansion "
   ]
  },
  {
   "cell_type": "code",
   "execution_count": 2,
   "id": "6a211c3e-19c6-480c-ad34-72ce49212e71",
   "metadata": {},
   "outputs": [],
   "source": [
    "import sympy as sp\n",
    "from sympy.simplify.fu import TR7, TR8"
   ]
  },
  {
   "cell_type": "code",
   "execution_count": 3,
   "id": "5c478cd3-a191-472b-8ad0-e8103813e77f",
   "metadata": {},
   "outputs": [
    {
     "data": {
      "text/latex": [
       "$\\displaystyle \\alpha_{2} x^{2}{\\left(t \\right)} + \\alpha_{3} x^{3}{\\left(t \\right)} + \\omega_{0}^{2} x{\\left(t \\right)} + \\frac{d^{2}}{d t^{2}} x{\\left(t \\right)}$"
      ],
      "text/plain": [
       "alpha_2*x(t)**2 + alpha_3*x(t)**3 + omega_0**2*x(t) + Derivative(x(t), (t, 2))"
      ]
     },
     "execution_count": 3,
     "metadata": {},
     "output_type": "execute_result"
    }
   ],
   "source": [
    "N = 3\n",
    "\n",
    "# Define the symbolic parameters \n",
    "# epsilon = sp.symbols('epsilon_(1:' + str(N+1) + ')')\n",
    "epsilon = sp.symbols('epsilon')\n",
    "omega_0 = sp.symbols('omega_0')\n",
    "alpha = sp.symbols('alpha_(2:' + str(N+1) + ')')\n",
    "\n",
    "# Define time variable\n",
    "t = sp.symbols('t', real=True)\n",
    "\n",
    "# Define function variable \n",
    "x = sp.Function('x')(t)\n",
    "xdot = sp.Derivative(x, t)  # first time derivative \n",
    "xddot = sp.Derivative(xdot, t)  # second time derivative\n",
    "\n",
    "# EOM\n",
    "EOM = xddot + omega_0**2 * x + sum([alpha[i-2] * x**i for i in range(2,N+1)])\n",
    "EOM"
   ]
  },
  {
   "cell_type": "code",
   "execution_count": 4,
   "id": "a858c4d8-0b42-4bb0-9848-a2a462c2d9df",
   "metadata": {},
   "outputs": [],
   "source": [
    "# Exponential expansion of the variable x \n",
    "x1 = sp.Function('x_1', real=True)(t)\n",
    "x2 = sp.Function('x_2', real=True)(t)\n",
    "x3 = sp.Function('x_3', real=True)(t)"
   ]
  },
  {
   "cell_type": "code",
   "execution_count": 5,
   "id": "fb874bf9-34e7-45b1-a7ee-5a1d9012fb96",
   "metadata": {},
   "outputs": [
    {
     "data": {
      "text/latex": [
       "$\\displaystyle \\epsilon^{3} \\operatorname{x_{3}}{\\left(t \\right)} + \\epsilon^{2} \\operatorname{x_{2}}{\\left(t \\right)} + \\epsilon \\operatorname{x_{1}}{\\left(t \\right)}$"
      ],
      "text/plain": [
       "epsilon**3*x_3(t) + epsilon**2*x_2(t) + epsilon*x_1(t)"
      ]
     },
     "execution_count": 5,
     "metadata": {},
     "output_type": "execute_result"
    }
   ],
   "source": [
    "x_i = (x1, x2, x3)\n",
    "x_e = sum([epsilon**i * x_i[i-1] for i in range(1,N+1)])\n",
    "x_e"
   ]
  },
  {
   "cell_type": "code",
   "execution_count": 6,
   "id": "aa94747d-a570-4a49-8a0d-b8b1dfa7bf7f",
   "metadata": {},
   "outputs": [
    {
     "data": {
      "text/latex": [
       "$\\displaystyle \\alpha_{2} \\left(\\epsilon^{3} \\operatorname{x_{3}}{\\left(t \\right)} + \\epsilon^{2} \\operatorname{x_{2}}{\\left(t \\right)} + \\epsilon \\operatorname{x_{1}}{\\left(t \\right)}\\right)^{2} + \\alpha_{3} \\left(\\epsilon^{3} \\operatorname{x_{3}}{\\left(t \\right)} + \\epsilon^{2} \\operatorname{x_{2}}{\\left(t \\right)} + \\epsilon \\operatorname{x_{1}}{\\left(t \\right)}\\right)^{3} + \\omega_{0}^{2} \\left(\\epsilon^{3} \\operatorname{x_{3}}{\\left(t \\right)} + \\epsilon^{2} \\operatorname{x_{2}}{\\left(t \\right)} + \\epsilon \\operatorname{x_{1}}{\\left(t \\right)}\\right) + \\frac{\\partial^{2}}{\\partial t^{2}} \\left(\\epsilon^{3} \\operatorname{x_{3}}{\\left(t \\right)} + \\epsilon^{2} \\operatorname{x_{2}}{\\left(t \\right)} + \\epsilon \\operatorname{x_{1}}{\\left(t \\right)}\\right)$"
      ],
      "text/plain": [
       "alpha_2*(epsilon**3*x_3(t) + epsilon**2*x_2(t) + epsilon*x_1(t))**2 + alpha_3*(epsilon**3*x_3(t) + epsilon**2*x_2(t) + epsilon*x_1(t))**3 + omega_0**2*(epsilon**3*x_3(t) + epsilon**2*x_2(t) + epsilon*x_1(t)) + Derivative(epsilon**3*x_3(t) + epsilon**2*x_2(t) + epsilon*x_1(t), (t, 2))"
      ]
     },
     "execution_count": 6,
     "metadata": {},
     "output_type": "execute_result"
    }
   ],
   "source": [
    "# Substitute this into the EOM \n",
    "EOM = EOM.subs(x, x_e)\n",
    "EOM"
   ]
  },
  {
   "cell_type": "code",
   "execution_count": 7,
   "id": "69e389d9-f886-4a0e-8c09-751e8a74668d",
   "metadata": {},
   "outputs": [],
   "source": [
    "EOM = sp.expand(sp.expand(EOM).doit())"
   ]
  },
  {
   "cell_type": "code",
   "execution_count": 8,
   "id": "9f558dcf-1ccb-4f47-8be8-4afa9646fbfb",
   "metadata": {},
   "outputs": [
    {
     "data": {
      "text/latex": [
       "$\\displaystyle \\omega_{0}^{2} \\operatorname{x_{1}}{\\left(t \\right)} + \\frac{d^{2}}{d t^{2}} \\operatorname{x_{1}}{\\left(t \\right)} = 0$"
      ],
      "text/plain": [
       "Eq(omega_0**2*x_1(t) + Derivative(x_1(t), (t, 2)), 0)"
      ]
     },
     "execution_count": 8,
     "metadata": {},
     "output_type": "execute_result"
    }
   ],
   "source": [
    "# Collect the coefficients for the epsilons \n",
    "epsilon_Eq = sp.collect(EOM, epsilon, evaluate=False)\n",
    "epsilon_1_Eq = sp.Eq(epsilon_Eq[epsilon], 0)\n",
    "epsilon_1_Eq"
   ]
  },
  {
   "cell_type": "code",
   "execution_count": 9,
   "id": "09821f39-fa93-4405-94b6-83b87ed56e35",
   "metadata": {},
   "outputs": [
    {
     "data": {
      "text/latex": [
       "$\\displaystyle \\alpha_{2} \\operatorname{x_{1}}^{2}{\\left(t \\right)} + \\omega_{0}^{2} \\operatorname{x_{2}}{\\left(t \\right)} + \\frac{d^{2}}{d t^{2}} \\operatorname{x_{2}}{\\left(t \\right)} = 0$"
      ],
      "text/plain": [
       "Eq(alpha_2*x_1(t)**2 + omega_0**2*x_2(t) + Derivative(x_2(t), (t, 2)), 0)"
      ]
     },
     "execution_count": 9,
     "metadata": {},
     "output_type": "execute_result"
    }
   ],
   "source": [
    "epsilon_2_Eq = sp.Eq(epsilon_Eq[epsilon**2], 0)\n",
    "epsilon_2_Eq"
   ]
  },
  {
   "cell_type": "code",
   "execution_count": 10,
   "id": "862ec095-b166-4ed2-a296-a560a99d2e34",
   "metadata": {},
   "outputs": [
    {
     "data": {
      "text/latex": [
       "$\\displaystyle 2 \\alpha_{2} \\operatorname{x_{1}}{\\left(t \\right)} \\operatorname{x_{2}}{\\left(t \\right)} + \\alpha_{3} \\operatorname{x_{1}}^{3}{\\left(t \\right)} + \\omega_{0}^{2} \\operatorname{x_{3}}{\\left(t \\right)} + \\frac{d^{2}}{d t^{2}} \\operatorname{x_{3}}{\\left(t \\right)} = 0$"
      ],
      "text/plain": [
       "Eq(2*alpha_2*x_1(t)*x_2(t) + alpha_3*x_1(t)**3 + omega_0**2*x_3(t) + Derivative(x_3(t), (t, 2)), 0)"
      ]
     },
     "execution_count": 10,
     "metadata": {},
     "output_type": "execute_result"
    }
   ],
   "source": [
    "epsilon_3_Eq = sp.Eq(epsilon_Eq[epsilon**3], 0)\n",
    "epsilon_3_Eq"
   ]
  },
  {
   "cell_type": "code",
   "execution_count": 11,
   "id": "6ec3cfb4-e0ee-4198-9737-2aa48afa413c",
   "metadata": {},
   "outputs": [
    {
     "data": {
      "text/latex": [
       "$\\displaystyle \\operatorname{x_{1}}{\\left(t \\right)} = C_{1} e^{- i \\omega_{0} t} + C_{2} e^{i \\omega_{0} t}$"
      ],
      "text/plain": [
       "Eq(x_1(t), C1*exp(-I*omega_0*t) + C2*exp(I*omega_0*t))"
      ]
     },
     "execution_count": 11,
     "metadata": {},
     "output_type": "execute_result"
    }
   ],
   "source": [
    "sp.dsolve(epsilon_1_Eq, x1)"
   ]
  },
  {
   "cell_type": "markdown",
   "id": "403c2502-9396-4af7-8753-a3191527ec40",
   "metadata": {},
   "source": [
    "Not as convenient as working in the polar form"
   ]
  },
  {
   "cell_type": "code",
   "execution_count": 12,
   "id": "28c19434-9f7c-4083-8b23-c86da76d3371",
   "metadata": {},
   "outputs": [
    {
     "data": {
      "text/latex": [
       "$\\displaystyle a \\cos{\\left(\\beta + \\omega_{0} t \\right)}$"
      ],
      "text/plain": [
       "a*cos(beta + omega_0*t)"
      ]
     },
     "execution_count": 12,
     "metadata": {},
     "output_type": "execute_result"
    }
   ],
   "source": [
    "a = sp.symbols('a')\n",
    "beta = sp.symbols('beta')\n",
    "x1_polar = a * sp.cos(omega_0 * t + beta)\n",
    "x1_polar"
   ]
  },
  {
   "cell_type": "markdown",
   "id": "b755f9f9-dcd8-402f-ae0a-a7cd23101d21",
   "metadata": {},
   "source": [
    "Updated $\\epsilon$-2 equation "
   ]
  },
  {
   "cell_type": "code",
   "execution_count": 13,
   "id": "0499af63-72fd-40b6-b406-6dee7af3b2ba",
   "metadata": {},
   "outputs": [
    {
     "data": {
      "text/latex": [
       "$\\displaystyle \\frac{a^{2} \\alpha_{2} \\cos{\\left(2 \\beta + 2 \\omega_{0} t \\right)}}{2} + \\frac{a^{2} \\alpha_{2}}{2} + \\omega_{0}^{2} \\operatorname{x_{2}}{\\left(t \\right)} + \\frac{d^{2}}{d t^{2}} \\operatorname{x_{2}}{\\left(t \\right)} = 0$"
      ],
      "text/plain": [
       "Eq(a**2*alpha_2*cos(2*beta + 2*omega_0*t)/2 + a**2*alpha_2/2 + omega_0**2*x_2(t) + Derivative(x_2(t), (t, 2)), 0)"
      ]
     },
     "execution_count": 13,
     "metadata": {},
     "output_type": "execute_result"
    }
   ],
   "source": [
    "epsilon_2_Eq = sp.expand(TR7(epsilon_2_Eq.subs(x1, x1_polar)))\n",
    "epsilon_2_Eq"
   ]
  },
  {
   "cell_type": "code",
   "execution_count": 24,
   "id": "1e83413b-d40b-44b2-86ae-e7659f7b40d6",
   "metadata": {},
   "outputs": [
    {
     "data": {
      "text/latex": [
       "$\\displaystyle \\operatorname{x_{2}}{\\left(t \\right)} = C_{1} e^{- i \\omega_{0} t} + C_{2} e^{i \\omega_{0} t} + \\frac{a^{2} \\alpha_{2} \\cos{\\left(2 \\beta + 2 \\omega_{0} t \\right)}}{6 \\omega_{0}^{2}} - \\frac{a^{2} \\alpha_{2}}{2 \\omega_{0}^{2}}$"
      ],
      "text/plain": [
       "Eq(x_2(t), C1*exp(-I*omega_0*t) + C2*exp(I*omega_0*t) + a**2*alpha_2*cos(2*beta + 2*omega_0*t)/(6*omega_0**2) - a**2*alpha_2/(2*omega_0**2))"
      ]
     },
     "execution_count": 24,
     "metadata": {},
     "output_type": "execute_result"
    }
   ],
   "source": [
    "sp.dsolve(epsilon_2_Eq, x2)"
   ]
  },
  {
   "cell_type": "markdown",
   "id": "d9654b37-91a6-4322-b560-8391a5946524",
   "metadata": {},
   "source": [
    "We only want to keep the particular solution in the above"
   ]
  },
  {
   "cell_type": "code",
   "execution_count": 15,
   "id": "590cf01e-a168-4a4b-9bdd-a529118d7c6d",
   "metadata": {},
   "outputs": [
    {
     "data": {
      "text/latex": [
       "$\\displaystyle \\frac{a^{2} \\alpha_{2} \\left(\\cos{\\left(2 \\beta + 2 \\omega_{0} t \\right)} - 3\\right)}{6 \\omega_{0}^{2}}$"
      ],
      "text/plain": [
       "a**2*alpha_2*(cos(2*beta + 2*omega_0*t) - 3)/(6*omega_0**2)"
      ]
     },
     "execution_count": 15,
     "metadata": {},
     "output_type": "execute_result"
    }
   ],
   "source": [
    "x2_p = alpha[0] * a**2 * (sp.cos(2 * omega_0 * t + 2*beta) - 3)/6/omega_0**2\n",
    "x2_p"
   ]
  },
  {
   "cell_type": "markdown",
   "id": "57fda53e-dd09-4d3a-b5be-f07d756637f1",
   "metadata": {},
   "source": [
    "Updated $\\epsilon$-3 equation"
   ]
  },
  {
   "cell_type": "code",
   "execution_count": 16,
   "id": "ff412c7d-5a0f-40b2-b646-b19ff01feab3",
   "metadata": {},
   "outputs": [
    {
     "data": {
      "text/latex": [
       "$\\displaystyle \\frac{a^{3} \\alpha_{2}^{2} \\left(- 5 \\cos{\\left(\\beta + \\omega_{0} t \\right)} + \\cos{\\left(3 \\beta + 3 \\omega_{0} t \\right)}\\right)}{6 \\omega_{0}^{2}} + a^{3} \\alpha_{3} \\left(\\frac{3 \\cos{\\left(\\beta + \\omega_{0} t \\right)}}{4} + \\frac{\\cos{\\left(3 \\beta + 3 \\omega_{0} t \\right)}}{4}\\right) + \\omega_{0}^{2} \\operatorname{x_{3}}{\\left(t \\right)} + \\frac{d^{2}}{d t^{2}} \\operatorname{x_{3}}{\\left(t \\right)} = 0$"
      ],
      "text/plain": [
       "Eq(a**3*alpha_2**2*(-5*cos(beta + omega_0*t) + cos(3*beta + 3*omega_0*t))/(6*omega_0**2) + a**3*alpha_3*(3*cos(beta + omega_0*t)/4 + cos(3*beta + 3*omega_0*t)/4) + omega_0**2*x_3(t) + Derivative(x_3(t), (t, 2)), 0)"
      ]
     },
     "execution_count": 16,
     "metadata": {},
     "output_type": "execute_result"
    }
   ],
   "source": [
    "epsilon_3_Eq = TR7(epsilon_3_Eq.subs([\n",
    "    (x1, x1_polar), (x2, x2_p)\n",
    "]))\n",
    "epsilon_3_Eq = TR8(epsilon_3_Eq)\n",
    "epsilon_3_Eq"
   ]
  },
  {
   "cell_type": "code",
   "execution_count": 17,
   "id": "6875795f-eb60-4730-bd99-7c33362d03c7",
   "metadata": {},
   "outputs": [
    {
     "data": {
      "text/latex": [
       "$\\displaystyle \\operatorname{x_{3}}{\\left(t \\right)} = C_{1} e^{- i \\omega_{0} t} + C_{2} e^{i \\omega_{0} t} + \\frac{5 a^{3} \\alpha_{2}^{2} t \\sin{\\left(\\beta + \\omega_{0} t \\right)}}{12 \\omega_{0}^{3}} + \\frac{a^{3} \\alpha_{2}^{2} \\cos{\\left(3 \\beta + 3 \\omega_{0} t \\right)}}{48 \\omega_{0}^{4}} - \\frac{3 a^{3} \\alpha_{3} t \\sin{\\left(\\beta + \\omega_{0} t \\right)}}{8 \\omega_{0}} + \\frac{a^{3} \\alpha_{3} \\cos{\\left(3 \\beta + 3 \\omega_{0} t \\right)}}{32 \\omega_{0}^{2}}$"
      ],
      "text/plain": [
       "Eq(x_3(t), C1*exp(-I*omega_0*t) + C2*exp(I*omega_0*t) + 5*a**3*alpha_2**2*t*sin(beta + omega_0*t)/(12*omega_0**3) + a**3*alpha_2**2*cos(3*beta + 3*omega_0*t)/(48*omega_0**4) - 3*a**3*alpha_3*t*sin(beta + omega_0*t)/(8*omega_0) + a**3*alpha_3*cos(3*beta + 3*omega_0*t)/(32*omega_0**2))"
      ]
     },
     "execution_count": 17,
     "metadata": {},
     "output_type": "execute_result"
    }
   ],
   "source": [
    "sp.dsolve(epsilon_3_Eq)"
   ]
  }
 ],
 "metadata": {
  "kernelspec": {
   "display_name": "Python 3 (ipykernel)",
   "language": "python",
   "name": "python3"
  },
  "language_info": {
   "codemirror_mode": {
    "name": "ipython",
    "version": 3
   },
   "file_extension": ".py",
   "mimetype": "text/x-python",
   "name": "python",
   "nbconvert_exporter": "python",
   "pygments_lexer": "ipython3",
   "version": "3.8.8"
  }
 },
 "nbformat": 4,
 "nbformat_minor": 5
}
